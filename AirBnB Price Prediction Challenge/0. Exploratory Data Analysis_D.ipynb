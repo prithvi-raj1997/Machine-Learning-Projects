{
 "cells": [
  {
   "cell_type": "markdown",
   "metadata": {},
   "source": [
    "## Introduction : Machine learning"
   ]
  },
  {
   "cell_type": "markdown",
   "metadata": {},
   "source": [
    "This is a supervised, regression machine learning task: given a set of data with targets (in this case the log_price) included, we want to train a model that can learn to map the features (also known as the explanatory variables) to the target.\n",
    "\n",
    "* Supervised problem: we are given both the features and the target\n",
    "* Regression problem: the target is a continous variable, in this case ranging from 1.61-7.6\n",
    "\n",
    "During training, we want the model to learn the relationship between the features and the log_price so we give it both the features and the answer. Then, to test how well the model has learned, we evaluate it on a testing set where it has never seen the answers!"
   ]
  },
  {
   "cell_type": "markdown",
   "metadata": {},
   "source": [
    "### Imports"
   ]
  },
  {
   "cell_type": "code",
   "execution_count": 1,
   "metadata": {},
   "outputs": [],
   "source": [
    "# Importing essential libraries\n",
    "\n",
    "# pandas and numpy for data manipulation\n",
    "import numpy as np\n",
    "import pandas as pd\n",
    "\n",
    "# matplotlib and seaborn for visuilization\n",
    "import matplotlib.pyplot as plt\n",
    "import seaborn as sns\n",
    "%matplotlib inline\n",
    "\n",
    "# Display all the columns of the dataframe\n",
    "pd.pandas.set_option('display.max_columns',None)\n",
    "\n",
    "# No warnings\n",
    "import warnings\n",
    "warnings.filterwarnings('ignore')"
   ]
  },
  {
   "cell_type": "markdown",
   "metadata": {},
   "source": [
    "### Load in the Data and Examine"
   ]
  },
  {
   "cell_type": "code",
   "execution_count": 2,
   "metadata": {},
   "outputs": [],
   "source": [
    "#Data frame with borders"
   ]
  },
  {
   "cell_type": "code",
   "execution_count": 3,
   "metadata": {},
   "outputs": [],
   "source": [
    "# %%HTML\n",
    "# <style type=\"text/css\">\n",
    "# table.dataframe td, table.dataframe th {\n",
    "#     border: 1px  black solid !important;\n",
    "#   color: black !important;\n",
    "# }\n",
    "# </style>"
   ]
  },
  {
   "cell_type": "code",
   "execution_count": 4,
   "metadata": {},
   "outputs": [],
   "source": [
    "# read in data into dataframe\n",
    "file_train=r'D:\\Deloitte\\case study\\train.csv'\n",
    "file_test=r'D:\\Deloitte\\case study\\test.xlsx'\n",
    "\n",
    "ab_train=pd.read_csv(file_train)\n",
    "ab_test=pd.read_excel(file_test)"
   ]
  },
  {
   "cell_type": "code",
   "execution_count": 5,
   "metadata": {},
   "outputs": [
    {
     "data": {
      "text/html": [
       "<div>\n",
       "<style scoped>\n",
       "    .dataframe tbody tr th:only-of-type {\n",
       "        vertical-align: middle;\n",
       "    }\n",
       "\n",
       "    .dataframe tbody tr th {\n",
       "        vertical-align: top;\n",
       "    }\n",
       "\n",
       "    .dataframe thead th {\n",
       "        text-align: right;\n",
       "    }\n",
       "</style>\n",
       "<table border=\"1\" class=\"dataframe\">\n",
       "  <thead>\n",
       "    <tr style=\"text-align: right;\">\n",
       "      <th></th>\n",
       "      <th>id</th>\n",
       "      <th>property_type</th>\n",
       "      <th>room_type</th>\n",
       "      <th>amenities</th>\n",
       "      <th>accommodates</th>\n",
       "      <th>bathrooms</th>\n",
       "      <th>bed_type</th>\n",
       "      <th>cancellation_policy</th>\n",
       "      <th>cleaning_fee</th>\n",
       "      <th>city</th>\n",
       "      <th>description</th>\n",
       "      <th>first_review</th>\n",
       "      <th>host_has_profile_pic</th>\n",
       "      <th>host_identity_verified</th>\n",
       "      <th>host_response_rate</th>\n",
       "      <th>host_since</th>\n",
       "      <th>instant_bookable</th>\n",
       "      <th>last_review</th>\n",
       "      <th>latitude</th>\n",
       "      <th>longitude</th>\n",
       "      <th>name</th>\n",
       "      <th>neighbourhood</th>\n",
       "      <th>number_of_reviews</th>\n",
       "      <th>review_scores_rating</th>\n",
       "      <th>thumbnail_url</th>\n",
       "      <th>zipcode</th>\n",
       "      <th>bedrooms</th>\n",
       "      <th>beds</th>\n",
       "      <th>log_price</th>\n",
       "      <th></th>\n",
       "    </tr>\n",
       "  </thead>\n",
       "  <tbody>\n",
       "    <tr>\n",
       "      <th>0</th>\n",
       "      <td>6901257</td>\n",
       "      <td>Apartment</td>\n",
       "      <td>Entire home/apt</td>\n",
       "      <td>{\"Wireless Internet\",\"Air conditioning\",Kitche...</td>\n",
       "      <td>3</td>\n",
       "      <td>1.0</td>\n",
       "      <td>Real Bed</td>\n",
       "      <td>strict</td>\n",
       "      <td>True</td>\n",
       "      <td>NYC</td>\n",
       "      <td>Beautiful, sunlit brownstone 1-bedroom in the ...</td>\n",
       "      <td>6/18/2016</td>\n",
       "      <td>t</td>\n",
       "      <td>t</td>\n",
       "      <td>NaN</td>\n",
       "      <td>3/26/2012</td>\n",
       "      <td>f</td>\n",
       "      <td>7/18/2016</td>\n",
       "      <td>40.696524</td>\n",
       "      <td>-73.991617</td>\n",
       "      <td>Beautiful brownstone 1-bedroom</td>\n",
       "      <td>Brooklyn Heights</td>\n",
       "      <td>2</td>\n",
       "      <td>100.0</td>\n",
       "      <td>https://a0.muscache.com/im/pictures/6d7cbbf7-c...</td>\n",
       "      <td>11201</td>\n",
       "      <td>1.0</td>\n",
       "      <td>1.0</td>\n",
       "      <td>5.010635</td>\n",
       "      <td>NaN</td>\n",
       "    </tr>\n",
       "    <tr>\n",
       "      <th>1</th>\n",
       "      <td>6304928</td>\n",
       "      <td>Apartment</td>\n",
       "      <td>Entire home/apt</td>\n",
       "      <td>{\"Wireless Internet\",\"Air conditioning\",Kitche...</td>\n",
       "      <td>7</td>\n",
       "      <td>1.0</td>\n",
       "      <td>Real Bed</td>\n",
       "      <td>strict</td>\n",
       "      <td>True</td>\n",
       "      <td>NYC</td>\n",
       "      <td>Enjoy travelling during your stay in Manhattan...</td>\n",
       "      <td>8/5/2017</td>\n",
       "      <td>t</td>\n",
       "      <td>f</td>\n",
       "      <td>100%</td>\n",
       "      <td>6/19/2017</td>\n",
       "      <td>t</td>\n",
       "      <td>9/23/2017</td>\n",
       "      <td>40.766115</td>\n",
       "      <td>-73.989040</td>\n",
       "      <td>Superb 3BR Apt Located Near Times Square</td>\n",
       "      <td>Hell's Kitchen</td>\n",
       "      <td>6</td>\n",
       "      <td>93.0</td>\n",
       "      <td>https://a0.muscache.com/im/pictures/348a55fe-4...</td>\n",
       "      <td>10019</td>\n",
       "      <td>3.0</td>\n",
       "      <td>3.0</td>\n",
       "      <td>5.129899</td>\n",
       "      <td>NaN</td>\n",
       "    </tr>\n",
       "    <tr>\n",
       "      <th>2</th>\n",
       "      <td>7919400</td>\n",
       "      <td>Apartment</td>\n",
       "      <td>Entire home/apt</td>\n",
       "      <td>{TV,\"Cable TV\",\"Wireless Internet\",\"Air condit...</td>\n",
       "      <td>5</td>\n",
       "      <td>1.0</td>\n",
       "      <td>Real Bed</td>\n",
       "      <td>moderate</td>\n",
       "      <td>True</td>\n",
       "      <td>NYC</td>\n",
       "      <td>The Oasis comes complete with a full backyard ...</td>\n",
       "      <td>4/30/2017</td>\n",
       "      <td>t</td>\n",
       "      <td>t</td>\n",
       "      <td>100%</td>\n",
       "      <td>10/25/2016</td>\n",
       "      <td>t</td>\n",
       "      <td>9/14/2017</td>\n",
       "      <td>40.808110</td>\n",
       "      <td>-73.943756</td>\n",
       "      <td>The Garden Oasis</td>\n",
       "      <td>Harlem</td>\n",
       "      <td>10</td>\n",
       "      <td>92.0</td>\n",
       "      <td>https://a0.muscache.com/im/pictures/6fae5362-9...</td>\n",
       "      <td>10027</td>\n",
       "      <td>1.0</td>\n",
       "      <td>3.0</td>\n",
       "      <td>4.976734</td>\n",
       "      <td>NaN</td>\n",
       "    </tr>\n",
       "    <tr>\n",
       "      <th>3</th>\n",
       "      <td>13418779</td>\n",
       "      <td>House</td>\n",
       "      <td>Entire home/apt</td>\n",
       "      <td>{TV,\"Cable TV\",Internet,\"Wireless Internet\",Ki...</td>\n",
       "      <td>4</td>\n",
       "      <td>1.0</td>\n",
       "      <td>Real Bed</td>\n",
       "      <td>flexible</td>\n",
       "      <td>True</td>\n",
       "      <td>SF</td>\n",
       "      <td>This light-filled home-away-from-home is super...</td>\n",
       "      <td>NaN</td>\n",
       "      <td>t</td>\n",
       "      <td>t</td>\n",
       "      <td>NaN</td>\n",
       "      <td>4/19/2015</td>\n",
       "      <td>f</td>\n",
       "      <td>NaN</td>\n",
       "      <td>37.772004</td>\n",
       "      <td>-122.431619</td>\n",
       "      <td>Beautiful Flat in the Heart of SF!</td>\n",
       "      <td>Lower Haight</td>\n",
       "      <td>0</td>\n",
       "      <td>NaN</td>\n",
       "      <td>https://a0.muscache.com/im/pictures/72208dad-9...</td>\n",
       "      <td>94117</td>\n",
       "      <td>2.0</td>\n",
       "      <td>2.0</td>\n",
       "      <td>6.620073</td>\n",
       "      <td>NaN</td>\n",
       "    </tr>\n",
       "    <tr>\n",
       "      <th>4</th>\n",
       "      <td>3808709</td>\n",
       "      <td>Apartment</td>\n",
       "      <td>Entire home/apt</td>\n",
       "      <td>{TV,Internet,\"Wireless Internet\",\"Air conditio...</td>\n",
       "      <td>2</td>\n",
       "      <td>1.0</td>\n",
       "      <td>Real Bed</td>\n",
       "      <td>moderate</td>\n",
       "      <td>True</td>\n",
       "      <td>DC</td>\n",
       "      <td>Cool, cozy, and comfortable studio located in ...</td>\n",
       "      <td>5/12/2015</td>\n",
       "      <td>t</td>\n",
       "      <td>t</td>\n",
       "      <td>100%</td>\n",
       "      <td>3/1/2015</td>\n",
       "      <td>t</td>\n",
       "      <td>1/22/2017</td>\n",
       "      <td>38.925627</td>\n",
       "      <td>-77.034596</td>\n",
       "      <td>Great studio in midtown DC</td>\n",
       "      <td>Columbia Heights</td>\n",
       "      <td>4</td>\n",
       "      <td>40.0</td>\n",
       "      <td>NaN</td>\n",
       "      <td>20009</td>\n",
       "      <td>0.0</td>\n",
       "      <td>1.0</td>\n",
       "      <td>4.744932</td>\n",
       "      <td>NaN</td>\n",
       "    </tr>\n",
       "  </tbody>\n",
       "</table>\n",
       "</div>"
      ],
      "text/plain": [
       "         id property_type        room_type  \\\n",
       "0   6901257     Apartment  Entire home/apt   \n",
       "1   6304928     Apartment  Entire home/apt   \n",
       "2   7919400     Apartment  Entire home/apt   \n",
       "3  13418779         House  Entire home/apt   \n",
       "4   3808709     Apartment  Entire home/apt   \n",
       "\n",
       "                                           amenities  accommodates  bathrooms  \\\n",
       "0  {\"Wireless Internet\",\"Air conditioning\",Kitche...             3        1.0   \n",
       "1  {\"Wireless Internet\",\"Air conditioning\",Kitche...             7        1.0   \n",
       "2  {TV,\"Cable TV\",\"Wireless Internet\",\"Air condit...             5        1.0   \n",
       "3  {TV,\"Cable TV\",Internet,\"Wireless Internet\",Ki...             4        1.0   \n",
       "4  {TV,Internet,\"Wireless Internet\",\"Air conditio...             2        1.0   \n",
       "\n",
       "   bed_type cancellation_policy  cleaning_fee city  \\\n",
       "0  Real Bed              strict          True  NYC   \n",
       "1  Real Bed              strict          True  NYC   \n",
       "2  Real Bed            moderate          True  NYC   \n",
       "3  Real Bed            flexible          True   SF   \n",
       "4  Real Bed            moderate          True   DC   \n",
       "\n",
       "                                         description first_review  \\\n",
       "0  Beautiful, sunlit brownstone 1-bedroom in the ...    6/18/2016   \n",
       "1  Enjoy travelling during your stay in Manhattan...     8/5/2017   \n",
       "2  The Oasis comes complete with a full backyard ...    4/30/2017   \n",
       "3  This light-filled home-away-from-home is super...          NaN   \n",
       "4  Cool, cozy, and comfortable studio located in ...    5/12/2015   \n",
       "\n",
       "  host_has_profile_pic host_identity_verified host_response_rate  host_since  \\\n",
       "0                    t                      t                NaN   3/26/2012   \n",
       "1                    t                      f               100%   6/19/2017   \n",
       "2                    t                      t               100%  10/25/2016   \n",
       "3                    t                      t                NaN   4/19/2015   \n",
       "4                    t                      t               100%    3/1/2015   \n",
       "\n",
       "  instant_bookable last_review   latitude   longitude  \\\n",
       "0                f   7/18/2016  40.696524  -73.991617   \n",
       "1                t   9/23/2017  40.766115  -73.989040   \n",
       "2                t   9/14/2017  40.808110  -73.943756   \n",
       "3                f         NaN  37.772004 -122.431619   \n",
       "4                t   1/22/2017  38.925627  -77.034596   \n",
       "\n",
       "                                       name     neighbourhood  \\\n",
       "0            Beautiful brownstone 1-bedroom  Brooklyn Heights   \n",
       "1  Superb 3BR Apt Located Near Times Square    Hell's Kitchen   \n",
       "2                          The Garden Oasis            Harlem   \n",
       "3        Beautiful Flat in the Heart of SF!      Lower Haight   \n",
       "4                Great studio in midtown DC  Columbia Heights   \n",
       "\n",
       "   number_of_reviews  review_scores_rating  \\\n",
       "0                  2                 100.0   \n",
       "1                  6                  93.0   \n",
       "2                 10                  92.0   \n",
       "3                  0                   NaN   \n",
       "4                  4                  40.0   \n",
       "\n",
       "                                       thumbnail_url zipcode  bedrooms  beds  \\\n",
       "0  https://a0.muscache.com/im/pictures/6d7cbbf7-c...   11201       1.0   1.0   \n",
       "1  https://a0.muscache.com/im/pictures/348a55fe-4...   10019       3.0   3.0   \n",
       "2  https://a0.muscache.com/im/pictures/6fae5362-9...   10027       1.0   3.0   \n",
       "3  https://a0.muscache.com/im/pictures/72208dad-9...   94117       2.0   2.0   \n",
       "4                                                NaN   20009       0.0   1.0   \n",
       "\n",
       "   log_price      \n",
       "0   5.010635 NaN  \n",
       "1   5.129899 NaN  \n",
       "2   4.976734 NaN  \n",
       "3   6.620073 NaN  \n",
       "4   4.744932 NaN  "
      ]
     },
     "execution_count": 5,
     "metadata": {},
     "output_type": "execute_result"
    }
   ],
   "source": [
    "# Returns top 5 rows from the train dataset\n",
    "ab_train.head()"
   ]
  },
  {
   "cell_type": "code",
   "execution_count": 6,
   "metadata": {},
   "outputs": [
    {
     "data": {
      "text/html": [
       "<div>\n",
       "<style scoped>\n",
       "    .dataframe tbody tr th:only-of-type {\n",
       "        vertical-align: middle;\n",
       "    }\n",
       "\n",
       "    .dataframe tbody tr th {\n",
       "        vertical-align: top;\n",
       "    }\n",
       "\n",
       "    .dataframe thead th {\n",
       "        text-align: right;\n",
       "    }\n",
       "</style>\n",
       "<table border=\"1\" class=\"dataframe\">\n",
       "  <thead>\n",
       "    <tr style=\"text-align: right;\">\n",
       "      <th></th>\n",
       "      <th>id</th>\n",
       "      <th>property_type</th>\n",
       "      <th>room_type</th>\n",
       "      <th>amenities</th>\n",
       "      <th>accommodates</th>\n",
       "      <th>bathrooms</th>\n",
       "      <th>bed_type</th>\n",
       "      <th>cancellation_policy</th>\n",
       "      <th>cleaning_fee</th>\n",
       "      <th>city</th>\n",
       "      <th>description</th>\n",
       "      <th>first_review</th>\n",
       "      <th>host_has_profile_pic</th>\n",
       "      <th>host_identity_verified</th>\n",
       "      <th>host_response_rate</th>\n",
       "      <th>host_since</th>\n",
       "      <th>instant_bookable</th>\n",
       "      <th>last_review</th>\n",
       "      <th>latitude</th>\n",
       "      <th>longitude</th>\n",
       "      <th>name</th>\n",
       "      <th>neighbourhood</th>\n",
       "      <th>number_of_reviews</th>\n",
       "      <th>review_scores_rating</th>\n",
       "      <th>thumbnail_url</th>\n",
       "      <th>zipcode</th>\n",
       "      <th>bedrooms</th>\n",
       "      <th>beds</th>\n",
       "      <th></th>\n",
       "    </tr>\n",
       "  </thead>\n",
       "  <tbody>\n",
       "    <tr>\n",
       "      <th>0</th>\n",
       "      <td>5979389</td>\n",
       "      <td>Apartment</td>\n",
       "      <td>Private room</td>\n",
       "      <td>{\"Wireless Internet\",\"Air conditioning\",Kitche...</td>\n",
       "      <td>2</td>\n",
       "      <td>1.0</td>\n",
       "      <td>Real Bed</td>\n",
       "      <td>strict</td>\n",
       "      <td>True</td>\n",
       "      <td>NYC</td>\n",
       "      <td>2 bedroom apartment 3 blocks away from the Dek...</td>\n",
       "      <td>NaT</td>\n",
       "      <td>t</td>\n",
       "      <td>t</td>\n",
       "      <td>1.0</td>\n",
       "      <td>2015-05-29</td>\n",
       "      <td>f</td>\n",
       "      <td>NaT</td>\n",
       "      <td>40.705948</td>\n",
       "      <td>-73.915318</td>\n",
       "      <td>Bedroom in Renovated Apartment with Washer/Dryer</td>\n",
       "      <td>Ridgewood</td>\n",
       "      <td>0</td>\n",
       "      <td>NaN</td>\n",
       "      <td>https://a0.muscache.com/im/pictures/b43127ee-b...</td>\n",
       "      <td>11385</td>\n",
       "      <td>1.0</td>\n",
       "      <td>1.0</td>\n",
       "      <td>NaN</td>\n",
       "    </tr>\n",
       "    <tr>\n",
       "      <th>1</th>\n",
       "      <td>13488121</td>\n",
       "      <td>Apartment</td>\n",
       "      <td>Entire home/apt</td>\n",
       "      <td>{TV,\"Cable TV\",Internet,\"Wireless Internet\",\"A...</td>\n",
       "      <td>4</td>\n",
       "      <td>1.0</td>\n",
       "      <td>Real Bed</td>\n",
       "      <td>moderate</td>\n",
       "      <td>True</td>\n",
       "      <td>LA</td>\n",
       "      <td>This 2015 renovation was done with an eye to b...</td>\n",
       "      <td>2015-11-16</td>\n",
       "      <td>t</td>\n",
       "      <td>t</td>\n",
       "      <td>1.0</td>\n",
       "      <td>2015-08-17</td>\n",
       "      <td>f</td>\n",
       "      <td>2017-04-23</td>\n",
       "      <td>34.118408</td>\n",
       "      <td>-118.317929</td>\n",
       "      <td>Peaceful and Quiet Hollywood Hills</td>\n",
       "      <td>Hollywood Hills</td>\n",
       "      <td>24</td>\n",
       "      <td>100.0</td>\n",
       "      <td>https://a0.muscache.com/im/pictures/894d8ca5-7...</td>\n",
       "      <td>90068</td>\n",
       "      <td>1.0</td>\n",
       "      <td>1.0</td>\n",
       "      <td>NaN</td>\n",
       "    </tr>\n",
       "    <tr>\n",
       "      <th>2</th>\n",
       "      <td>8121643</td>\n",
       "      <td>Apartment</td>\n",
       "      <td>Private room</td>\n",
       "      <td>{TV,\"Cable TV\",Internet,\"Wireless Internet\",\"A...</td>\n",
       "      <td>2</td>\n",
       "      <td>1.0</td>\n",
       "      <td>Real Bed</td>\n",
       "      <td>flexible</td>\n",
       "      <td>False</td>\n",
       "      <td>NYC</td>\n",
       "      <td>Apt features shared living room w/ Apple TV.  ...</td>\n",
       "      <td>NaT</td>\n",
       "      <td>t</td>\n",
       "      <td>f</td>\n",
       "      <td>NaN</td>\n",
       "      <td>2012-06-18</td>\n",
       "      <td>f</td>\n",
       "      <td>NaT</td>\n",
       "      <td>40.707888</td>\n",
       "      <td>-74.015211</td>\n",
       "      <td>Luxury, doorman Building- FIDI</td>\n",
       "      <td>Financial District</td>\n",
       "      <td>0</td>\n",
       "      <td>NaN</td>\n",
       "      <td>NaN</td>\n",
       "      <td>10006</td>\n",
       "      <td>1.0</td>\n",
       "      <td>1.0</td>\n",
       "      <td>NaN</td>\n",
       "    </tr>\n",
       "    <tr>\n",
       "      <th>3</th>\n",
       "      <td>16490010</td>\n",
       "      <td>Apartment</td>\n",
       "      <td>Private room</td>\n",
       "      <td>{Internet,\"Wireless Internet\",\"Air conditionin...</td>\n",
       "      <td>2</td>\n",
       "      <td>1.0</td>\n",
       "      <td>Real Bed</td>\n",
       "      <td>flexible</td>\n",
       "      <td>True</td>\n",
       "      <td>NYC</td>\n",
       "      <td>Our home is equidistance to the L and G trains...</td>\n",
       "      <td>2016-09-29</td>\n",
       "      <td>t</td>\n",
       "      <td>t</td>\n",
       "      <td>1.0</td>\n",
       "      <td>2011-12-12</td>\n",
       "      <td>f</td>\n",
       "      <td>2017-09-24</td>\n",
       "      <td>40.721388</td>\n",
       "      <td>-73.945642</td>\n",
       "      <td>Cozy room in sunny historic Greenpoint home</td>\n",
       "      <td>Greenpoint</td>\n",
       "      <td>12</td>\n",
       "      <td>98.0</td>\n",
       "      <td>https://a0.muscache.com/im/pictures/6c99615c-4...</td>\n",
       "      <td>11222</td>\n",
       "      <td>1.0</td>\n",
       "      <td>1.0</td>\n",
       "      <td>NaN</td>\n",
       "    </tr>\n",
       "    <tr>\n",
       "      <th>4</th>\n",
       "      <td>16274069</td>\n",
       "      <td>Apartment</td>\n",
       "      <td>Entire home/apt</td>\n",
       "      <td>{TV,Internet,\"Wireless Internet\",\"Air conditio...</td>\n",
       "      <td>4</td>\n",
       "      <td>1.0</td>\n",
       "      <td>Real Bed</td>\n",
       "      <td>moderate</td>\n",
       "      <td>True</td>\n",
       "      <td>NYC</td>\n",
       "      <td>JUST 20 MINUTES BY TRAIN TO MANHATTAN - AFFORD...</td>\n",
       "      <td>2015-01-05</td>\n",
       "      <td>t</td>\n",
       "      <td>f</td>\n",
       "      <td>1.0</td>\n",
       "      <td>2014-11-02</td>\n",
       "      <td>f</td>\n",
       "      <td>2017-09-14</td>\n",
       "      <td>40.682556</td>\n",
       "      <td>-73.943259</td>\n",
       "      <td>B's Suite</td>\n",
       "      <td>Bedford-Stuyvesant</td>\n",
       "      <td>13</td>\n",
       "      <td>92.0</td>\n",
       "      <td>https://a0.muscache.com/im/pictures/56275358/c...</td>\n",
       "      <td>11216</td>\n",
       "      <td>2.0</td>\n",
       "      <td>3.0</td>\n",
       "      <td>NaN</td>\n",
       "    </tr>\n",
       "  </tbody>\n",
       "</table>\n",
       "</div>"
      ],
      "text/plain": [
       "         id property_type        room_type  \\\n",
       "0   5979389     Apartment     Private room   \n",
       "1  13488121     Apartment  Entire home/apt   \n",
       "2   8121643     Apartment     Private room   \n",
       "3  16490010     Apartment     Private room   \n",
       "4  16274069     Apartment  Entire home/apt   \n",
       "\n",
       "                                           amenities  accommodates  bathrooms  \\\n",
       "0  {\"Wireless Internet\",\"Air conditioning\",Kitche...             2        1.0   \n",
       "1  {TV,\"Cable TV\",Internet,\"Wireless Internet\",\"A...             4        1.0   \n",
       "2  {TV,\"Cable TV\",Internet,\"Wireless Internet\",\"A...             2        1.0   \n",
       "3  {Internet,\"Wireless Internet\",\"Air conditionin...             2        1.0   \n",
       "4  {TV,Internet,\"Wireless Internet\",\"Air conditio...             4        1.0   \n",
       "\n",
       "   bed_type cancellation_policy  cleaning_fee city  \\\n",
       "0  Real Bed              strict          True  NYC   \n",
       "1  Real Bed            moderate          True   LA   \n",
       "2  Real Bed            flexible         False  NYC   \n",
       "3  Real Bed            flexible          True  NYC   \n",
       "4  Real Bed            moderate          True  NYC   \n",
       "\n",
       "                                         description first_review  \\\n",
       "0  2 bedroom apartment 3 blocks away from the Dek...          NaT   \n",
       "1  This 2015 renovation was done with an eye to b...   2015-11-16   \n",
       "2  Apt features shared living room w/ Apple TV.  ...          NaT   \n",
       "3  Our home is equidistance to the L and G trains...   2016-09-29   \n",
       "4  JUST 20 MINUTES BY TRAIN TO MANHATTAN - AFFORD...   2015-01-05   \n",
       "\n",
       "  host_has_profile_pic host_identity_verified  host_response_rate host_since  \\\n",
       "0                    t                      t                 1.0 2015-05-29   \n",
       "1                    t                      t                 1.0 2015-08-17   \n",
       "2                    t                      f                 NaN 2012-06-18   \n",
       "3                    t                      t                 1.0 2011-12-12   \n",
       "4                    t                      f                 1.0 2014-11-02   \n",
       "\n",
       "  instant_bookable last_review   latitude   longitude  \\\n",
       "0                f         NaT  40.705948  -73.915318   \n",
       "1                f  2017-04-23  34.118408 -118.317929   \n",
       "2                f         NaT  40.707888  -74.015211   \n",
       "3                f  2017-09-24  40.721388  -73.945642   \n",
       "4                f  2017-09-14  40.682556  -73.943259   \n",
       "\n",
       "                                               name       neighbourhood  \\\n",
       "0  Bedroom in Renovated Apartment with Washer/Dryer           Ridgewood   \n",
       "1                Peaceful and Quiet Hollywood Hills     Hollywood Hills   \n",
       "2                    Luxury, doorman Building- FIDI  Financial District   \n",
       "3       Cozy room in sunny historic Greenpoint home          Greenpoint   \n",
       "4                                         B's Suite  Bedford-Stuyvesant   \n",
       "\n",
       "   number_of_reviews  review_scores_rating  \\\n",
       "0                  0                   NaN   \n",
       "1                 24                 100.0   \n",
       "2                  0                   NaN   \n",
       "3                 12                  98.0   \n",
       "4                 13                  92.0   \n",
       "\n",
       "                                       thumbnail_url zipcode  bedrooms  beds  \\\n",
       "0  https://a0.muscache.com/im/pictures/b43127ee-b...   11385       1.0   1.0   \n",
       "1  https://a0.muscache.com/im/pictures/894d8ca5-7...   90068       1.0   1.0   \n",
       "2                                                NaN   10006       1.0   1.0   \n",
       "3  https://a0.muscache.com/im/pictures/6c99615c-4...   11222       1.0   1.0   \n",
       "4  https://a0.muscache.com/im/pictures/56275358/c...   11216       2.0   3.0   \n",
       "\n",
       "       \n",
       "0 NaN  \n",
       "1 NaN  \n",
       "2 NaN  \n",
       "3 NaN  \n",
       "4 NaN  "
      ]
     },
     "execution_count": 6,
     "metadata": {},
     "output_type": "execute_result"
    }
   ],
   "source": [
    "# Returns top 5 rows from the test dataset\n",
    "ab_test.head()"
   ]
  },
  {
   "cell_type": "code",
   "execution_count": 7,
   "metadata": {},
   "outputs": [
    {
     "name": "stdout",
     "output_type": "stream",
     "text": [
      "shape of train data: (49999, 30)\n"
     ]
    }
   ],
   "source": [
    "# Returns the number of Rows and Columns in train data\n",
    "print('shape of train data: {}'.format(ab_train.shape))"
   ]
  },
  {
   "cell_type": "code",
   "execution_count": 8,
   "metadata": {},
   "outputs": [
    {
     "name": "stdout",
     "output_type": "stream",
     "text": [
      "shape of test data: (24111, 29)\n"
     ]
    }
   ],
   "source": [
    "# Returns the number of Rows and Columns in test data\n",
    "print('shape of test data: {}'.format(ab_test.shape))"
   ]
  },
  {
   "cell_type": "code",
   "execution_count": 9,
   "metadata": {},
   "outputs": [
    {
     "name": "stdout",
     "output_type": "stream",
     "text": [
      "<class 'pandas.core.frame.DataFrame'>\n",
      "RangeIndex: 49999 entries, 0 to 49998\n",
      "Data columns (total 30 columns):\n",
      " #   Column                  Non-Null Count  Dtype  \n",
      "---  ------                  --------------  -----  \n",
      " 0   id                      49999 non-null  int64  \n",
      " 1   property_type           49999 non-null  object \n",
      " 2   room_type               49999 non-null  object \n",
      " 3   amenities               49999 non-null  object \n",
      " 4   accommodates            49999 non-null  int64  \n",
      " 5   bathrooms               49853 non-null  float64\n",
      " 6   bed_type                49999 non-null  object \n",
      " 7   cancellation_policy     49999 non-null  object \n",
      " 8   cleaning_fee            49999 non-null  bool   \n",
      " 9   city                    49999 non-null  object \n",
      " 10  description             49999 non-null  object \n",
      " 11  first_review            39288 non-null  object \n",
      " 12  host_has_profile_pic    49872 non-null  object \n",
      " 13  host_identity_verified  49872 non-null  object \n",
      " 14  host_response_rate      37661 non-null  object \n",
      " 15  host_since              49872 non-null  object \n",
      " 16  instant_bookable        49999 non-null  object \n",
      " 17  last_review             39316 non-null  object \n",
      " 18  latitude                49999 non-null  float64\n",
      " 19  longitude               49999 non-null  float64\n",
      " 20  name                    49999 non-null  object \n",
      " 21  neighbourhood           45382 non-null  object \n",
      " 22  number_of_reviews       49999 non-null  int64  \n",
      " 23  review_scores_rating    38698 non-null  float64\n",
      " 24  thumbnail_url           44404 non-null  object \n",
      " 25  zipcode                 49359 non-null  object \n",
      " 26  bedrooms                49937 non-null  float64\n",
      " 27  beds                    49908 non-null  float64\n",
      " 28  log_price               49999 non-null  float64\n",
      " 29                          0 non-null      float64\n",
      "dtypes: bool(1), float64(8), int64(3), object(18)\n",
      "memory usage: 11.1+ MB\n"
     ]
    }
   ],
   "source": [
    "# Returns basic information on all columns\n",
    "ab_train.info()"
   ]
  },
  {
   "cell_type": "code",
   "execution_count": 10,
   "metadata": {},
   "outputs": [
    {
     "data": {
      "text/html": [
       "<div>\n",
       "<style scoped>\n",
       "    .dataframe tbody tr th:only-of-type {\n",
       "        vertical-align: middle;\n",
       "    }\n",
       "\n",
       "    .dataframe tbody tr th {\n",
       "        vertical-align: top;\n",
       "    }\n",
       "\n",
       "    .dataframe thead th {\n",
       "        text-align: right;\n",
       "    }\n",
       "</style>\n",
       "<table border=\"1\" class=\"dataframe\">\n",
       "  <thead>\n",
       "    <tr style=\"text-align: right;\">\n",
       "      <th></th>\n",
       "      <th>count</th>\n",
       "      <th>mean</th>\n",
       "      <th>std</th>\n",
       "      <th>min</th>\n",
       "      <th>25%</th>\n",
       "      <th>50%</th>\n",
       "      <th>75%</th>\n",
       "      <th>max</th>\n",
       "    </tr>\n",
       "  </thead>\n",
       "  <tbody>\n",
       "    <tr>\n",
       "      <th>id</th>\n",
       "      <td>49999.0</td>\n",
       "      <td>1.125866e+07</td>\n",
       "      <td>6.086302e+06</td>\n",
       "      <td>344.000000</td>\n",
       "      <td>6.245858e+06</td>\n",
       "      <td>1.225244e+07</td>\n",
       "      <td>1.641108e+07</td>\n",
       "      <td>2.122836e+07</td>\n",
       "    </tr>\n",
       "    <tr>\n",
       "      <th>accommodates</th>\n",
       "      <td>49999.0</td>\n",
       "      <td>3.157563e+00</td>\n",
       "      <td>2.165059e+00</td>\n",
       "      <td>1.000000</td>\n",
       "      <td>2.000000e+00</td>\n",
       "      <td>2.000000e+00</td>\n",
       "      <td>4.000000e+00</td>\n",
       "      <td>1.600000e+01</td>\n",
       "    </tr>\n",
       "    <tr>\n",
       "      <th>bathrooms</th>\n",
       "      <td>49853.0</td>\n",
       "      <td>1.235151e+00</td>\n",
       "      <td>5.820819e-01</td>\n",
       "      <td>0.000000</td>\n",
       "      <td>1.000000e+00</td>\n",
       "      <td>1.000000e+00</td>\n",
       "      <td>1.000000e+00</td>\n",
       "      <td>8.000000e+00</td>\n",
       "    </tr>\n",
       "    <tr>\n",
       "      <th>latitude</th>\n",
       "      <td>49999.0</td>\n",
       "      <td>3.844022e+01</td>\n",
       "      <td>3.082650e+00</td>\n",
       "      <td>33.338905</td>\n",
       "      <td>3.412487e+01</td>\n",
       "      <td>4.066220e+01</td>\n",
       "      <td>4.074598e+01</td>\n",
       "      <td>4.239044e+01</td>\n",
       "    </tr>\n",
       "    <tr>\n",
       "      <th>longitude</th>\n",
       "      <td>49999.0</td>\n",
       "      <td>-9.244626e+01</td>\n",
       "      <td>2.171982e+01</td>\n",
       "      <td>-122.511500</td>\n",
       "      <td>-1.183431e+02</td>\n",
       "      <td>-7.699768e+01</td>\n",
       "      <td>-7.395460e+01</td>\n",
       "      <td>-7.098505e+01</td>\n",
       "    </tr>\n",
       "    <tr>\n",
       "      <th>number_of_reviews</th>\n",
       "      <td>49999.0</td>\n",
       "      <td>2.100038e+01</td>\n",
       "      <td>3.813156e+01</td>\n",
       "      <td>0.000000</td>\n",
       "      <td>1.000000e+00</td>\n",
       "      <td>6.000000e+00</td>\n",
       "      <td>2.400000e+01</td>\n",
       "      <td>6.050000e+02</td>\n",
       "    </tr>\n",
       "    <tr>\n",
       "      <th>review_scores_rating</th>\n",
       "      <td>38698.0</td>\n",
       "      <td>9.405597e+01</td>\n",
       "      <td>7.870579e+00</td>\n",
       "      <td>20.000000</td>\n",
       "      <td>9.200000e+01</td>\n",
       "      <td>9.600000e+01</td>\n",
       "      <td>1.000000e+02</td>\n",
       "      <td>1.000000e+02</td>\n",
       "    </tr>\n",
       "    <tr>\n",
       "      <th>bedrooms</th>\n",
       "      <td>49937.0</td>\n",
       "      <td>1.266776e+00</td>\n",
       "      <td>8.539166e-01</td>\n",
       "      <td>0.000000</td>\n",
       "      <td>1.000000e+00</td>\n",
       "      <td>1.000000e+00</td>\n",
       "      <td>1.000000e+00</td>\n",
       "      <td>1.000000e+01</td>\n",
       "    </tr>\n",
       "    <tr>\n",
       "      <th>beds</th>\n",
       "      <td>49908.0</td>\n",
       "      <td>1.712431e+00</td>\n",
       "      <td>1.259860e+00</td>\n",
       "      <td>0.000000</td>\n",
       "      <td>1.000000e+00</td>\n",
       "      <td>1.000000e+00</td>\n",
       "      <td>2.000000e+00</td>\n",
       "      <td>1.600000e+01</td>\n",
       "    </tr>\n",
       "    <tr>\n",
       "      <th>log_price</th>\n",
       "      <td>49999.0</td>\n",
       "      <td>4.781831e+00</td>\n",
       "      <td>7.169100e-01</td>\n",
       "      <td>1.609438</td>\n",
       "      <td>4.317488e+00</td>\n",
       "      <td>4.709530e+00</td>\n",
       "      <td>5.220356e+00</td>\n",
       "      <td>7.600402e+00</td>\n",
       "    </tr>\n",
       "    <tr>\n",
       "      <th></th>\n",
       "      <td>0.0</td>\n",
       "      <td>NaN</td>\n",
       "      <td>NaN</td>\n",
       "      <td>NaN</td>\n",
       "      <td>NaN</td>\n",
       "      <td>NaN</td>\n",
       "      <td>NaN</td>\n",
       "      <td>NaN</td>\n",
       "    </tr>\n",
       "  </tbody>\n",
       "</table>\n",
       "</div>"
      ],
      "text/plain": [
       "                        count          mean           std         min  \\\n",
       "id                    49999.0  1.125866e+07  6.086302e+06  344.000000   \n",
       "accommodates          49999.0  3.157563e+00  2.165059e+00    1.000000   \n",
       "bathrooms             49853.0  1.235151e+00  5.820819e-01    0.000000   \n",
       "latitude              49999.0  3.844022e+01  3.082650e+00   33.338905   \n",
       "longitude             49999.0 -9.244626e+01  2.171982e+01 -122.511500   \n",
       "number_of_reviews     49999.0  2.100038e+01  3.813156e+01    0.000000   \n",
       "review_scores_rating  38698.0  9.405597e+01  7.870579e+00   20.000000   \n",
       "bedrooms              49937.0  1.266776e+00  8.539166e-01    0.000000   \n",
       "beds                  49908.0  1.712431e+00  1.259860e+00    0.000000   \n",
       "log_price             49999.0  4.781831e+00  7.169100e-01    1.609438   \n",
       "                          0.0           NaN           NaN         NaN   \n",
       "\n",
       "                               25%           50%           75%           max  \n",
       "id                    6.245858e+06  1.225244e+07  1.641108e+07  2.122836e+07  \n",
       "accommodates          2.000000e+00  2.000000e+00  4.000000e+00  1.600000e+01  \n",
       "bathrooms             1.000000e+00  1.000000e+00  1.000000e+00  8.000000e+00  \n",
       "latitude              3.412487e+01  4.066220e+01  4.074598e+01  4.239044e+01  \n",
       "longitude            -1.183431e+02 -7.699768e+01 -7.395460e+01 -7.098505e+01  \n",
       "number_of_reviews     1.000000e+00  6.000000e+00  2.400000e+01  6.050000e+02  \n",
       "review_scores_rating  9.200000e+01  9.600000e+01  1.000000e+02  1.000000e+02  \n",
       "bedrooms              1.000000e+00  1.000000e+00  1.000000e+00  1.000000e+01  \n",
       "beds                  1.000000e+00  1.000000e+00  2.000000e+00  1.600000e+01  \n",
       "log_price             4.317488e+00  4.709530e+00  5.220356e+00  7.600402e+00  \n",
       "                               NaN           NaN           NaN           NaN  "
      ]
     },
     "execution_count": 10,
     "metadata": {},
     "output_type": "execute_result"
    }
   ],
   "source": [
    "# Returns different statistics of Numerical columns[int and float] only\n",
    "ab_train.describe().T"
   ]
  },
  {
   "cell_type": "markdown",
   "metadata": {},
   "source": [
    "### Data Exploration"
   ]
  },
  {
   "cell_type": "code",
   "execution_count": 11,
   "metadata": {},
   "outputs": [
    {
     "data": {
      "text/plain": [
       "Index(['id', 'property_type', 'room_type', 'amenities', 'accommodates',\n",
       "       'bathrooms', 'bed_type', 'cancellation_policy', 'cleaning_fee', 'city',\n",
       "       'description', 'first_review', 'host_has_profile_pic',\n",
       "       'host_identity_verified', 'host_response_rate', 'host_since',\n",
       "       'instant_bookable', 'last_review', 'latitude', 'longitude', 'name',\n",
       "       'neighbourhood', 'number_of_reviews', 'review_scores_rating',\n",
       "       'thumbnail_url', 'zipcode', 'bedrooms', 'beds', 'log_price', ' '],\n",
       "      dtype='object')"
      ]
     },
     "execution_count": 11,
     "metadata": {},
     "output_type": "execute_result"
    }
   ],
   "source": [
    "ab_train.columns"
   ]
  },
  {
   "cell_type": "code",
   "execution_count": 12,
   "metadata": {},
   "outputs": [
    {
     "data": {
      "text/plain": [
       "11667455    1\n",
       "4404492     1\n",
       "15602984    1\n",
       "18312487    1\n",
       "288038      1\n",
       "           ..\n",
       "668179      1\n",
       "2368017     1\n",
       "14373031    1\n",
       "3505222     1\n",
       "9394419     1\n",
       "Name: id, Length: 49999, dtype: int64"
      ]
     },
     "execution_count": 12,
     "metadata": {},
     "output_type": "execute_result"
    }
   ],
   "source": [
    "# 'id ---> drop this column while model building\n",
    "ab_train['id'].value_counts()"
   ]
  },
  {
   "cell_type": "code",
   "execution_count": 13,
   "metadata": {},
   "outputs": [
    {
     "data": {
      "text/plain": [
       "Apartment             33113\n",
       "House                 11138\n",
       "Condominium            1759\n",
       "Townhouse              1146\n",
       "Loft                    834\n",
       "Other                   392\n",
       "Guesthouse              324\n",
       "Bed & Breakfast         320\n",
       "Bungalow                264\n",
       "Villa                   120\n",
       "Dorm                     99\n",
       "Guest suite              83\n",
       "Camper/RV                63\n",
       "Cabin                    49\n",
       "In-law                   49\n",
       "Hostel                   48\n",
       "Timeshare                46\n",
       "Boutique hotel           44\n",
       "Boat                     36\n",
       "Serviced apartment       16\n",
       "Tent                     12\n",
       "Castle                    8\n",
       "Vacation home             7\n",
       "Yurt                      7\n",
       "Treehouse                 6\n",
       "Hut                       5\n",
       "Chalet                    3\n",
       "Earth House               2\n",
       "Parking Space             1\n",
       "Lighthouse                1\n",
       "Train                     1\n",
       "Casa particular           1\n",
       "Tipi                      1\n",
       "Cave                      1\n",
       "Name: property_type, dtype: int64"
      ]
     },
     "execution_count": 13,
     "metadata": {},
     "output_type": "execute_result"
    }
   ],
   "source": [
    "# 'property_type' --> create dummies based on dependent variable\n",
    "ab_train['property_type'].value_counts()"
   ]
  },
  {
   "cell_type": "code",
   "execution_count": 14,
   "metadata": {},
   "outputs": [
    {
     "data": {
      "text/plain": [
       "property_type\n",
       "Apartment             5.0\n",
       "Bed & Breakfast       5.0\n",
       "Boat                  5.0\n",
       "Boutique hotel        5.0\n",
       "Bungalow              5.0\n",
       "Cabin                 5.0\n",
       "Camper/RV             5.0\n",
       "Casa particular       4.0\n",
       "Castle                5.0\n",
       "Cave                  5.0\n",
       "Chalet                5.0\n",
       "Condominium           5.0\n",
       "Dorm                  4.0\n",
       "Earth House           6.0\n",
       "Guest suite           5.0\n",
       "Guesthouse            5.0\n",
       "Hostel                4.0\n",
       "House                 5.0\n",
       "Hut                   4.0\n",
       "In-law                5.0\n",
       "Lighthouse            6.0\n",
       "Loft                  5.0\n",
       "Other                 5.0\n",
       "Parking Space         5.0\n",
       "Serviced apartment    5.0\n",
       "Tent                  4.0\n",
       "Timeshare             6.0\n",
       "Tipi                  6.0\n",
       "Townhouse             5.0\n",
       "Train                 5.0\n",
       "Treehouse             5.0\n",
       "Vacation home         5.0\n",
       "Villa                 5.0\n",
       "Yurt                  5.0\n",
       "Name: log_price, dtype: float64"
      ]
     },
     "execution_count": 14,
     "metadata": {},
     "output_type": "execute_result"
    }
   ],
   "source": [
    "pt_train=np.round(ab_train.groupby('property_type')['log_price'].mean(),0)\n",
    "pt_train"
   ]
  },
  {
   "cell_type": "code",
   "execution_count": 15,
   "metadata": {},
   "outputs": [
    {
     "data": {
      "text/plain": [
       "<matplotlib.axes._subplots.AxesSubplot at 0x260aaa0fd60>"
      ]
     },
     "execution_count": 15,
     "metadata": {},
     "output_type": "execute_result"
    },
    {
     "data": {
      "image/png": "[encoded data removed]",
      "text/plain": [
       "<Figure size 432x288 with 1 Axes>"
      ]
     },
     "metadata": {
      "needs_background": "light"
     },
     "output_type": "display_data"
    }
   ],
   "source": [
    "sns.countplot(x=pt_train)"
   ]
  },
  {
   "cell_type": "code",
   "execution_count": 16,
   "metadata": {},
   "outputs": [
    {
     "data": {
      "text/plain": [
       "Entire home/apt    27905\n",
       "Private room       20658\n",
       "Shared room         1436\n",
       "Name: room_type, dtype: int64"
      ]
     },
     "execution_count": 16,
     "metadata": {},
     "output_type": "execute_result"
    }
   ],
   "source": [
    "# 'room_type' --> create dummies\n",
    "ab_train['room_type'].value_counts()"
   ]
  },
  {
   "cell_type": "code",
   "execution_count": 17,
   "metadata": {},
   "outputs": [
    {
     "data": {
      "text/plain": [
       "<matplotlib.axes._subplots.AxesSubplot at 0x260aa9c1310>"
      ]
     },
     "execution_count": 17,
     "metadata": {},
     "output_type": "execute_result"
    },
    {
     "data": {
      "image/png": "[encoded data removed]",
      "text/plain": [
       "<Figure size 432x288 with 1 Axes>"
      ]
     },
     "metadata": {
      "needs_background": "light"
     },
     "output_type": "display_data"
    }
   ],
   "source": [
    "sns.countplot(x=ab_train['room_type'])"
   ]
  },
  {
   "cell_type": "code",
   "execution_count": 18,
   "metadata": {},
   "outputs": [
    {
     "data": {
      "text/plain": [
       "{}                                                                                                                                                                                                                                                                                                                                                                                           413\n",
       "{\"translation missing: en.hosting_amenity_49\",\"translation missing: en.hosting_amenity_50\"}                                                                                                                                                                                                                                                                                                   97\n",
       "{\"Family/kid friendly\"}                                                                                                                                                                                                                                                                                                                                                                       69\n",
       "{TV,\"Cable TV\",Internet,\"Wireless Internet\",\"Air conditioning\",Kitchen,\"Pets allowed\",Doorman,Gym,Elevator,Heating,\"Family/kid friendly\",Washer,Dryer,\"Smoke detector\",\"Carbon monoxide detector\",Essentials,Shampoo,\"24-hour check-in\",Hangers,\"Hair dryer\",Iron,\"Laptop friendly workspace\",\"Self Check-In\",Doorman}                                                                        16\n",
       "{Internet,\"Wireless Internet\",\"Air conditioning\",Kitchen,Heating}                                                                                                                                                                                                                                                                                                                             16\n",
       "                                                                                                                                                                                                                                                                                                                                                                                            ... \n",
       "{TV,Internet,\"Wireless Internet\",\"Free parking on premises\",Heating,\"Suitable for events\",\"Smoke detector\",\"Carbon monoxide detector\",\"First aid kit\",\"Fire extinguisher\",Essentials,Shampoo,Hangers,\"Hair dryer\",Iron,\"Laptop friendly workspace\",\"translation missing: en.hosting_amenity_50\"}                                                                                               1\n",
       "{TV,\"Wireless Internet\",\"Air conditioning\",Pool,Kitchen,Gym,Elevator,\"Family/kid friendly\",Washer,Dryer,\"Smoke detector\",\"Carbon monoxide detector\",\"Fire extinguisher\",Essentials,Shampoo,Hangers,Iron,\"Laptop friendly workspace\"}                                                                                                                                                           1\n",
       "{\"Wireless Internet\",\"Free parking on premises\",\"Pets allowed\",\"Pets live on this property\",Dog(s),\"Family/kid friendly\",\"Suitable for events\",\"Fire extinguisher\",\"translation missing: en.hosting_amenity_49\"}                                                                                                                                                                               1\n",
       "{TV,\"Cable TV\",\"Wireless Internet\",\"Air conditioning\",Kitchen,Heating,\"Family/kid friendly\",Essentials}                                                                                                                                                                                                                                                                                        1\n",
       "{\"Wireless Internet\",\"Air conditioning\",Kitchen,\"Free parking on premises\",Heating,\"Family/kid friendly\",\"Smoke detector\",\"Carbon monoxide detector\",\"First aid kit\",\"Safety card\",\"Fire extinguisher\",Essentials,Shampoo,\"Lock on bedroom door\",Hangers,\"Hair dryer\",Iron,\"Laptop friendly workspace\",\"Self Check-In\",Keypad,Bathtub,\"Pack ’n Play/travel crib\",\"Room-darkening shades\"}      1\n",
       "Name: amenities, Length: 46190, dtype: int64"
      ]
     },
     "execution_count": 18,
     "metadata": {},
     "output_type": "execute_result"
    }
   ],
   "source": [
    "# 'amenities'---> lets try NLP by using tfdif or count vectorizer \n",
    "ab_train['amenities'].value_counts()"
   ]
  },
  {
   "cell_type": "code",
   "execution_count": 19,
   "metadata": {},
   "outputs": [
    {
     "data": {
      "text/plain": [
       "'{\"Wireless Internet\",\"Air conditioning\",Kitchen,Heating,\"Family/kid friendly\",Essentials,\"Hair dryer\",Iron,\"translation missing: en.hosting_amenity_50\"}'"
      ]
     },
     "execution_count": 19,
     "metadata": {},
     "output_type": "execute_result"
    }
   ],
   "source": [
    "ab_train['amenities'][0]"
   ]
  },
  {
   "cell_type": "code",
   "execution_count": 20,
   "metadata": {},
   "outputs": [
    {
     "data": {
      "text/plain": [
       "2     21529\n",
       "4      8178\n",
       "1      6360\n",
       "3      5213\n",
       "6      3331\n",
       "5      2304\n",
       "8      1199\n",
       "7       640\n",
       "10      472\n",
       "16      210\n",
       "12      190\n",
       "9       183\n",
       "14       77\n",
       "11       51\n",
       "15       38\n",
       "13       24\n",
       "Name: accommodates, dtype: int64"
      ]
     },
     "execution_count": 20,
     "metadata": {},
     "output_type": "execute_result"
    }
   ],
   "source": [
    "# 'accommodates' --> let it be\n",
    "ab_train['accommodates'].value_counts()"
   ]
  },
  {
   "cell_type": "code",
   "execution_count": 21,
   "metadata": {},
   "outputs": [
    {
     "data": {
      "text/plain": [
       "<matplotlib.axes._subplots.AxesSubplot at 0x260aaaaf280>"
      ]
     },
     "execution_count": 21,
     "metadata": {},
     "output_type": "execute_result"
    },
    {
     "data": {
      "image/png": "[encoded data removed]",
      "text/plain": [
       "<Figure size 432x288 with 1 Axes>"
      ]
     },
     "metadata": {
      "needs_background": "light"
     },
     "output_type": "display_data"
    }
   ],
   "source": [
    "sns.countplot(x=ab_train['accommodates'])"
   ]
  },
  {
   "cell_type": "code",
   "execution_count": 22,
   "metadata": {},
   "outputs": [
    {
     "data": {
      "text/plain": [
       "1.0    39136\n",
       "2.0     5384\n",
       "1.5     2619\n",
       "2.5     1033\n",
       "3.0      705\n",
       "3.5      288\n",
       "4.0      193\n",
       "0.5      148\n",
       "0.0      132\n",
       "4.5       74\n",
       "5.0       50\n",
       "8.0       31\n",
       "5.5       28\n",
       "6.0       15\n",
       "6.5        8\n",
       "7.0        5\n",
       "7.5        4\n",
       "Name: bathrooms, dtype: int64"
      ]
     },
     "execution_count": 22,
     "metadata": {},
     "output_type": "execute_result"
    }
   ],
   "source": [
    "# 'bathrooms' ---> bathrooms cannot be 1.5,2.5.... \n",
    "# so i will club or consider 0.5 to 1,1.5 to 2,2.5 to 3,3.5 to 4,4.5 to 5,5.5 to 6,6.5 and 7.5 to 7\n",
    "# Replace missing value to 0.0 bathrooms\n",
    "ab_train['bathrooms'].value_counts()"
   ]
  },
  {
   "cell_type": "code",
   "execution_count": 23,
   "metadata": {},
   "outputs": [
    {
     "data": {
      "text/plain": [
       "<matplotlib.axes._subplots.AxesSubplot at 0x260a9ddbdf0>"
      ]
     },
     "execution_count": 23,
     "metadata": {},
     "output_type": "execute_result"
    },
    {
     "data": {
      "image/png": "[encoded data removed]",
      "text/plain": [
       "<Figure size 432x288 with 1 Axes>"
      ]
     },
     "metadata": {
      "needs_background": "light"
     },
     "output_type": "display_data"
    }
   ],
   "source": [
    "sns.countplot(x=ab_train['bathrooms'])"
   ]
  },
  {
   "cell_type": "code",
   "execution_count": 24,
   "metadata": {},
   "outputs": [],
   "source": [
    "ab_train['bathrooms']=ab_train['bathrooms'].replace({0.5:1,1.5:2,\n",
    "                                                     2.5:3,\n",
    "                                                     3.5:4,\n",
    "                                                    4.5:5,\n",
    "                                                    5.5:6,\n",
    "                                                    6.5:7,\n",
    "                                                    7.5:7})"
   ]
  },
  {
   "cell_type": "code",
   "execution_count": 25,
   "metadata": {},
   "outputs": [
    {
     "data": {
      "text/plain": [
       "1.0    39284\n",
       "2.0     8003\n",
       "3.0     1738\n",
       "4.0      481\n",
       "0.0      132\n",
       "5.0      124\n",
       "6.0       43\n",
       "8.0       31\n",
       "7.0       17\n",
       "Name: bathrooms, dtype: int64"
      ]
     },
     "execution_count": 25,
     "metadata": {},
     "output_type": "execute_result"
    }
   ],
   "source": [
    "ab_train['bathrooms'].value_counts()"
   ]
  },
  {
   "cell_type": "code",
   "execution_count": 26,
   "metadata": {},
   "outputs": [
    {
     "data": {
      "text/plain": [
       "<matplotlib.axes._subplots.AxesSubplot at 0x260a9e15400>"
      ]
     },
     "execution_count": 26,
     "metadata": {},
     "output_type": "execute_result"
    },
    {
     "data": {
      "image/png": "[encoded data removed]",
      "text/plain": [
       "<Figure size 432x288 with 1 Axes>"
      ]
     },
     "metadata": {
      "needs_background": "light"
     },
     "output_type": "display_data"
    }
   ],
   "source": [
    "sns.countplot(x=ab_train['bathrooms'])"
   ]
  },
  {
   "cell_type": "code",
   "execution_count": 27,
   "metadata": {},
   "outputs": [
    {
     "data": {
      "text/plain": [
       "146"
      ]
     },
     "execution_count": 27,
     "metadata": {},
     "output_type": "execute_result"
    }
   ],
   "source": [
    "ab_train['bathrooms'].isnull().sum()"
   ]
  },
  {
   "cell_type": "code",
   "execution_count": 28,
   "metadata": {},
   "outputs": [
    {
     "data": {
      "text/plain": [
       "Real Bed         48575\n",
       "Futon              518\n",
       "Pull-out Sofa      403\n",
       "Airbed             323\n",
       "Couch              180\n",
       "Name: bed_type, dtype: int64"
      ]
     },
     "execution_count": 28,
     "metadata": {},
     "output_type": "execute_result"
    }
   ],
   "source": [
    "# 'bed_type'---> create Futon,Pull-out Sofa, Airbed, Couch to 'other' and then create dummies\n",
    "ab_train['bed_type'].value_counts()"
   ]
  },
  {
   "cell_type": "code",
   "execution_count": 29,
   "metadata": {},
   "outputs": [
    {
     "data": {
      "text/plain": [
       "<matplotlib.axes._subplots.AxesSubplot at 0x260a9ec0c10>"
      ]
     },
     "execution_count": 29,
     "metadata": {},
     "output_type": "execute_result"
    },
    {
     "data": {
      "image/png": "[encoded data removed]",
      "text/plain": [
       "<Figure size 432x288 with 1 Axes>"
      ]
     },
     "metadata": {
      "needs_background": "light"
     },
     "output_type": "display_data"
    }
   ],
   "source": [
    "sns.countplot(x=ab_train['bed_type'])"
   ]
  },
  {
   "cell_type": "code",
   "execution_count": 30,
   "metadata": {},
   "outputs": [
    {
     "data": {
      "text/plain": [
       "Real Bed    48575\n",
       "Other        1424\n",
       "Name: bed_type, dtype: int64"
      ]
     },
     "execution_count": 30,
     "metadata": {},
     "output_type": "execute_result"
    }
   ],
   "source": [
    "ab_train.loc[~ab_train['bed_type'].isin(['Real Bed']), 'bed_type'] = 'Other'\n",
    "ab_train['bed_type'].value_counts()"
   ]
  },
  {
   "cell_type": "code",
   "execution_count": 31,
   "metadata": {},
   "outputs": [
    {
     "data": {
      "text/plain": [
       "<matplotlib.axes._subplots.AxesSubplot at 0x260a9f01cd0>"
      ]
     },
     "execution_count": 31,
     "metadata": {},
     "output_type": "execute_result"
    },
    {
     "data": {
      "image/png": "[encoded data removed]",
      "text/plain": [
       "<Figure size 432x288 with 1 Axes>"
      ]
     },
     "metadata": {
      "needs_background": "light"
     },
     "output_type": "display_data"
    }
   ],
   "source": [
    "sns.countplot(x=ab_train['bed_type'])"
   ]
  },
  {
   "cell_type": "code",
   "execution_count": 32,
   "metadata": {},
   "outputs": [
    {
     "data": {
      "text/plain": [
       "strict             21811\n",
       "flexible           15237\n",
       "moderate           12865\n",
       "super_strict_30       75\n",
       "super_strict_60       11\n",
       "Name: cancellation_policy, dtype: int64"
      ]
     },
     "execution_count": 32,
     "metadata": {},
     "output_type": "execute_result"
    }
   ],
   "source": [
    "# 'cancellation_policy'--->super_strict_30 and super_strict_60 to 'super_strict' and then create dummies\n",
    "ab_train['cancellation_policy'].value_counts()"
   ]
  },
  {
   "cell_type": "code",
   "execution_count": 33,
   "metadata": {},
   "outputs": [
    {
     "data": {
      "text/plain": [
       "<matplotlib.axes._subplots.AxesSubplot at 0x260a9e27670>"
      ]
     },
     "execution_count": 33,
     "metadata": {},
     "output_type": "execute_result"
    },
    {
     "data": {
      "image/png": "[encoded data removed]",
      "text/plain": [
       "<Figure size 432x288 with 1 Axes>"
      ]
     },
     "metadata": {
      "needs_background": "light"
     },
     "output_type": "display_data"
    }
   ],
   "source": [
    "sns.countplot(ab_train['cancellation_policy'])"
   ]
  },
  {
   "cell_type": "code",
   "execution_count": 34,
   "metadata": {},
   "outputs": [
    {
     "data": {
      "text/plain": [
       "strict          21811\n",
       "flexible        15237\n",
       "moderate        12865\n",
       "super_strict       86\n",
       "Name: cancellation_policy, dtype: int64"
      ]
     },
     "execution_count": 34,
     "metadata": {},
     "output_type": "execute_result"
    }
   ],
   "source": [
    "ab_train.loc[ab_train['cancellation_policy'].isin(['super_strict_30','super_strict_60']),\n",
    "         'cancellation_policy']='super_strict'\n",
    "ab_train['cancellation_policy'].value_counts()"
   ]
  },
  {
   "cell_type": "code",
   "execution_count": 35,
   "metadata": {},
   "outputs": [
    {
     "data": {
      "text/plain": [
       "<matplotlib.axes._subplots.AxesSubplot at 0x260a9f1b040>"
      ]
     },
     "execution_count": 35,
     "metadata": {},
     "output_type": "execute_result"
    },
    {
     "data": {
      "image/png": "[encoded data removed]",
      "text/plain": [
       "<Figure size 432x288 with 1 Axes>"
      ]
     },
     "metadata": {
      "needs_background": "light"
     },
     "output_type": "display_data"
    }
   ],
   "source": [
    "sns.countplot(x=ab_train['cancellation_policy'])"
   ]
  },
  {
   "cell_type": "code",
   "execution_count": 36,
   "metadata": {},
   "outputs": [
    {
     "data": {
      "text/plain": [
       "True     36627\n",
       "False    13372\n",
       "Name: cleaning_fee, dtype: int64"
      ]
     },
     "execution_count": 36,
     "metadata": {},
     "output_type": "execute_result"
    }
   ],
   "source": [
    "# 'cleaning_fee' ---> It is boolean data type. \n",
    "# In feature engineering, we will create True to 1 and False to 0\n",
    "ab_train['cleaning_fee'].value_counts()"
   ]
  },
  {
   "cell_type": "code",
   "execution_count": 37,
   "metadata": {},
   "outputs": [
    {
     "data": {
      "text/plain": [
       "id                          int64\n",
       "property_type              object\n",
       "room_type                  object\n",
       "amenities                  object\n",
       "accommodates                int64\n",
       "bathrooms                 float64\n",
       "bed_type                   object\n",
       "cancellation_policy        object\n",
       "cleaning_fee                 bool\n",
       "city                       object\n",
       "description                object\n",
       "first_review               object\n",
       "host_has_profile_pic       object\n",
       "host_identity_verified     object\n",
       "host_response_rate         object\n",
       "host_since                 object\n",
       "instant_bookable           object\n",
       "last_review                object\n",
       "latitude                  float64\n",
       "longitude                 float64\n",
       "name                       object\n",
       "neighbourhood              object\n",
       "number_of_reviews           int64\n",
       "review_scores_rating      float64\n",
       "thumbnail_url              object\n",
       "zipcode                    object\n",
       "bedrooms                  float64\n",
       "beds                      float64\n",
       "log_price                 float64\n",
       "                          float64\n",
       "dtype: object"
      ]
     },
     "execution_count": 37,
     "metadata": {},
     "output_type": "execute_result"
    }
   ],
   "source": [
    "ab_train.dtypes"
   ]
  },
  {
   "cell_type": "code",
   "execution_count": 38,
   "metadata": {},
   "outputs": [
    {
     "data": {
      "text/plain": [
       "NYC        21803\n",
       "LA         15191\n",
       "SF          4357\n",
       "DC          3804\n",
       "Chicago     2498\n",
       "Boston      2346\n",
       "Name: city, dtype: int64"
      ]
     },
     "execution_count": 38,
     "metadata": {},
     "output_type": "execute_result"
    }
   ],
   "source": [
    "# 'city'---> Due to less freqency count in some variables. lets club some features like\n",
    "# SF and DC which has >3000 frequency count to one variable ie., SF_DC\n",
    "# Chicago and Boston which has <3000 frequency count to one variable ie., other\n",
    "# create dummies\n",
    "ab_train['city'].value_counts()"
   ]
  },
  {
   "cell_type": "code",
   "execution_count": 39,
   "metadata": {},
   "outputs": [
    {
     "data": {
      "text/plain": [
       "<matplotlib.axes._subplots.AxesSubplot at 0x260a9d169d0>"
      ]
     },
     "execution_count": 39,
     "metadata": {},
     "output_type": "execute_result"
    },
    {
     "data": {
      "image/png": "[encoded data removed]",
      "text/plain": [
       "<Figure size 432x288 with 1 Axes>"
      ]
     },
     "metadata": {
      "needs_background": "light"
     },
     "output_type": "display_data"
    }
   ],
   "source": [
    "sns.countplot(x=ab_train['city'])"
   ]
  },
  {
   "cell_type": "code",
   "execution_count": 40,
   "metadata": {},
   "outputs": [
    {
     "data": {
      "text/plain": [
       "NYC      21803\n",
       "LA       15191\n",
       "SF_DC     8161\n",
       "other     4844\n",
       "Name: city, dtype: int64"
      ]
     },
     "execution_count": 40,
     "metadata": {},
     "output_type": "execute_result"
    }
   ],
   "source": [
    "ab_train.loc[ab_train['city'].isin(['SF','DC']),'city']='SF_DC'\n",
    "ab_train.loc[ab_train['city'].isin(['Chicago','Boston']),'city']='other'\n",
    "ab_train['city'].value_counts()"
   ]
  },
  {
   "cell_type": "code",
   "execution_count": 41,
   "metadata": {},
   "outputs": [
    {
     "data": {
      "text/plain": [
       "<matplotlib.axes._subplots.AxesSubplot at 0x260a9cf71c0>"
      ]
     },
     "execution_count": 41,
     "metadata": {},
     "output_type": "execute_result"
    },
    {
     "data": {
      "image/png": "[encoded data removed]",
      "text/plain": [
       "<Figure size 432x288 with 1 Axes>"
      ]
     },
     "metadata": {
      "needs_background": "light"
     },
     "output_type": "display_data"
    }
   ],
   "source": [
    "sns.countplot(x=ab_train['city'])"
   ]
  },
  {
   "cell_type": "code",
   "execution_count": 42,
   "metadata": {},
   "outputs": [
    {
     "data": {
      "text/plain": [
       "Hello, I've been running guest house for Koreans visiting U.S. for 3years, and recently decided to run this place for other travelers also. There are 10 room in the house. They are mostly dormitory rooms and couple of couple room and family room. This places are our women's dormitory in third floor. There are three rooms, but no doors. It is basically open space. There are 2 beds in two rooms and 4 in one room. I do not have closet in this room but there are hangers and mini shelves. My travelers usually put their baggage on the floor. There is one full bathroom only for women in 2nd floor, which you will be sharing with other women guests. Right next that bathroom, there is unisex half bathroom. All bathrooms have hair dryers. You cannot use kitchen, but you can use refrigerator.  I offer breakfast every morning from 7-10 am. Bread, cereal, fruits, coffee, milk and juice will be served. You can eat take-out food in the kitchen, but please wash dishes that you used and put trash in the    5\n",
       "Private room in the heart of Little Italy with FREE PARKING :) You will have your own personal door code and may arrive at ANY time you would like and as late as you wish. You can store your luggage in the closet before check-in and after check-out times :) Price adapts to demand, my rates change constantly - every night is different! Put your dates in the calendar, with the number of guests, and what you see is what you'll pay :) The neighborhood is extremely safe even at night :) Restaurants and bars are right round the corner, both upscale and casual. This room is 6 minutes away by car or uber to Chicago's famous Willis (Sears) tower. Uber costs about $7. If you are arriving by car, I am providing free resident parking passes for anywhere in the area. (Yes, that means you can drive a few blocks and still park anywhere you want!) The room will be solely yours for the time you'll stay in the Windy City. Shall you have any concerns or need any tips from the local, I'll always be happy     5\n",
       "At the intersection of the charming Leather District, bustling Chinatown, and the Theater District’s entertainment hub, this apartment offers countless opportunities to fully immerse yourself in Boston city life.  Guests can live comfortably in a spacious living space with one bed, a fully-equipped kitchen, and soaring ceilings.  Guests can also take advantage of the many amenities the building offers. 2 bedrooms, 2 bathrooms, sleeps 5 Discover unsurpassed city living in these thoughtfully designed, sophisticated apartment residences. Nestled right where Boston’s Leather District, Chinatown, and the Theater District converge, you’re in the fast lane to every major Boston attraction. The 19th century brick and stone architecture that characterizes The Leather Districts’ famous South Street, provides the backdrop for quite a romantic date night. Looking for a night out with friends? The Theater District is the home to many classic theaters, musicals, concerts, ballets, and drama.  And wh    5\n",
       "#NAME?                                                                                                                                                                                                                                                                                                                                                                                                                                                                                                                                                                                                                                                                                                                                                                                                                                                                                                                                                                                                                                      5\n",
       "Brand New 2017 Construction, Featuring 2 Bedrooms and 2 bathrooms . comfortable couch, coffee table, 50-inch TV in living room, with free Satellite Cable channel and internet Wi-Fi. Washer and Dryer in the building on each floor.This lovely Apartment is perfect for families, couples or four close friends! With over 900 square feet of living space.A short freeway ride to Westwood, Hollywood Bowl, Griffith Park, LA Zoo, and downtown venues such as Chinatown, LA Live, Staples Center and Olivera St. Enjoy the open entertainer floor plan featuring a gourmet kitchen with quartz counters w/natural mosaic stone and quartz back splash, Stainless Steel appliances, and designer cabinetry. All baths are tastefully done with tub/showers and sinks. Awesome living area, Enjoy those high ceilings! Terrific master suite with closet space. This is a \"smart home\" featuring an LED recessed lighting. Gated Garage is ready for two full sized cars all side by side.  A cozy retreat for your stay in Los Angele    4\n",
       "                                                                                                                                                                                                                                                                                                                                                                                                                                                                                                                                                                                                                                                                                                                                                                                                                                                                                                                                                                                                                                           ..\n",
       "Sweet 1b1b condo, living room with a twin bed. Only accept ONE FEMALE. 24hr hot shower, 24hr front desk, 24hr security. Perfect location! 0.3m to Foggy Bottom Metro Station. 0.6m to Dupont Circle. Mins walk to IFC,IMF,World Bank, GWU etc.. 0.2m to Trader Joes, Whole Foods, CVS and many other places. You will be provided with cooking facilities, a twin bed, a single sofa, portable closet, working table&chair in the living room. Free street parking, pay attention to parking rules. 780 sq ft. You will be sharing the entire condo with another girl who lives in the bedroom.  She is a GWU master student, very organized and laid back. The living room is separated by room divider so you would have a good privacy. Kitchen. Living room. Laundry room at downstairs but you will have to purchase a laundry card, approximately $1.50/load. High-end neighborhood in DC. Close to everything. Bus station and metro station within walking distance. 0.2mile to Foggy Bottom Metro Station and GWU. 0.2m to Whol    1\n",
       "Cozy 2 BR apartment in amazing Los Feliz.  Apartment has been recently remodeled with hardwood floors, kitchen appliances, and tiled bath.  Beautiful views from the living room and bedroom. The Place Cozy, quiet 2BR apartment in Los Feliz. King size bed in the master bedroom, Full bed/futon in 2nd Bedroom.  50\" Television in the Living Room with CABLE TV/HBO. Full kitchen and bar with large refrigerator, stove, microwave. A dining table for meals or entertaining guests.  The 2nd bedroom can also work as a studio, office, or extra space for guests.  Wireless internet, parking garage, outdoor patio. Los Feliz is a neighborhood nestled between Hollywood & Silver Lake. It's one of the few places in LA where you can walk everywhere. Great restaurants, bars, cafes, vintage clothing, bookstores, theaters, yoga studio, grocery stores, ice cream, etc. are literally steps away. The Vintage cinema is only 2 blocks from the apartment. There's also the legendary Vista theater - a classic art deco t    1\n",
       "Double bed in private room on 3rd floor of large colonial house from early 1900s. Our house was completely renovated in 2014 with modern finishes.  3rd floor is shared with two other rooms separated by the shared bath. A cat does live in and will be sequestered in one of the rooms.  Bedroom is facing back of house overlooking backyard and driveway. Closet, shelving, desk and blankets are provided.  Guest will have access to modern kitchen and common area living spaces on the main floor. We are a group of late 20s to early 30 somethings living in a four story contemporary house from the early 1900s. It was recently completely renovated with stainless steel appliances, granite counter tops etc while still retaining the original character of the house with original wood finishes. As many of us our out of town this weekend, we have chosen to list our basement on airbnb! We are located in lovely Takoma Park on the DC side. Just about a 5 minute walk to the Takoma Park metro station which is    1\n",
       "My lovely  3 bedroom home home is nestled in a quaint neighborhood behind La Cienega Park. Take a walk to The Grove, The Beverly Center, or stroll around the neighborhood. Enjoy a lovely Quiet Guest Room with wooden floors, and high ceilings. The bedroom has a super comfy queen sized bed, and large walk in closet. You have full use of the house and kitchen. If you like to cook that's great. I just ask to clean up after cooking. I do have a cat. So cat friendly people. My Aussie Housemate and I live here. He's super chill and nice... we like to work out early in the am. We are quiet and go to bed quite early. We love having dinner with people staying here if you'd like to join us. I love cooking for people. My neighborhood is a family friendly neighborhood that is right near La Cienega Park that has workout equipment and it's a nice park. My neighbors all take walks around the neighborhood and are very friendly and will say hello and converse. You can walk to The Grove, Beverly Center,     1\n",
       "we are a 62 room hotel/hostel. We cater mostly to international students, however, we welcome everyone. We also offer dorm style housing with weekly housekeeping continental breakfast, WiFi and cable TV. Located next to City Hall, BART and MUNI.  For dorm rooms, weekly and monthly discount, please contact us. (PHONE NUMBER HIDDEN) (EMAIL HIDDEN) (URL HIDDEN) We are located steps away from the Civic Center/UN Plaza, Asian Art Museum, San Francisco City Hall, and Bill Graham Civic Auditorium. We are 5 mins away from bart station and a bus across the street to downtown within 10 mins.  We do not have parking, but there is a parking garage one block away. The valid photo ID(s) and having a credit card for signing credit card authorization are required when you check in.                                                                                                                                                                                                                                    1\n",
       "Name: description, Length: 49683, dtype: int64"
      ]
     },
     "execution_count": 42,
     "metadata": {},
     "output_type": "execute_result"
    }
   ],
   "source": [
    "# 'description'---> lets try NLP by using tfdif or count vectorizer \n",
    "ab_train['description'].value_counts()"
   ]
  },
  {
   "cell_type": "code",
   "execution_count": 43,
   "metadata": {},
   "outputs": [
    {
     "data": {
      "text/plain": [
       "1/1/2017     200\n",
       "1/22/2017    170\n",
       "1/2/2016     143\n",
       "1/2/2017     136\n",
       "1/3/2016     134\n",
       "            ... \n",
       "3/10/2011      1\n",
       "5/6/2009       1\n",
       "4/5/2012       1\n",
       "4/26/2010      1\n",
       "5/4/2012       1\n",
       "Name: first_review, Length: 2423, dtype: int64"
      ]
     },
     "execution_count": 43,
     "metadata": {},
     "output_type": "execute_result"
    }
   ],
   "source": [
    "# 'first_review'---> lets covert into date-time format and extract features out of it\n",
    "# Repace missing with  min_in_column timestamp to nan fields\n",
    "ab_train['first_review'].value_counts()"
   ]
  },
  {
   "cell_type": "code",
   "execution_count": 44,
   "metadata": {},
   "outputs": [
    {
     "data": {
      "text/plain": [
       "t    49722\n",
       "f      150\n",
       "Name: host_has_profile_pic, dtype: int64"
      ]
     },
     "execution_count": 44,
     "metadata": {},
     "output_type": "execute_result"
    }
   ],
   "source": [
    "# 'host_has_profile_pic'---> I think people use differnt images like celebrity photo and some use their own photo.\n",
    "# It will be Imbalanced because one category frequency 99.4% of data.\n",
    "# I think its better to drop\n",
    "# Beacuse once the host identity is verified then only it will allows the host to book\n",
    "ab_train['host_has_profile_pic'].value_counts()"
   ]
  },
  {
   "cell_type": "code",
   "execution_count": 45,
   "metadata": {},
   "outputs": [
    {
     "data": {
      "text/plain": [
       "<matplotlib.axes._subplots.AxesSubplot at 0x260a9cc0640>"
      ]
     },
     "execution_count": 45,
     "metadata": {},
     "output_type": "execute_result"
    },
    {
     "data": {
      "image/png": "[encoded data removed]",
      "text/plain": [
       "<Figure size 432x288 with 1 Axes>"
      ]
     },
     "metadata": {
      "needs_background": "light"
     },
     "output_type": "display_data"
    }
   ],
   "source": [
    "sns.countplot(x=ab_train['host_has_profile_pic'])"
   ]
  },
  {
   "cell_type": "code",
   "execution_count": 46,
   "metadata": {},
   "outputs": [
    {
     "data": {
      "text/plain": [
       "t    33545\n",
       "f    16327\n",
       "Name: host_identity_verified, dtype: int64"
      ]
     },
     "execution_count": 46,
     "metadata": {},
     "output_type": "execute_result"
    }
   ],
   "source": [
    "# 'host_identity_verified'---> I am assuming t tobe True or correct match and f to be False or Incorrect match\n",
    "# Replace missig value with f \n",
    "# lets create  t to 1 and f to 0\n",
    "ab_train['host_identity_verified'].value_counts()"
   ]
  },
  {
   "cell_type": "code",
   "execution_count": 47,
   "metadata": {},
   "outputs": [
    {
     "data": {
      "text/plain": [
       "<matplotlib.axes._subplots.AxesSubplot at 0x260a9b92550>"
      ]
     },
     "execution_count": 47,
     "metadata": {},
     "output_type": "execute_result"
    },
    {
     "data": {
      "image/png": "[encoded data removed]",
      "text/plain": [
       "<Figure size 432x288 with 1 Axes>"
      ]
     },
     "metadata": {
      "needs_background": "light"
     },
     "output_type": "display_data"
    }
   ],
   "source": [
    "sns.countplot(x=ab_train['host_identity_verified'])"
   ]
  },
  {
   "cell_type": "code",
   "execution_count": 48,
   "metadata": {},
   "outputs": [
    {
     "data": {
      "text/plain": [
       "100%    29124\n",
       "90%      1563\n",
       "80%       752\n",
       "0%        597\n",
       "50%       406\n",
       "        ...  \n",
       "23%         1\n",
       "13%         1\n",
       "15%         1\n",
       "6%          1\n",
       "39%         1\n",
       "Name: host_response_rate, Length: 77, dtype: int64"
      ]
     },
     "execution_count": 48,
     "metadata": {},
     "output_type": "execute_result"
    }
   ],
   "source": [
    "# 'host_response_rate'---> Replace '%' with '' (empty space) and then convert it numeric\n",
    "# It has almost 25% of the missing values. \n",
    "# So I will craete indicator column like if response rate is there then 1 and if it is missing then 0\n",
    "ab_train['host_response_rate'].value_counts()"
   ]
  },
  {
   "cell_type": "code",
   "execution_count": 49,
   "metadata": {},
   "outputs": [
    {
     "data": {
      "text/plain": [
       "100.0    29124\n",
       "90.0      1563\n",
       "80.0       752\n",
       "0.0        597\n",
       "50.0       406\n",
       "         ...  \n",
       "39.0         1\n",
       "23.0         1\n",
       "13.0         1\n",
       "15.0         1\n",
       "6.0          1\n",
       "Name: host_response_rate, Length: 77, dtype: int64"
      ]
     },
     "execution_count": 49,
     "metadata": {},
     "output_type": "execute_result"
    }
   ],
   "source": [
    "ab_train['host_response_rate']=pd.to_numeric(ab_train['host_response_rate'].str.replace('%',''))\n",
    "ab_train['host_response_rate'].value_counts()"
   ]
  },
  {
   "cell_type": "code",
   "execution_count": 50,
   "metadata": {},
   "outputs": [
    {
     "data": {
      "text/plain": [
       "<matplotlib.axes._subplots.AxesSubplot at 0x260a9bad490>"
      ]
     },
     "execution_count": 50,
     "metadata": {},
     "output_type": "execute_result"
    },
    {
     "data": {
      "image/png": "[encoded data removed]",
      "text/plain": [
       "<Figure size 432x288 with 1 Axes>"
      ]
     },
     "metadata": {
      "needs_background": "light"
     },
     "output_type": "display_data"
    }
   ],
   "source": [
    "sns.distplot(a=ab_train['host_response_rate'])"
   ]
  },
  {
   "cell_type": "markdown",
   "metadata": {},
   "source": [
    "* 'host_response_rate'--> we can see that most of them good rating 90% and 100%. \n",
    "\n",
    "* what can do is: people who gave less rating. call them and ask what is the issue or difficulty they faced while staying.Based upon issue, like we can provide discount, additional amenities in their next visit."
   ]
  },
  {
   "cell_type": "code",
   "execution_count": 51,
   "metadata": {},
   "outputs": [
    {
     "data": {
      "text/plain": [
       "3/30/2015     173\n",
       "2/14/2014     114\n",
       "5/18/2015      60\n",
       "9/16/2016      58\n",
       "10/15/2015     55\n",
       "             ... \n",
       "7/25/2009       1\n",
       "8/16/2008       1\n",
       "2/11/2010       1\n",
       "7/4/2009        1\n",
       "2/6/2009        1\n",
       "Name: host_since, Length: 3009, dtype: int64"
      ]
     },
     "execution_count": 51,
     "metadata": {},
     "output_type": "execute_result"
    }
   ],
   "source": [
    "# 'host_since'--> lets covert into date-time format and extract features out of it and \n",
    "# Replace missing with median\n",
    "ab_train['host_since'].value_counts()"
   ]
  },
  {
   "cell_type": "code",
   "execution_count": 52,
   "metadata": {},
   "outputs": [
    {
     "data": {
      "text/plain": [
       "f    36873\n",
       "t    13126\n",
       "Name: instant_bookable, dtype: int64"
      ]
     },
     "execution_count": 52,
     "metadata": {},
     "output_type": "execute_result"
    }
   ],
   "source": [
    "# 'instant_bookable'---> lets create  t to 1 and f to 0\n",
    "ab_train['instant_bookable'].value_counts()"
   ]
  },
  {
   "cell_type": "code",
   "execution_count": 53,
   "metadata": {},
   "outputs": [
    {
     "data": {
      "text/plain": [
       "<matplotlib.axes._subplots.AxesSubplot at 0x260a9cab400>"
      ]
     },
     "execution_count": 53,
     "metadata": {},
     "output_type": "execute_result"
    },
    {
     "data": {
      "image/png": "[encoded data removed]",
      "text/plain": [
       "<Figure size 432x288 with 1 Axes>"
      ]
     },
     "metadata": {
      "needs_background": "light"
     },
     "output_type": "display_data"
    }
   ],
   "source": [
    "sns.countplot(x=ab_train['instant_bookable'])"
   ]
  },
  {
   "cell_type": "code",
   "execution_count": 54,
   "metadata": {},
   "outputs": [
    {
     "data": {
      "text/html": [
       "<div>\n",
       "<style scoped>\n",
       "    .dataframe tbody tr th:only-of-type {\n",
       "        vertical-align: middle;\n",
       "    }\n",
       "\n",
       "    .dataframe tbody tr th {\n",
       "        vertical-align: top;\n",
       "    }\n",
       "\n",
       "    .dataframe thead th {\n",
       "        text-align: right;\n",
       "    }\n",
       "</style>\n",
       "<table border=\"1\" class=\"dataframe\">\n",
       "  <thead>\n",
       "    <tr style=\"text-align: right;\">\n",
       "      <th>instant_bookable</th>\n",
       "      <th>f</th>\n",
       "      <th>t</th>\n",
       "    </tr>\n",
       "    <tr>\n",
       "      <th>host_identity_verified</th>\n",
       "      <th></th>\n",
       "      <th></th>\n",
       "    </tr>\n",
       "  </thead>\n",
       "  <tbody>\n",
       "    <tr>\n",
       "      <th>f</th>\n",
       "      <td>11098</td>\n",
       "      <td>5229</td>\n",
       "    </tr>\n",
       "    <tr>\n",
       "      <th>t</th>\n",
       "      <td>25671</td>\n",
       "      <td>7874</td>\n",
       "    </tr>\n",
       "  </tbody>\n",
       "</table>\n",
       "</div>"
      ],
      "text/plain": [
       "instant_bookable            f     t\n",
       "host_identity_verified             \n",
       "f                       11098  5229\n",
       "t                       25671  7874"
      ]
     },
     "execution_count": 54,
     "metadata": {},
     "output_type": "execute_result"
    }
   ],
   "source": [
    "pd.crosstab(ab_train['host_identity_verified'],ab_train['instant_bookable'])"
   ]
  },
  {
   "cell_type": "markdown",
   "metadata": {},
   "source": [
    "* In cross table, we can see frequency count of combinatons.It is giving me like instant_bookable f and host_identity_verified f is 11098 which is almost 22%. \n",
    "* we have to take care of instant_bookable f and host_identity_verified t is 25671 which is almost 51%. means we have to instant booking avalibility. so that we can make profits out f it."
   ]
  },
  {
   "cell_type": "code",
   "execution_count": 55,
   "metadata": {},
   "outputs": [
    {
     "data": {
      "text/plain": [
       "4/30/2017     892\n",
       "9/24/2017     856\n",
       "9/17/2017     791\n",
       "4/23/2017     693\n",
       "9/18/2017     565\n",
       "             ... \n",
       "10/5/2012       1\n",
       "9/3/2014        1\n",
       "7/11/2012       1\n",
       "10/30/2011      1\n",
       "1/25/2014       1\n",
       "Name: last_review, Length: 1257, dtype: int64"
      ]
     },
     "execution_count": 55,
     "metadata": {},
     "output_type": "execute_result"
    }
   ],
   "source": [
    "# 'last_review'--> lets covert into date-time format and extract features out of it and\n",
    "# Replace missing with min_val_column\n",
    "ab_train['last_review'].value_counts()"
   ]
  },
  {
   "cell_type": "code",
   "execution_count": 56,
   "metadata": {},
   "outputs": [
    {
     "data": {
      "text/plain": [
       "37.775394    2\n",
       "40.729826    2\n",
       "34.086309    2\n",
       "40.844920    2\n",
       "40.686782    2\n",
       "            ..\n",
       "40.723720    1\n",
       "40.653315    1\n",
       "34.064982    1\n",
       "40.716145    1\n",
       "34.039182    1\n",
       "Name: latitude, Length: 49976, dtype: int64"
      ]
     },
     "execution_count": 56,
     "metadata": {},
     "output_type": "execute_result"
    }
   ],
   "source": [
    "# 'latitude'--> lets use clustering for latitude,longitude and neighborhood and \n",
    "# create groups out of it\n",
    "ab_train['latitude'].value_counts()"
   ]
  },
  {
   "cell_type": "code",
   "execution_count": 57,
   "metadata": {},
   "outputs": [
    {
     "data": {
      "text/plain": [
       "-122.434945    2\n",
       "-118.380004    2\n",
       "-74.005940     2\n",
       "-73.958905     2\n",
       "-118.419493    2\n",
       "              ..\n",
       "-118.329875    1\n",
       "-118.428942    1\n",
       "-122.411254    1\n",
       "-73.989600     1\n",
       "-73.990121     1\n",
       "Name: longitude, Length: 49929, dtype: int64"
      ]
     },
     "execution_count": 57,
     "metadata": {},
     "output_type": "execute_result"
    }
   ],
   "source": [
    "# 'longitude'--->lets use clustering for latitude,longitude and neighborhood and \n",
    "# create groups out of it\n",
    "ab_train['longitude'].value_counts()"
   ]
  },
  {
   "cell_type": "code",
   "execution_count": 58,
   "metadata": {},
   "outputs": [
    {
     "data": {
      "text/plain": [
       "<matplotlib.axes._subplots.AxesSubplot at 0x260a9bdb100>"
      ]
     },
     "execution_count": 58,
     "metadata": {},
     "output_type": "execute_result"
    },
    {
     "data": {
      "image/png": "[encoded data removed]",
      "text/plain": [
       "<Figure size 432x288 with 1 Axes>"
      ]
     },
     "metadata": {
      "needs_background": "light"
     },
     "output_type": "display_data"
    }
   ],
   "source": [
    "sns.scatterplot(ab_train['latitude'],ab_train['longitude'])"
   ]
  },
  {
   "cell_type": "code",
   "execution_count": 59,
   "metadata": {},
   "outputs": [
    {
     "data": {
      "text/plain": [
       "Bunk bed in the Treat Street Clubhouse              7\n",
       "Cozy Private Room                                   6\n",
       "#NAME?                                              6\n",
       "Your home away from home                            5\n",
       "Charming East Village Apartment                     5\n",
       "                                                   ..\n",
       "Recording and Film studio on site with producers    1\n",
       "Luxury Renaissance Style Apartment                  1\n",
       "CHELSEA 1 bedroom in great location                 1\n",
       "Private two BR apartment in convenient location     1\n",
       "Brand new 2 min to Staples Center                   1\n",
       "Name: name, Length: 49629, dtype: int64"
      ]
     },
     "execution_count": 59,
     "metadata": {},
     "output_type": "execute_result"
    }
   ],
   "source": [
    "# 'name' ---> lets try NLP by using tfdif or count vectorizer \n",
    "ab_train['name'].value_counts()"
   ]
  },
  {
   "cell_type": "code",
   "execution_count": 60,
   "metadata": {},
   "outputs": [
    {
     "data": {
      "text/plain": [
       "Williamsburg          1909\n",
       "Bedford-Stuyvesant    1462\n",
       "Bushwick              1081\n",
       "Upper West Side        966\n",
       "Mid-Wilshire           961\n",
       "                      ... \n",
       "Randall Manor            1\n",
       "Beverly                  1\n",
       "Arrochar                 1\n",
       "Mt. Vernon Square        1\n",
       "Artesia                  1\n",
       "Name: neighbourhood, Length: 598, dtype: int64"
      ]
     },
     "execution_count": 60,
     "metadata": {},
     "output_type": "execute_result"
    }
   ],
   "source": [
    "# 'neighbourhood'---> lets drop it now since it has lot of unique values. we make use of lat and long\n",
    "# we can clustering for latitude,longitude and neighborhood and create groups out of it.\n",
    "ab_train['neighbourhood'].value_counts()"
   ]
  },
  {
   "cell_type": "code",
   "execution_count": 61,
   "metadata": {},
   "outputs": [
    {
     "data": {
      "text/plain": [
       "0      10678\n",
       "1       4782\n",
       "2       3224\n",
       "3       2474\n",
       "4       1926\n",
       "       ...  \n",
       "274        1\n",
       "465        1\n",
       "337        1\n",
       "400        1\n",
       "383        1\n",
       "Name: number_of_reviews, Length: 346, dtype: int64"
      ]
     },
     "execution_count": 61,
     "metadata": {},
     "output_type": "execute_result"
    }
   ],
   "source": [
    "# number of reviews--> let it be\n",
    "ab_train['number_of_reviews'].value_counts()"
   ]
  },
  {
   "cell_type": "code",
   "execution_count": 62,
   "metadata": {},
   "outputs": [
    {
     "data": {
      "text/plain": [
       "<matplotlib.axes._subplots.AxesSubplot at 0x260a9b4ed30>"
      ]
     },
     "execution_count": 62,
     "metadata": {},
     "output_type": "execute_result"
    },
    {
     "data": {
      "image/png": "[encoded data removed]",
      "text/plain": [
       "<Figure size 432x288 with 1 Axes>"
      ]
     },
     "metadata": {
      "needs_background": "light"
     },
     "output_type": "display_data"
    }
   ],
   "source": [
    "sns.distplot(ab_train['number_of_reviews'])"
   ]
  },
  {
   "cell_type": "markdown",
   "metadata": {},
   "source": [
    "* it is positively skewed.lets apply log transformation and see"
   ]
  },
  {
   "cell_type": "code",
   "execution_count": 63,
   "metadata": {},
   "outputs": [
    {
     "data": {
      "text/plain": [
       "100.0    10934\n",
       "98.0      2924\n",
       "97.0      2807\n",
       "96.0      2752\n",
       "95.0      2495\n",
       "93.0      2454\n",
       "90.0      1907\n",
       "99.0      1796\n",
       "94.0      1710\n",
       "80.0      1469\n",
       "92.0      1398\n",
       "91.0      1093\n",
       "89.0       755\n",
       "88.0       749\n",
       "87.0       732\n",
       "85.0       428\n",
       "86.0       349\n",
       "60.0       313\n",
       "84.0       291\n",
       "83.0       265\n",
       "70.0       148\n",
       "82.0       137\n",
       "73.0       112\n",
       "81.0        79\n",
       "75.0        66\n",
       "40.0        66\n",
       "20.0        64\n",
       "78.0        56\n",
       "79.0        53\n",
       "77.0        50\n",
       "76.0        48\n",
       "67.0        42\n",
       "74.0        27\n",
       "72.0        23\n",
       "65.0        21\n",
       "50.0        20\n",
       "68.0        12\n",
       "71.0        11\n",
       "53.0         8\n",
       "69.0         7\n",
       "64.0         7\n",
       "66.0         3\n",
       "63.0         3\n",
       "27.0         2\n",
       "47.0         2\n",
       "62.0         2\n",
       "57.0         2\n",
       "58.0         1\n",
       "49.0         1\n",
       "54.0         1\n",
       "35.0         1\n",
       "55.0         1\n",
       "30.0         1\n",
       "Name: review_scores_rating, dtype: int64"
      ]
     },
     "execution_count": 63,
     "metadata": {},
     "output_type": "execute_result"
    }
   ],
   "source": [
    "# 'review_scores_rating' --> Since there are almost 22.6% values are Missing.\n",
    "# lets create a indicator column if its  non-missing-->1 and missing-->0\n",
    "ab_train['review_scores_rating'].value_counts()"
   ]
  },
  {
   "cell_type": "code",
   "execution_count": 64,
   "metadata": {},
   "outputs": [
    {
     "data": {
      "text/plain": [
       "<matplotlib.axes._subplots.AxesSubplot at 0x260a6e4e370>"
      ]
     },
     "execution_count": 64,
     "metadata": {},
     "output_type": "execute_result"
    },
    {
     "data": {
      "image/png": "[encoded data removed]",
      "text/plain": [
       "<Figure size 432x288 with 1 Axes>"
      ]
     },
     "metadata": {
      "needs_background": "light"
     },
     "output_type": "display_data"
    }
   ],
   "source": [
    "sns.distplot(a=ab_train['review_scores_rating'])"
   ]
  },
  {
   "cell_type": "code",
   "execution_count": 65,
   "metadata": {},
   "outputs": [
    {
     "data": {
      "text/plain": [
       "https://a0.muscache.com/im/pictures/104667326/a7a2b145_original.jpg?aki_policy=small             2\n",
       "https://a0.muscache.com/im/pictures/109405834/9a555e66_original.jpg?aki_policy=small             2\n",
       "https://a0.muscache.com/im/pictures/4491e5c5-33f6-4704-9887-76a059f86fda.jpg?aki_policy=small    2\n",
       "https://a0.muscache.com/im/pictures/70087089/bc66229a_original.jpg?aki_policy=small              2\n",
       "https://a0.muscache.com/im/pictures/28563531/1000de61_original.jpg?aki_policy=small              2\n",
       "                                                                                                ..\n",
       "https://a0.muscache.com/im/pictures/01522392-4c9c-4241-84fc-7c440e42452d.jpg?aki_policy=small    1\n",
       "https://a0.muscache.com/im/pictures/80b33218-5ad4-464d-a3c0-1959ea8eaa41.jpg?aki_policy=small    1\n",
       "https://a0.muscache.com/im/pictures/ae9286d5-aa64-4654-92d6-0665c8a71212.jpg?aki_policy=small    1\n",
       "https://a0.muscache.com/im/pictures/10f81f63-9968-422c-9048-8e4c86683514.jpg?aki_policy=small    1\n",
       "https://a0.muscache.com/im/pictures/f3da4642-9609-4b70-9a31-9dd210e1ae52.jpg?aki_policy=small    1\n",
       "Name: thumbnail_url, Length: 44399, dtype: int64"
      ]
     },
     "execution_count": 65,
     "metadata": {},
     "output_type": "execute_result"
    }
   ],
   "source": [
    "# 'thumbnail_url' --> for building Ml model, lets drop this variable\n",
    "# In Deep leraning Model lets create some features out of this images and replace with ----\n",
    "\n",
    "ab_train['thumbnail_url'].value_counts()"
   ]
  },
  {
   "cell_type": "code",
   "execution_count": 66,
   "metadata": {},
   "outputs": [
    {
     "data": {
      "text/plain": [
       "11211                                                   1068\n",
       "90291                                                    862\n",
       "11221                                                    802\n",
       "11206                                                    697\n",
       "94110                                                    686\n",
       "                                                        ... \n",
       "95202\\r\\r\\r\\r\\r\\r\\n\\r\\r\\r\\r\\r\\r\\n\\r\\r\\r\\r\\r\\r\\n94158       1\n",
       "11249\\r\\r\\r\\r\\r\\r\\n11249                                   1\n",
       "11362                                                      1\n",
       "15074                                                      1\n",
       "10106                                                      1\n",
       "Name: zipcode, Length: 639, dtype: int64"
      ]
     },
     "execution_count": 66,
     "metadata": {},
     "output_type": "execute_result"
    }
   ],
   "source": [
    "# zipcode ---> Lets drop this variable. \n",
    "# Make use of latitude, longitude and Neighborhood and create cluster out of it \n",
    "ab_train['zipcode'].value_counts()"
   ]
  },
  {
   "cell_type": "code",
   "execution_count": 67,
   "metadata": {},
   "outputs": [
    {
     "data": {
      "text/plain": [
       "1.0     33543\n",
       "2.0      7678\n",
       "0.0      4542\n",
       "3.0      2910\n",
       "4.0       901\n",
       "5.0       234\n",
       "6.0        84\n",
       "7.0        27\n",
       "10.0        7\n",
       "8.0         6\n",
       "9.0         5\n",
       "Name: bedrooms, dtype: int64"
      ]
     },
     "execution_count": 67,
     "metadata": {},
     "output_type": "execute_result"
    }
   ],
   "source": [
    "# 'bedrooms'---> Replace missing value with median\n",
    "ab_train['bedrooms'].value_counts()"
   ]
  },
  {
   "cell_type": "code",
   "execution_count": 68,
   "metadata": {},
   "outputs": [
    {
     "data": {
      "text/plain": [
       "<matplotlib.axes._subplots.AxesSubplot at 0x260a9d75fd0>"
      ]
     },
     "execution_count": 68,
     "metadata": {},
     "output_type": "execute_result"
    },
    {
     "data": {
      "image/png": "[encoded data removed]",
      "text/plain": [
       "<Figure size 432x288 with 1 Axes>"
      ]
     },
     "metadata": {
      "needs_background": "light"
     },
     "output_type": "display_data"
    }
   ],
   "source": [
    "sns.distplot(a=ab_train['bedrooms'])"
   ]
  },
  {
   "cell_type": "code",
   "execution_count": 69,
   "metadata": {},
   "outputs": [
    {
     "data": {
      "text/plain": [
       "62"
      ]
     },
     "execution_count": 69,
     "metadata": {},
     "output_type": "execute_result"
    }
   ],
   "source": [
    "ab_train['bedrooms'].isnull().sum()"
   ]
  },
  {
   "cell_type": "code",
   "execution_count": 70,
   "metadata": {},
   "outputs": [
    {
     "data": {
      "text/plain": [
       "1.0     30420\n",
       "2.0     11354\n",
       "3.0      4294\n",
       "4.0      2039\n",
       "5.0       888\n",
       "6.0       442\n",
       "7.0       139\n",
       "8.0       134\n",
       "10.0       64\n",
       "9.0        52\n",
       "12.0       23\n",
       "16.0       23\n",
       "11.0       17\n",
       "13.0        7\n",
       "15.0        5\n",
       "14.0        4\n",
       "0.0         3\n",
       "Name: beds, dtype: int64"
      ]
     },
     "execution_count": 70,
     "metadata": {},
     "output_type": "execute_result"
    }
   ],
   "source": [
    "# 'beds'---> Replace missing value with median\n",
    "ab_train['beds'].value_counts()"
   ]
  },
  {
   "cell_type": "code",
   "execution_count": 71,
   "metadata": {},
   "outputs": [
    {
     "data": {
      "text/plain": [
       "<matplotlib.axes._subplots.AxesSubplot at 0x260a974dee0>"
      ]
     },
     "execution_count": 71,
     "metadata": {},
     "output_type": "execute_result"
    },
    {
     "data": {
      "image/png": "[encoded data removed]",
      "text/plain": [
       "<Figure size 432x288 with 1 Axes>"
      ]
     },
     "metadata": {
      "needs_background": "light"
     },
     "output_type": "display_data"
    }
   ],
   "source": [
    "sns.distplot(a=ab_train['beds'])"
   ]
  },
  {
   "cell_type": "code",
   "execution_count": 72,
   "metadata": {},
   "outputs": [
    {
     "data": {
      "text/plain": [
       "<matplotlib.axes._subplots.AxesSubplot at 0x260a9a722e0>"
      ]
     },
     "execution_count": 72,
     "metadata": {},
     "output_type": "execute_result"
    },
    {
     "data": {
      "image/png": "[encoded data removed]",
      "text/plain": [
       "<Figure size 432x288 with 1 Axes>"
      ]
     },
     "metadata": {
      "needs_background": "light"
     },
     "output_type": "display_data"
    }
   ],
   "source": [
    "sns.countplot(x=ab_train['beds'])"
   ]
  },
  {
   "cell_type": "code",
   "execution_count": 73,
   "metadata": {},
   "outputs": [
    {
     "data": {
      "text/plain": [
       "91"
      ]
     },
     "execution_count": 73,
     "metadata": {},
     "output_type": "execute_result"
    }
   ],
   "source": [
    "ab_train['beds'].isnull().sum()"
   ]
  },
  {
   "cell_type": "code",
   "execution_count": 74,
   "metadata": {},
   "outputs": [
    {
     "data": {
      "text/plain": [
       "4.605170    1819\n",
       "5.010635    1809\n",
       "4.317488    1383\n",
       "5.298317    1308\n",
       "3.912023    1237\n",
       "            ... \n",
       "6.272877       1\n",
       "6.706862       1\n",
       "6.599870       1\n",
       "7.442493       1\n",
       "6.510258       1\n",
       "Name: log_price, Length: 699, dtype: int64"
      ]
     },
     "execution_count": 74,
     "metadata": {},
     "output_type": "execute_result"
    }
   ],
   "source": [
    "# 'log_price'--> I am assuming that log_price is log transformed prices\n",
    "# my Target variable\n",
    "ab_train['log_price'].value_counts()"
   ]
  },
  {
   "cell_type": "code",
   "execution_count": 75,
   "metadata": {},
   "outputs": [
    {
     "data": {
      "text/plain": [
       "<matplotlib.axes._subplots.AxesSubplot at 0x260a9febd00>"
      ]
     },
     "execution_count": 75,
     "metadata": {},
     "output_type": "execute_result"
    },
    {
     "data": {
      "image/png": "[encoded data removed]",
      "text/plain": [
       "<Figure size 432x288 with 1 Axes>"
      ]
     },
     "metadata": {
      "needs_background": "light"
     },
     "output_type": "display_data"
    }
   ],
   "source": [
    "sns.distplot(a=ab_train['log_price'])"
   ]
  },
  {
   "cell_type": "markdown",
   "metadata": {},
   "source": [
    "### Missing values"
   ]
  },
  {
   "cell_type": "code",
   "execution_count": 77,
   "metadata": {},
   "outputs": [
    {
     "data": {
      "text/plain": [
       "id                            0\n",
       "property_type                 0\n",
       "room_type                     0\n",
       "amenities                     0\n",
       "accommodates                  0\n",
       "bathrooms                   146\n",
       "bed_type                      0\n",
       "cancellation_policy           0\n",
       "cleaning_fee                  0\n",
       "city                          0\n",
       "description                   0\n",
       "first_review              10711\n",
       "host_has_profile_pic        127\n",
       "host_identity_verified      127\n",
       "host_response_rate        12338\n",
       "host_since                  127\n",
       "instant_bookable              0\n",
       "last_review               10683\n",
       "latitude                      0\n",
       "longitude                     0\n",
       "name                          0\n",
       "neighbourhood              4617\n",
       "number_of_reviews             0\n",
       "review_scores_rating      11301\n",
       "thumbnail_url              5595\n",
       "zipcode                     640\n",
       "bedrooms                     62\n",
       "beds                         91\n",
       "log_price                     0\n",
       "                          49999\n",
       "dtype: int64"
      ]
     },
     "execution_count": 77,
     "metadata": {},
     "output_type": "execute_result"
    }
   ],
   "source": [
    "# checking count of null values in each column in train data\n",
    "ab_train.isnull().sum()"
   ]
  },
  {
   "cell_type": "code",
   "execution_count": 78,
   "metadata": {},
   "outputs": [
    {
     "data": {
      "text/plain": [
       "id                            0\n",
       "property_type                 0\n",
       "room_type                     0\n",
       "amenities                     0\n",
       "accommodates                  0\n",
       "bathrooms                    54\n",
       "bed_type                      0\n",
       "cancellation_policy           0\n",
       "cleaning_fee                  0\n",
       "city                          0\n",
       "description                   1\n",
       "first_review               5153\n",
       "host_has_profile_pic         61\n",
       "host_identity_verified       61\n",
       "host_response_rate         5961\n",
       "host_since                   61\n",
       "instant_bookable              0\n",
       "last_review                5144\n",
       "latitude                      0\n",
       "longitude                     0\n",
       "name                          4\n",
       "neighbourhood              2255\n",
       "number_of_reviews             0\n",
       "review_scores_rating       5421\n",
       "thumbnail_url              2621\n",
       "zipcode                     326\n",
       "bedrooms                     29\n",
       "beds                         40\n",
       "                          24111\n",
       "dtype: int64"
      ]
     },
     "execution_count": 78,
     "metadata": {},
     "output_type": "execute_result"
    }
   ],
   "source": [
    "# checking count of null values in each column in test data\n",
    "ab_test.isnull().sum()"
   ]
  },
  {
   "cell_type": "markdown",
   "metadata": {},
   "source": [
    "Both train and test data features have lot of missing values and we will explore and lets see how we can treat them."
   ]
  },
  {
   "cell_type": "code",
   "execution_count": 79,
   "metadata": {},
   "outputs": [
    {
     "data": {
      "text/plain": [
       "[('id', dtype('int64'), 49999),\n",
       " ('property_type', dtype('O'), 34),\n",
       " ('room_type', dtype('O'), 3),\n",
       " ('amenities', dtype('O'), 46190),\n",
       " ('accommodates', dtype('int64'), 16),\n",
       " ('bathrooms', dtype('float64'), 9),\n",
       " ('bed_type', dtype('O'), 2),\n",
       " ('cancellation_policy', dtype('O'), 4),\n",
       " ('cleaning_fee', dtype('bool'), 2),\n",
       " ('city', dtype('O'), 4),\n",
       " ('description', dtype('O'), 49683),\n",
       " ('first_review', dtype('O'), 2423),\n",
       " ('host_has_profile_pic', dtype('O'), 2),\n",
       " ('host_identity_verified', dtype('O'), 2),\n",
       " ('host_response_rate', dtype('float64'), 77),\n",
       " ('host_since', dtype('O'), 3009),\n",
       " ('instant_bookable', dtype('O'), 2),\n",
       " ('last_review', dtype('O'), 1257),\n",
       " ('latitude', dtype('float64'), 49976),\n",
       " ('longitude', dtype('float64'), 49929),\n",
       " ('name', dtype('O'), 49629),\n",
       " ('neighbourhood', dtype('O'), 598),\n",
       " ('number_of_reviews', dtype('int64'), 346),\n",
       " ('review_scores_rating', dtype('float64'), 53),\n",
       " ('thumbnail_url', dtype('O'), 44399),\n",
       " ('zipcode', dtype('O'), 639),\n",
       " ('bedrooms', dtype('float64'), 11),\n",
       " ('beds', dtype('float64'), 17),\n",
       " ('log_price', dtype('float64'), 699),\n",
       " (' ', dtype('float64'), 0)]"
      ]
     },
     "execution_count": 79,
     "metadata": {},
     "output_type": "execute_result"
    }
   ],
   "source": [
    "list(zip(ab_train.columns,ab_train.dtypes,ab_train.nunique()))"
   ]
  },
  {
   "cell_type": "code",
   "execution_count": 80,
   "metadata": {},
   "outputs": [],
   "source": [
    "# 'id' as a numerical type doesn't make sense. As it a unique identifier and we cannot use this \n",
    "# in the modelling process we will drop it.\n",
    "\n",
    "# 'thumbnail_url'---> It has lot of unique values. we will drop it because url's cannot extract \n",
    "# feature out of it\n",
    "\n",
    "# we will drop last column as well because the whole column contains NaN (Missing values). we can\n",
    "# treat it as junk variable"
   ]
  },
  {
   "cell_type": "code",
   "execution_count": 81,
   "metadata": {},
   "outputs": [
    {
     "name": "stdout",
     "output_type": "stream",
     "text": [
      "train data shape before: (49999, 30)\n",
      "train data shape after: (49999, 29)\n"
     ]
    }
   ],
   "source": [
    "print('train data shape before: {}'.format(ab_train.shape))\n",
    "ab_train.drop([' '],axis=1,inplace=True)\n",
    "print('train data shape after: {}'.format(ab_train.shape))"
   ]
  },
  {
   "cell_type": "code",
   "execution_count": 82,
   "metadata": {},
   "outputs": [
    {
     "data": {
      "text/plain": [
       "['bathrooms',\n",
       " 'first_review',\n",
       " 'host_has_profile_pic',\n",
       " 'host_identity_verified',\n",
       " 'host_response_rate',\n",
       " 'host_since',\n",
       " 'last_review',\n",
       " 'neighbourhood',\n",
       " 'review_scores_rating',\n",
       " 'thumbnail_url',\n",
       " 'zipcode',\n",
       " 'bedrooms',\n",
       " 'beds']"
      ]
     },
     "execution_count": 82,
     "metadata": {},
     "output_type": "execute_result"
    }
   ],
   "source": [
    "feature_with_nan=[feature for feature in ab_train.columns if ab_train[feature].isnull().sum()>1]\n",
    "feature_with_nan"
   ]
  },
  {
   "cell_type": "code",
   "execution_count": 83,
   "metadata": {},
   "outputs": [
    {
     "name": "stdout",
     "output_type": "stream",
     "text": [
      "bathrooms: 0.3% missing values\n",
      "first_review: 21.4% missing values\n",
      "host_has_profile_pic: 0.3% missing values\n",
      "host_identity_verified: 0.3% missing values\n",
      "host_response_rate: 24.7% missing values\n",
      "host_since: 0.3% missing values\n",
      "last_review: 21.4% missing values\n",
      "neighbourhood: 9.2% missing values\n",
      "review_scores_rating: 22.6% missing values\n",
      "thumbnail_url: 11.200000000000001% missing values\n",
      "zipcode: 1.3% missing values\n",
      "bedrooms: 0.1% missing values\n",
      "beds: 0.2% missing values\n"
     ]
    }
   ],
   "source": [
    "for feature in feature_with_nan:\n",
    "    print('{}: {}% missing values'.format(feature,np.round(ab_train[feature].isnull().mean(),3)*100))"
   ]
  },
  {
   "cell_type": "code",
   "execution_count": 84,
   "metadata": {},
   "outputs": [
    {
     "data": {
      "image/png": "[encoded data removed]",
      "text/plain": [
       "<Figure size 432x288 with 1 Axes>"
      ]
     },
     "metadata": {
      "needs_background": "light"
     },
     "output_type": "display_data"
    },
    {
     "data": {
      "image/png": "[encoded data removed]",
      "text/plain": [
       "<Figure size 432x288 with 1 Axes>"
      ]
     },
     "metadata": {
      "needs_background": "light"
     },
     "output_type": "display_data"
    },
    {
     "data": {
      "image/png": "[encoded data removed]",
      "text/plain": [
       "<Figure size 432x288 with 1 Axes>"
      ]
     },
     "metadata": {
      "needs_background": "light"
     },
     "output_type": "display_data"
    },
    {
     "data": {
      "image/png": "[encoded data removed]",
      "text/plain": [
       "<Figure size 432x288 with 1 Axes>"
      ]
     },
     "metadata": {
      "needs_background": "light"
     },
     "output_type": "display_data"
    },
    {
     "data": {
      "image/png": "[encoded data removed]",
      "text/plain": [
       "<Figure size 432x288 with 1 Axes>"
      ]
     },
     "metadata": {
      "needs_background": "light"
     },
     "output_type": "display_data"
    },
    {
     "data": {
      "image/png": "[encoded data removed]",
      "text/plain": [
       "<Figure size 432x288 with 1 Axes>"
      ]
     },
     "metadata": {
      "needs_background": "light"
     },
     "output_type": "display_data"
    },
    {
     "data": {
      "image/png": "[encoded data removed]",
      "text/plain": [
       "<Figure size 432x288 with 1 Axes>"
      ]
     },
     "metadata": {
      "needs_background": "light"
     },
     "output_type": "display_data"
    },
    {
     "data": {
      "image/png": "[encoded data removed]",
      "text/plain": [
       "<Figure size 432x288 with 1 Axes>"
      ]
     },
     "metadata": {
      "needs_background": "light"
     },
     "output_type": "display_data"
    },
    {
     "data": {
      "image/png": "[encoded data removed]",
      "text/plain": [
       "<Figure size 432x288 with 1 Axes>"
      ]
     },
     "metadata": {
      "needs_background": "light"
     },
     "output_type": "display_data"
    },
    {
     "data": {
      "image/png": "[encoded data removed]",
      "text/plain": [
       "<Figure size 432x288 with 1 Axes>"
      ]
     },
     "metadata": {
      "needs_background": "light"
     },
     "output_type": "display_data"
    },
    {
     "data": {
      "image/png": "[encoded data removed]",
      "text/plain": [
       "<Figure size 432x288 with 1 Axes>"
      ]
     },
     "metadata": {
      "needs_background": "light"
     },
     "output_type": "display_data"
    },
    {
     "data": {
      "image/png": "[encoded data removed]",
      "text/plain": [
       "<Figure size 432x288 with 1 Axes>"
      ]
     },
     "metadata": {
      "needs_background": "light"
     },
     "output_type": "display_data"
    },
    {
     "data": {
      "image/png": "[encoded data removed]",
      "text/plain": [
       "<Figure size 432x288 with 1 Axes>"
      ]
     },
     "metadata": {
      "needs_background": "light"
     },
     "output_type": "display_data"
    }
   ],
   "source": [
    "for feature in feature_with_nan:\n",
    "    train=ab_train.copy()\n",
    "    \n",
    "    train[feature]=np.where(train[feature].isnull(),1,0)\n",
    "    \n",
    "    train.groupby(feature)['log_price'].median().plot.bar()\n",
    "    plt.xlabel(feature)\n",
    "    plt.ylabel('log_price')\n",
    "    plt.title(feature)\n",
    "    plt.show()"
   ]
  },
  {
   "cell_type": "markdown",
   "metadata": {},
   "source": [
    "\n",
    "Here With the relation between the missing values and the dependent variable is clearly visible.So We need to replace these nan values with something meaningful which we will do in the Feature Engineering section"
   ]
  },
  {
   "cell_type": "code",
   "execution_count": 85,
   "metadata": {},
   "outputs": [],
   "source": [
    "### Numerical features"
   ]
  },
  {
   "cell_type": "code",
   "execution_count": 86,
   "metadata": {},
   "outputs": [
    {
     "name": "stdout",
     "output_type": "stream",
     "text": [
      "Number of Numerical features: 11\n"
     ]
    },
    {
     "data": {
      "text/html": [
       "<div>\n",
       "<style scoped>\n",
       "    .dataframe tbody tr th:only-of-type {\n",
       "        vertical-align: middle;\n",
       "    }\n",
       "\n",
       "    .dataframe tbody tr th {\n",
       "        vertical-align: top;\n",
       "    }\n",
       "\n",
       "    .dataframe thead th {\n",
       "        text-align: right;\n",
       "    }\n",
       "</style>\n",
       "<table border=\"1\" class=\"dataframe\">\n",
       "  <thead>\n",
       "    <tr style=\"text-align: right;\">\n",
       "      <th></th>\n",
       "      <th>accommodates</th>\n",
       "      <th>bathrooms</th>\n",
       "      <th>cleaning_fee</th>\n",
       "      <th>host_response_rate</th>\n",
       "      <th>latitude</th>\n",
       "      <th>longitude</th>\n",
       "      <th>number_of_reviews</th>\n",
       "      <th>review_scores_rating</th>\n",
       "      <th>bedrooms</th>\n",
       "      <th>beds</th>\n",
       "      <th>log_price</th>\n",
       "    </tr>\n",
       "  </thead>\n",
       "  <tbody>\n",
       "    <tr>\n",
       "      <th>0</th>\n",
       "      <td>3</td>\n",
       "      <td>1.0</td>\n",
       "      <td>True</td>\n",
       "      <td>NaN</td>\n",
       "      <td>40.696524</td>\n",
       "      <td>-73.991617</td>\n",
       "      <td>2</td>\n",
       "      <td>100.0</td>\n",
       "      <td>1.0</td>\n",
       "      <td>1.0</td>\n",
       "      <td>5.010635</td>\n",
       "    </tr>\n",
       "    <tr>\n",
       "      <th>1</th>\n",
       "      <td>7</td>\n",
       "      <td>1.0</td>\n",
       "      <td>True</td>\n",
       "      <td>100.0</td>\n",
       "      <td>40.766115</td>\n",
       "      <td>-73.989040</td>\n",
       "      <td>6</td>\n",
       "      <td>93.0</td>\n",
       "      <td>3.0</td>\n",
       "      <td>3.0</td>\n",
       "      <td>5.129899</td>\n",
       "    </tr>\n",
       "    <tr>\n",
       "      <th>2</th>\n",
       "      <td>5</td>\n",
       "      <td>1.0</td>\n",
       "      <td>True</td>\n",
       "      <td>100.0</td>\n",
       "      <td>40.808110</td>\n",
       "      <td>-73.943756</td>\n",
       "      <td>10</td>\n",
       "      <td>92.0</td>\n",
       "      <td>1.0</td>\n",
       "      <td>3.0</td>\n",
       "      <td>4.976734</td>\n",
       "    </tr>\n",
       "    <tr>\n",
       "      <th>3</th>\n",
       "      <td>4</td>\n",
       "      <td>1.0</td>\n",
       "      <td>True</td>\n",
       "      <td>NaN</td>\n",
       "      <td>37.772004</td>\n",
       "      <td>-122.431619</td>\n",
       "      <td>0</td>\n",
       "      <td>NaN</td>\n",
       "      <td>2.0</td>\n",
       "      <td>2.0</td>\n",
       "      <td>6.620073</td>\n",
       "    </tr>\n",
       "    <tr>\n",
       "      <th>4</th>\n",
       "      <td>2</td>\n",
       "      <td>1.0</td>\n",
       "      <td>True</td>\n",
       "      <td>100.0</td>\n",
       "      <td>38.925627</td>\n",
       "      <td>-77.034596</td>\n",
       "      <td>4</td>\n",
       "      <td>40.0</td>\n",
       "      <td>0.0</td>\n",
       "      <td>1.0</td>\n",
       "      <td>4.744932</td>\n",
       "    </tr>\n",
       "  </tbody>\n",
       "</table>\n",
       "</div>"
      ],
      "text/plain": [
       "   accommodates  bathrooms  cleaning_fee  host_response_rate   latitude  \\\n",
       "0             3        1.0          True                 NaN  40.696524   \n",
       "1             7        1.0          True               100.0  40.766115   \n",
       "2             5        1.0          True               100.0  40.808110   \n",
       "3             4        1.0          True                 NaN  37.772004   \n",
       "4             2        1.0          True               100.0  38.925627   \n",
       "\n",
       "    longitude  number_of_reviews  review_scores_rating  bedrooms  beds  \\\n",
       "0  -73.991617                  2                 100.0       1.0   1.0   \n",
       "1  -73.989040                  6                  93.0       3.0   3.0   \n",
       "2  -73.943756                 10                  92.0       1.0   3.0   \n",
       "3 -122.431619                  0                   NaN       2.0   2.0   \n",
       "4  -77.034596                  4                  40.0       0.0   1.0   \n",
       "\n",
       "   log_price  \n",
       "0   5.010635  \n",
       "1   5.129899  \n",
       "2   4.976734  \n",
       "3   6.620073  \n",
       "4   4.744932  "
      ]
     },
     "execution_count": 86,
     "metadata": {},
     "output_type": "execute_result"
    }
   ],
   "source": [
    "numerical_feature=[feature for feature in ab_train.columns if ab_train[feature].dtypes !='O' and \n",
    "                   feature not in ['id']]\n",
    "print('Number of Numerical features: {}'.format(len(numerical_feature)))\n",
    "\n",
    "ab_train[numerical_feature].head()"
   ]
  },
  {
   "cell_type": "code",
   "execution_count": 87,
   "metadata": {},
   "outputs": [
    {
     "name": "stdout",
     "output_type": "stream",
     "text": [
      "Number of discrete features: 5\n"
     ]
    },
    {
     "data": {
      "text/html": [
       "<div>\n",
       "<style scoped>\n",
       "    .dataframe tbody tr th:only-of-type {\n",
       "        vertical-align: middle;\n",
       "    }\n",
       "\n",
       "    .dataframe tbody tr th {\n",
       "        vertical-align: top;\n",
       "    }\n",
       "\n",
       "    .dataframe thead th {\n",
       "        text-align: right;\n",
       "    }\n",
       "</style>\n",
       "<table border=\"1\" class=\"dataframe\">\n",
       "  <thead>\n",
       "    <tr style=\"text-align: right;\">\n",
       "      <th></th>\n",
       "      <th>accommodates</th>\n",
       "      <th>bathrooms</th>\n",
       "      <th>cleaning_fee</th>\n",
       "      <th>bedrooms</th>\n",
       "      <th>beds</th>\n",
       "    </tr>\n",
       "  </thead>\n",
       "  <tbody>\n",
       "    <tr>\n",
       "      <th>0</th>\n",
       "      <td>3</td>\n",
       "      <td>1.0</td>\n",
       "      <td>True</td>\n",
       "      <td>1.0</td>\n",
       "      <td>1.0</td>\n",
       "    </tr>\n",
       "    <tr>\n",
       "      <th>1</th>\n",
       "      <td>7</td>\n",
       "      <td>1.0</td>\n",
       "      <td>True</td>\n",
       "      <td>3.0</td>\n",
       "      <td>3.0</td>\n",
       "    </tr>\n",
       "    <tr>\n",
       "      <th>2</th>\n",
       "      <td>5</td>\n",
       "      <td>1.0</td>\n",
       "      <td>True</td>\n",
       "      <td>1.0</td>\n",
       "      <td>3.0</td>\n",
       "    </tr>\n",
       "    <tr>\n",
       "      <th>3</th>\n",
       "      <td>4</td>\n",
       "      <td>1.0</td>\n",
       "      <td>True</td>\n",
       "      <td>2.0</td>\n",
       "      <td>2.0</td>\n",
       "    </tr>\n",
       "    <tr>\n",
       "      <th>4</th>\n",
       "      <td>2</td>\n",
       "      <td>1.0</td>\n",
       "      <td>True</td>\n",
       "      <td>0.0</td>\n",
       "      <td>1.0</td>\n",
       "    </tr>\n",
       "  </tbody>\n",
       "</table>\n",
       "</div>"
      ],
      "text/plain": [
       "   accommodates  bathrooms  cleaning_fee  bedrooms  beds\n",
       "0             3        1.0          True       1.0   1.0\n",
       "1             7        1.0          True       3.0   3.0\n",
       "2             5        1.0          True       1.0   3.0\n",
       "3             4        1.0          True       2.0   2.0\n",
       "4             2        1.0          True       0.0   1.0"
      ]
     },
     "execution_count": 87,
     "metadata": {},
     "output_type": "execute_result"
    }
   ],
   "source": [
    "discrete_feature=[feature for feature in numerical_feature if len(ab_train[feature].unique())<25]\n",
    "print('Number of discrete features: {}'.format(len(discrete_feature)))\n",
    "\n",
    "ab_train[discrete_feature].head()"
   ]
  },
  {
   "cell_type": "code",
   "execution_count": 88,
   "metadata": {},
   "outputs": [
    {
     "data": {
      "image/png": "[encoded data removed]",
      "text/plain": [
       "<Figure size 864x288 with 1 Axes>"
      ]
     },
     "metadata": {
      "needs_background": "light"
     },
     "output_type": "display_data"
    },
    {
     "data": {
      "image/png": "[encoded data removed]",
      "text/plain": [
       "<Figure size 864x288 with 1 Axes>"
      ]
     },
     "metadata": {
      "needs_background": "light"
     },
     "output_type": "display_data"
    },
    {
     "data": {
      "image/png": "[encoded data removed]",
      "text/plain": [
       "<Figure size 864x288 with 1 Axes>"
      ]
     },
     "metadata": {
      "needs_background": "light"
     },
     "output_type": "display_data"
    },
    {
     "data": {
      "image/png": "[encoded data removed]",
      "text/plain": [
       "<Figure size 864x288 with 1 Axes>"
      ]
     },
     "metadata": {
      "needs_background": "light"
     },
     "output_type": "display_data"
    },
    {
     "data": {
      "image/png": "[encoded data removed]",
      "text/plain": [
       "<Figure size 864x288 with 1 Axes>"
      ]
     },
     "metadata": {
      "needs_background": "light"
     },
     "output_type": "display_data"
    }
   ],
   "source": [
    "## Lets Find the realtionship between them and lag_price\n",
    "\n",
    "for feature in discrete_feature:\n",
    "    data=ab_train.copy()\n",
    "    plt.figure(figsize=(12,4))\n",
    "    data.groupby(feature)['log_price'].median().plot.bar()\n",
    "    plt.xlabel(feature)\n",
    "    plt.ylabel('log_price')\n",
    "    plt.title(feature)\n",
    "    plt.show()"
   ]
  },
  {
   "cell_type": "markdown",
   "metadata": {},
   "source": [
    "There is a clear relationship between variable number and log_Price"
   ]
  },
  {
   "cell_type": "code",
   "execution_count": 89,
   "metadata": {},
   "outputs": [
    {
     "name": "stdout",
     "output_type": "stream",
     "text": [
      "Number of Continuous features: 6\n"
     ]
    },
    {
     "data": {
      "text/html": [
       "<div>\n",
       "<style scoped>\n",
       "    .dataframe tbody tr th:only-of-type {\n",
       "        vertical-align: middle;\n",
       "    }\n",
       "\n",
       "    .dataframe tbody tr th {\n",
       "        vertical-align: top;\n",
       "    }\n",
       "\n",
       "    .dataframe thead th {\n",
       "        text-align: right;\n",
       "    }\n",
       "</style>\n",
       "<table border=\"1\" class=\"dataframe\">\n",
       "  <thead>\n",
       "    <tr style=\"text-align: right;\">\n",
       "      <th></th>\n",
       "      <th>host_response_rate</th>\n",
       "      <th>latitude</th>\n",
       "      <th>longitude</th>\n",
       "      <th>number_of_reviews</th>\n",
       "      <th>review_scores_rating</th>\n",
       "      <th>log_price</th>\n",
       "    </tr>\n",
       "  </thead>\n",
       "  <tbody>\n",
       "    <tr>\n",
       "      <th>0</th>\n",
       "      <td>NaN</td>\n",
       "      <td>40.696524</td>\n",
       "      <td>-73.991617</td>\n",
       "      <td>2</td>\n",
       "      <td>100.0</td>\n",
       "      <td>5.010635</td>\n",
       "    </tr>\n",
       "    <tr>\n",
       "      <th>1</th>\n",
       "      <td>100.0</td>\n",
       "      <td>40.766115</td>\n",
       "      <td>-73.989040</td>\n",
       "      <td>6</td>\n",
       "      <td>93.0</td>\n",
       "      <td>5.129899</td>\n",
       "    </tr>\n",
       "    <tr>\n",
       "      <th>2</th>\n",
       "      <td>100.0</td>\n",
       "      <td>40.808110</td>\n",
       "      <td>-73.943756</td>\n",
       "      <td>10</td>\n",
       "      <td>92.0</td>\n",
       "      <td>4.976734</td>\n",
       "    </tr>\n",
       "    <tr>\n",
       "      <th>3</th>\n",
       "      <td>NaN</td>\n",
       "      <td>37.772004</td>\n",
       "      <td>-122.431619</td>\n",
       "      <td>0</td>\n",
       "      <td>NaN</td>\n",
       "      <td>6.620073</td>\n",
       "    </tr>\n",
       "    <tr>\n",
       "      <th>4</th>\n",
       "      <td>100.0</td>\n",
       "      <td>38.925627</td>\n",
       "      <td>-77.034596</td>\n",
       "      <td>4</td>\n",
       "      <td>40.0</td>\n",
       "      <td>4.744932</td>\n",
       "    </tr>\n",
       "  </tbody>\n",
       "</table>\n",
       "</div>"
      ],
      "text/plain": [
       "   host_response_rate   latitude   longitude  number_of_reviews  \\\n",
       "0                 NaN  40.696524  -73.991617                  2   \n",
       "1               100.0  40.766115  -73.989040                  6   \n",
       "2               100.0  40.808110  -73.943756                 10   \n",
       "3                 NaN  37.772004 -122.431619                  0   \n",
       "4               100.0  38.925627  -77.034596                  4   \n",
       "\n",
       "   review_scores_rating  log_price  \n",
       "0                 100.0   5.010635  \n",
       "1                  93.0   5.129899  \n",
       "2                  92.0   4.976734  \n",
       "3                   NaN   6.620073  \n",
       "4                  40.0   4.744932  "
      ]
     },
     "execution_count": 89,
     "metadata": {},
     "output_type": "execute_result"
    }
   ],
   "source": [
    "continuous_feature=[feature for feature in numerical_feature if feature not in discrete_feature]\n",
    "print('Number of Continuous features: {}'.format(len(continuous_feature)))\n",
    "\n",
    "ab_train[continuous_feature].head()"
   ]
  },
  {
   "cell_type": "code",
   "execution_count": 90,
   "metadata": {},
   "outputs": [
    {
     "data": {
      "image/png": "[encoded data removed]",
      "text/plain": [
       "<Figure size 432x288 with 1 Axes>"
      ]
     },
     "metadata": {
      "needs_background": "light"
     },
     "output_type": "display_data"
    },
    {
     "data": {
      "image/png": "[encoded data removed]",
      "text/plain": [
       "<Figure size 432x288 with 1 Axes>"
      ]
     },
     "metadata": {
      "needs_background": "light"
     },
     "output_type": "display_data"
    },
    {
     "data": {
      "image/png": "[encoded data removed]",
      "text/plain": [
       "<Figure size 432x288 with 1 Axes>"
      ]
     },
     "metadata": {
      "needs_background": "light"
     },
     "output_type": "display_data"
    },
    {
     "data": {
      "image/png": "[encoded data removed]",
      "text/plain": [
       "<Figure size 432x288 with 1 Axes>"
      ]
     },
     "metadata": {
      "needs_background": "light"
     },
     "output_type": "display_data"
    }
   ],
   "source": [
    "## Lets analyse the continuous values by creating histograms to understand the distribution\n",
    "for feature in continuous_feature:\n",
    "    data=ab_train.copy()\n",
    "    if feature not in ['latitude','longitude']:\n",
    "        data[feature].hist(bins=50)\n",
    "        plt.xlabel(feature)\n",
    "        plt.ylabel('Count')\n",
    "        plt.title(feature)\n",
    "        plt.show()"
   ]
  },
  {
   "cell_type": "markdown",
   "metadata": {},
   "source": [
    "* 'number_of_reviews' ---> It is posivively skewed\n",
    "* 'log_price' ---> Normally distributed"
   ]
  },
  {
   "cell_type": "code",
   "execution_count": 91,
   "metadata": {},
   "outputs": [
    {
     "data": {
      "image/png": "[encoded data removed]",
      "text/plain": [
       "<Figure size 1152x648 with 2 Axes>"
      ]
     },
     "metadata": {
      "needs_background": "light"
     },
     "output_type": "display_data"
    }
   ],
   "source": [
    "plt.figure(figsize=(16,9))\n",
    "plt.scatter(x=ab_train['latitude'],y=ab_train['longitude'],c=ab_train['log_price'],cmap='viridis')\n",
    "plt.colorbar()\n",
    "plt.xlabel(\"Longitude\")\n",
    "plt.ylabel(\"Latitude\")\n",
    "plt.title(\"Distribution of listing prices\")\n",
    "plt.show()"
   ]
  },
  {
   "cell_type": "code",
   "execution_count": null,
   "metadata": {},
   "outputs": [],
   "source": []
  },
  {
   "cell_type": "markdown",
   "metadata": {},
   "source": [
    "### outliers"
   ]
  },
  {
   "cell_type": "code",
   "execution_count": 92,
   "metadata": {},
   "outputs": [
    {
     "data": {
      "image/png": "[encoded data removed]",
      "text/plain": [
       "<Figure size 432x288 with 1 Axes>"
      ]
     },
     "metadata": {
      "needs_background": "light"
     },
     "output_type": "display_data"
    },
    {
     "data": {
      "image/png": "[encoded data removed]",
      "text/plain": [
       "<Figure size 432x288 with 1 Axes>"
      ]
     },
     "metadata": {
      "needs_background": "light"
     },
     "output_type": "display_data"
    },
    {
     "data": {
      "image/png": "[encoded data removed]",
      "text/plain": [
       "<Figure size 432x288 with 1 Axes>"
      ]
     },
     "metadata": {
      "needs_background": "light"
     },
     "output_type": "display_data"
    },
    {
     "data": {
      "image/png": "[encoded data removed]",
      "text/plain": [
       "<Figure size 432x288 with 1 Axes>"
      ]
     },
     "metadata": {
      "needs_background": "light"
     },
     "output_type": "display_data"
    }
   ],
   "source": [
    "for feature in continuous_feature:\n",
    "    data=ab_train.copy()\n",
    "    if 0 in data[feature].unique():\n",
    "        pass\n",
    "    else:\n",
    "        data.boxplot(column=feature)\n",
    "        plt.ylabel(feature)\n",
    "        plt.title(feature)\n",
    "        plt.show()"
   ]
  },
  {
   "cell_type": "markdown",
   "metadata": {},
   "source": [
    "###### 'review_scores_rating' ---> It has has lot of outliers o the lower side of box plot.\n",
    "* we should check whether the data we collected is correctlly written and we should check with \n",
    "those customers why did they gave lower rating. \n",
    "* we are going to tree based algorithims and it will take care of it"
   ]
  },
  {
   "cell_type": "code",
   "execution_count": 93,
   "metadata": {},
   "outputs": [
    {
     "name": "stdout",
     "output_type": "stream",
     "text": [
      "Number of date_time features: 3\n"
     ]
    },
    {
     "data": {
      "text/html": [
       "<div>\n",
       "<style scoped>\n",
       "    .dataframe tbody tr th:only-of-type {\n",
       "        vertical-align: middle;\n",
       "    }\n",
       "\n",
       "    .dataframe tbody tr th {\n",
       "        vertical-align: top;\n",
       "    }\n",
       "\n",
       "    .dataframe thead th {\n",
       "        text-align: right;\n",
       "    }\n",
       "</style>\n",
       "<table border=\"1\" class=\"dataframe\">\n",
       "  <thead>\n",
       "    <tr style=\"text-align: right;\">\n",
       "      <th></th>\n",
       "      <th>first_review</th>\n",
       "      <th>host_since</th>\n",
       "      <th>last_review</th>\n",
       "    </tr>\n",
       "  </thead>\n",
       "  <tbody>\n",
       "    <tr>\n",
       "      <th>0</th>\n",
       "      <td>6/18/2016</td>\n",
       "      <td>3/26/2012</td>\n",
       "      <td>7/18/2016</td>\n",
       "    </tr>\n",
       "    <tr>\n",
       "      <th>1</th>\n",
       "      <td>8/5/2017</td>\n",
       "      <td>6/19/2017</td>\n",
       "      <td>9/23/2017</td>\n",
       "    </tr>\n",
       "    <tr>\n",
       "      <th>2</th>\n",
       "      <td>4/30/2017</td>\n",
       "      <td>10/25/2016</td>\n",
       "      <td>9/14/2017</td>\n",
       "    </tr>\n",
       "    <tr>\n",
       "      <th>3</th>\n",
       "      <td>NaN</td>\n",
       "      <td>4/19/2015</td>\n",
       "      <td>NaN</td>\n",
       "    </tr>\n",
       "    <tr>\n",
       "      <th>4</th>\n",
       "      <td>5/12/2015</td>\n",
       "      <td>3/1/2015</td>\n",
       "      <td>1/22/2017</td>\n",
       "    </tr>\n",
       "  </tbody>\n",
       "</table>\n",
       "</div>"
      ],
      "text/plain": [
       "  first_review  host_since last_review\n",
       "0    6/18/2016   3/26/2012   7/18/2016\n",
       "1     8/5/2017   6/19/2017   9/23/2017\n",
       "2    4/30/2017  10/25/2016   9/14/2017\n",
       "3          NaN   4/19/2015         NaN\n",
       "4    5/12/2015    3/1/2015   1/22/2017"
      ]
     },
     "execution_count": 93,
     "metadata": {},
     "output_type": "execute_result"
    }
   ],
   "source": [
    "date_time=['first_review','host_since','last_review']\n",
    "print('Number of date_time features: {}'.format(len(date_time)))\n",
    "\n",
    "ab_train[date_time].head()"
   ]
  },
  {
   "cell_type": "code",
   "execution_count": 108,
   "metadata": {},
   "outputs": [],
   "source": [
    "data=ab_train.copy()"
   ]
  },
  {
   "cell_type": "code",
   "execution_count": 109,
   "metadata": {},
   "outputs": [],
   "source": [
    "data['first_review']=pd.to_datetime(data['first_review'],format='%m/%d/%Y',errors='coerce').dt.year.fillna(0)"
   ]
  },
  {
   "cell_type": "code",
   "execution_count": 110,
   "metadata": {},
   "outputs": [
    {
     "data": {
      "image/png": "[encoded data removed]",
      "text/plain": [
       "<Figure size 864x288 with 1 Axes>"
      ]
     },
     "metadata": {
      "needs_background": "light"
     },
     "output_type": "display_data"
    },
    {
     "data": {
      "image/png": "[encoded data removed]",
      "text/plain": [
       "<Figure size 864x288 with 1 Axes>"
      ]
     },
     "metadata": {
      "needs_background": "light"
     },
     "output_type": "display_data"
    }
   ],
   "source": [
    "# countplot\n",
    "plt.figure(figsize=(12,4))\n",
    "sns.countplot(x=\"first_review\", data=data)\n",
    "plt.title('Row count')\n",
    "plt.show()\n",
    "\n",
    "# Boxplot\n",
    "plt.figure(figsize=(12,4))\n",
    "sns.boxplot( x='first_review',y='log_price',data=data,orient='v')\n",
    "plt.title('first_review')\n",
    "plt.show()"
   ]
  },
  {
   "cell_type": "code",
   "execution_count": 98,
   "metadata": {},
   "outputs": [],
   "source": [
    "data['host_since']=pd.to_datetime(data['host_since'],format='%m/%d/%Y',errors='coerce').dt.year.fillna(0)"
   ]
  },
  {
   "cell_type": "code",
   "execution_count": 99,
   "metadata": {},
   "outputs": [
    {
     "data": {
      "image/png": "[encoded data removed]",
      "text/plain": [
       "<Figure size 864x288 with 1 Axes>"
      ]
     },
     "metadata": {
      "needs_background": "light"
     },
     "output_type": "display_data"
    },
    {
     "data": {
      "image/png": "[encoded data removed]",
      "text/plain": [
       "<Figure size 864x288 with 1 Axes>"
      ]
     },
     "metadata": {
      "needs_background": "light"
     },
     "output_type": "display_data"
    }
   ],
   "source": [
    "# countplot\n",
    "plt.figure(figsize=(12,4))\n",
    "sns.countplot(x=\"host_since\", data=data)\n",
    "plt.title('Row count')\n",
    "plt.show()\n",
    "\n",
    "# Boxplot\n",
    "plt.figure(figsize=(12,4))\n",
    "sns.boxplot( x='host_since',y='log_price',data=data,orient='v')\n",
    "plt.title('host_since')\n",
    "plt.show()"
   ]
  },
  {
   "cell_type": "code",
   "execution_count": 100,
   "metadata": {},
   "outputs": [],
   "source": [
    "data['last_review']=pd.to_datetime(data['last_review'],format='%m/%d/%Y',errors='coerce').dt.year.fillna(0)"
   ]
  },
  {
   "cell_type": "code",
   "execution_count": 101,
   "metadata": {},
   "outputs": [
    {
     "data": {
      "image/png": "[encoded data removed]",
      "text/plain": [
       "<Figure size 864x288 with 1 Axes>"
      ]
     },
     "metadata": {
      "needs_background": "light"
     },
     "output_type": "display_data"
    },
    {
     "data": {
      "image/png": "[encoded data removed]",
      "text/plain": [
       "<Figure size 864x288 with 1 Axes>"
      ]
     },
     "metadata": {
      "needs_background": "light"
     },
     "output_type": "display_data"
    }
   ],
   "source": [
    "# countplot\n",
    "plt.figure(figsize=(12,4))\n",
    "sns.countplot(x=\"last_review\", data=data)\n",
    "plt.title('Row count')\n",
    "plt.show()\n",
    "\n",
    "# Boxplot\n",
    "plt.figure(figsize=(12,4))\n",
    "sns.boxplot( x='last_review',y='log_price',data=data,orient='v')\n",
    "plt.title('last_review')\n",
    "plt.show()"
   ]
  },
  {
   "cell_type": "code",
   "execution_count": 102,
   "metadata": {},
   "outputs": [
    {
     "name": "stdout",
     "output_type": "stream",
     "text": [
      "Number of text_data features: 3\n"
     ]
    },
    {
     "data": {
      "text/html": [
       "<div>\n",
       "<style scoped>\n",
       "    .dataframe tbody tr th:only-of-type {\n",
       "        vertical-align: middle;\n",
       "    }\n",
       "\n",
       "    .dataframe tbody tr th {\n",
       "        vertical-align: top;\n",
       "    }\n",
       "\n",
       "    .dataframe thead th {\n",
       "        text-align: right;\n",
       "    }\n",
       "</style>\n",
       "<table border=\"1\" class=\"dataframe\">\n",
       "  <thead>\n",
       "    <tr style=\"text-align: right;\">\n",
       "      <th></th>\n",
       "      <th>amenities</th>\n",
       "      <th>description</th>\n",
       "      <th>name</th>\n",
       "    </tr>\n",
       "  </thead>\n",
       "  <tbody>\n",
       "    <tr>\n",
       "      <th>0</th>\n",
       "      <td>{\"Wireless Internet\",\"Air conditioning\",Kitche...</td>\n",
       "      <td>Beautiful, sunlit brownstone 1-bedroom in the ...</td>\n",
       "      <td>Beautiful brownstone 1-bedroom</td>\n",
       "    </tr>\n",
       "    <tr>\n",
       "      <th>1</th>\n",
       "      <td>{\"Wireless Internet\",\"Air conditioning\",Kitche...</td>\n",
       "      <td>Enjoy travelling during your stay in Manhattan...</td>\n",
       "      <td>Superb 3BR Apt Located Near Times Square</td>\n",
       "    </tr>\n",
       "    <tr>\n",
       "      <th>2</th>\n",
       "      <td>{TV,\"Cable TV\",\"Wireless Internet\",\"Air condit...</td>\n",
       "      <td>The Oasis comes complete with a full backyard ...</td>\n",
       "      <td>The Garden Oasis</td>\n",
       "    </tr>\n",
       "    <tr>\n",
       "      <th>3</th>\n",
       "      <td>{TV,\"Cable TV\",Internet,\"Wireless Internet\",Ki...</td>\n",
       "      <td>This light-filled home-away-from-home is super...</td>\n",
       "      <td>Beautiful Flat in the Heart of SF!</td>\n",
       "    </tr>\n",
       "    <tr>\n",
       "      <th>4</th>\n",
       "      <td>{TV,Internet,\"Wireless Internet\",\"Air conditio...</td>\n",
       "      <td>Cool, cozy, and comfortable studio located in ...</td>\n",
       "      <td>Great studio in midtown DC</td>\n",
       "    </tr>\n",
       "  </tbody>\n",
       "</table>\n",
       "</div>"
      ],
      "text/plain": [
       "                                           amenities  \\\n",
       "0  {\"Wireless Internet\",\"Air conditioning\",Kitche...   \n",
       "1  {\"Wireless Internet\",\"Air conditioning\",Kitche...   \n",
       "2  {TV,\"Cable TV\",\"Wireless Internet\",\"Air condit...   \n",
       "3  {TV,\"Cable TV\",Internet,\"Wireless Internet\",Ki...   \n",
       "4  {TV,Internet,\"Wireless Internet\",\"Air conditio...   \n",
       "\n",
       "                                         description  \\\n",
       "0  Beautiful, sunlit brownstone 1-bedroom in the ...   \n",
       "1  Enjoy travelling during your stay in Manhattan...   \n",
       "2  The Oasis comes complete with a full backyard ...   \n",
       "3  This light-filled home-away-from-home is super...   \n",
       "4  Cool, cozy, and comfortable studio located in ...   \n",
       "\n",
       "                                       name  \n",
       "0            Beautiful brownstone 1-bedroom  \n",
       "1  Superb 3BR Apt Located Near Times Square  \n",
       "2                          The Garden Oasis  \n",
       "3        Beautiful Flat in the Heart of SF!  \n",
       "4                Great studio in midtown DC  "
      ]
     },
     "execution_count": 102,
     "metadata": {},
     "output_type": "execute_result"
    }
   ],
   "source": [
    "text_data=[ 'amenities', 'description', 'name']\n",
    "print('Number of text_data features: {}'.format(len(text_data)))\n",
    "ab_train[text_data].head()"
   ]
  },
  {
   "cell_type": "code",
   "execution_count": 103,
   "metadata": {},
   "outputs": [
    {
     "name": "stdout",
     "output_type": "stream",
     "text": [
      "Number of image_data features: 1\n"
     ]
    },
    {
     "data": {
      "text/html": [
       "<div>\n",
       "<style scoped>\n",
       "    .dataframe tbody tr th:only-of-type {\n",
       "        vertical-align: middle;\n",
       "    }\n",
       "\n",
       "    .dataframe tbody tr th {\n",
       "        vertical-align: top;\n",
       "    }\n",
       "\n",
       "    .dataframe thead th {\n",
       "        text-align: right;\n",
       "    }\n",
       "</style>\n",
       "<table border=\"1\" class=\"dataframe\">\n",
       "  <thead>\n",
       "    <tr style=\"text-align: right;\">\n",
       "      <th></th>\n",
       "      <th>thumbnail_url</th>\n",
       "    </tr>\n",
       "  </thead>\n",
       "  <tbody>\n",
       "    <tr>\n",
       "      <th>0</th>\n",
       "      <td>https://a0.muscache.com/im/pictures/6d7cbbf7-c...</td>\n",
       "    </tr>\n",
       "    <tr>\n",
       "      <th>1</th>\n",
       "      <td>https://a0.muscache.com/im/pictures/348a55fe-4...</td>\n",
       "    </tr>\n",
       "    <tr>\n",
       "      <th>2</th>\n",
       "      <td>https://a0.muscache.com/im/pictures/6fae5362-9...</td>\n",
       "    </tr>\n",
       "    <tr>\n",
       "      <th>3</th>\n",
       "      <td>https://a0.muscache.com/im/pictures/72208dad-9...</td>\n",
       "    </tr>\n",
       "    <tr>\n",
       "      <th>4</th>\n",
       "      <td>NaN</td>\n",
       "    </tr>\n",
       "  </tbody>\n",
       "</table>\n",
       "</div>"
      ],
      "text/plain": [
       "                                       thumbnail_url\n",
       "0  https://a0.muscache.com/im/pictures/6d7cbbf7-c...\n",
       "1  https://a0.muscache.com/im/pictures/348a55fe-4...\n",
       "2  https://a0.muscache.com/im/pictures/6fae5362-9...\n",
       "3  https://a0.muscache.com/im/pictures/72208dad-9...\n",
       "4                                                NaN"
      ]
     },
     "execution_count": 103,
     "metadata": {},
     "output_type": "execute_result"
    }
   ],
   "source": [
    "image_data=['thumbnail_url']\n",
    "print('Number of image_data features: {}'.format(len(image_data)))\n",
    "ab_train[image_data].head()"
   ]
  },
  {
   "cell_type": "code",
   "execution_count": 104,
   "metadata": {},
   "outputs": [
    {
     "name": "stdout",
     "output_type": "stream",
     "text": [
      "Number of Categorical features: 10\n"
     ]
    },
    {
     "data": {
      "text/html": [
       "<div>\n",
       "<style scoped>\n",
       "    .dataframe tbody tr th:only-of-type {\n",
       "        vertical-align: middle;\n",
       "    }\n",
       "\n",
       "    .dataframe tbody tr th {\n",
       "        vertical-align: top;\n",
       "    }\n",
       "\n",
       "    .dataframe thead th {\n",
       "        text-align: right;\n",
       "    }\n",
       "</style>\n",
       "<table border=\"1\" class=\"dataframe\">\n",
       "  <thead>\n",
       "    <tr style=\"text-align: right;\">\n",
       "      <th></th>\n",
       "      <th>property_type</th>\n",
       "      <th>room_type</th>\n",
       "      <th>bed_type</th>\n",
       "      <th>cancellation_policy</th>\n",
       "      <th>city</th>\n",
       "      <th>host_has_profile_pic</th>\n",
       "      <th>host_identity_verified</th>\n",
       "      <th>instant_bookable</th>\n",
       "      <th>neighbourhood</th>\n",
       "      <th>zipcode</th>\n",
       "    </tr>\n",
       "  </thead>\n",
       "  <tbody>\n",
       "    <tr>\n",
       "      <th>0</th>\n",
       "      <td>Apartment</td>\n",
       "      <td>Entire home/apt</td>\n",
       "      <td>Real Bed</td>\n",
       "      <td>strict</td>\n",
       "      <td>NYC</td>\n",
       "      <td>t</td>\n",
       "      <td>t</td>\n",
       "      <td>f</td>\n",
       "      <td>Brooklyn Heights</td>\n",
       "      <td>11201</td>\n",
       "    </tr>\n",
       "    <tr>\n",
       "      <th>1</th>\n",
       "      <td>Apartment</td>\n",
       "      <td>Entire home/apt</td>\n",
       "      <td>Real Bed</td>\n",
       "      <td>strict</td>\n",
       "      <td>NYC</td>\n",
       "      <td>t</td>\n",
       "      <td>f</td>\n",
       "      <td>t</td>\n",
       "      <td>Hell's Kitchen</td>\n",
       "      <td>10019</td>\n",
       "    </tr>\n",
       "    <tr>\n",
       "      <th>2</th>\n",
       "      <td>Apartment</td>\n",
       "      <td>Entire home/apt</td>\n",
       "      <td>Real Bed</td>\n",
       "      <td>moderate</td>\n",
       "      <td>NYC</td>\n",
       "      <td>t</td>\n",
       "      <td>t</td>\n",
       "      <td>t</td>\n",
       "      <td>Harlem</td>\n",
       "      <td>10027</td>\n",
       "    </tr>\n",
       "    <tr>\n",
       "      <th>3</th>\n",
       "      <td>House</td>\n",
       "      <td>Entire home/apt</td>\n",
       "      <td>Real Bed</td>\n",
       "      <td>flexible</td>\n",
       "      <td>SF_DC</td>\n",
       "      <td>t</td>\n",
       "      <td>t</td>\n",
       "      <td>f</td>\n",
       "      <td>Lower Haight</td>\n",
       "      <td>94117</td>\n",
       "    </tr>\n",
       "    <tr>\n",
       "      <th>4</th>\n",
       "      <td>Apartment</td>\n",
       "      <td>Entire home/apt</td>\n",
       "      <td>Real Bed</td>\n",
       "      <td>moderate</td>\n",
       "      <td>SF_DC</td>\n",
       "      <td>t</td>\n",
       "      <td>t</td>\n",
       "      <td>t</td>\n",
       "      <td>Columbia Heights</td>\n",
       "      <td>20009</td>\n",
       "    </tr>\n",
       "  </tbody>\n",
       "</table>\n",
       "</div>"
      ],
      "text/plain": [
       "  property_type        room_type  bed_type cancellation_policy   city  \\\n",
       "0     Apartment  Entire home/apt  Real Bed              strict    NYC   \n",
       "1     Apartment  Entire home/apt  Real Bed              strict    NYC   \n",
       "2     Apartment  Entire home/apt  Real Bed            moderate    NYC   \n",
       "3         House  Entire home/apt  Real Bed            flexible  SF_DC   \n",
       "4     Apartment  Entire home/apt  Real Bed            moderate  SF_DC   \n",
       "\n",
       "  host_has_profile_pic host_identity_verified instant_bookable  \\\n",
       "0                    t                      t                f   \n",
       "1                    t                      f                t   \n",
       "2                    t                      t                t   \n",
       "3                    t                      t                f   \n",
       "4                    t                      t                t   \n",
       "\n",
       "      neighbourhood zipcode  \n",
       "0  Brooklyn Heights   11201  \n",
       "1    Hell's Kitchen   10019  \n",
       "2            Harlem   10027  \n",
       "3      Lower Haight   94117  \n",
       "4  Columbia Heights   20009  "
      ]
     },
     "execution_count": 104,
     "metadata": {},
     "output_type": "execute_result"
    }
   ],
   "source": [
    "categotical_features=[feature for feature in ab_train.columns if feature not in numerical_feature+['id']+\n",
    "                     date_time+text_data+image_data]\n",
    "print('Number of Categorical features: {}'.format(len(categotical_features)))\n",
    "ab_train[categotical_features].head()"
   ]
  },
  {
   "cell_type": "code",
   "execution_count": 105,
   "metadata": {},
   "outputs": [
    {
     "name": "stdout",
     "output_type": "stream",
     "text": [
      "The feature is: property_type and Number of categories are: 34\n",
      "The feature is: room_type and Number of categories are: 3\n",
      "The feature is: bed_type and Number of categories are: 2\n",
      "The feature is: cancellation_policy and Number of categories are: 4\n",
      "The feature is: city and Number of categories are: 4\n",
      "The feature is: host_has_profile_pic and Number of categories are: 3\n",
      "The feature is: host_identity_verified and Number of categories are: 3\n",
      "The feature is: instant_bookable and Number of categories are: 2\n",
      "The feature is: neighbourhood and Number of categories are: 599\n",
      "The feature is: zipcode and Number of categories are: 640\n"
     ]
    }
   ],
   "source": [
    "for feature in categotical_features:\n",
    "    print('The feature is: {} and Number of categories are: {}'.format(feature,len(ab_train[feature].unique())))"
   ]
  },
  {
   "cell_type": "code",
   "execution_count": 106,
   "metadata": {},
   "outputs": [
    {
     "data": {
      "image/png": "[encoded data removed]",
      "text/plain": [
       "<Figure size 432x288 with 1 Axes>"
      ]
     },
     "metadata": {
      "needs_background": "light"
     },
     "output_type": "display_data"
    },
    {
     "data": {
      "image/png": "[encoded data removed]",
      "text/plain": [
       "<Figure size 432x288 with 1 Axes>"
      ]
     },
     "metadata": {
      "needs_background": "light"
     },
     "output_type": "display_data"
    },
    {
     "data": {
      "image/png": "[encoded data removed]",
      "text/plain": [
       "<Figure size 432x288 with 1 Axes>"
      ]
     },
     "metadata": {
      "needs_background": "light"
     },
     "output_type": "display_data"
    },
    {
     "data": {
      "image/png": "[encoded data removed]",
      "text/plain": [
       "<Figure size 432x288 with 1 Axes>"
      ]
     },
     "metadata": {
      "needs_background": "light"
     },
     "output_type": "display_data"
    },
    {
     "data": {
      "image/png": "[encoded data removed]",
      "text/plain": [
       "<Figure size 432x288 with 1 Axes>"
      ]
     },
     "metadata": {
      "needs_background": "light"
     },
     "output_type": "display_data"
    },
    {
     "data": {
      "image/png": "[encoded data removed]",
      "text/plain": [
       "<Figure size 432x288 with 1 Axes>"
      ]
     },
     "metadata": {
      "needs_background": "light"
     },
     "output_type": "display_data"
    },
    {
     "data": {
      "image/png": "[encoded data removed]",
      "text/plain": [
       "<Figure size 432x288 with 1 Axes>"
      ]
     },
     "metadata": {
      "needs_background": "light"
     },
     "output_type": "display_data"
    },
    {
     "data": {
      "image/png": "[encoded data removed]",
      "text/plain": [
       "<Figure size 432x288 with 1 Axes>"
      ]
     },
     "metadata": {
      "needs_background": "light"
     },
     "output_type": "display_data"
    }
   ],
   "source": [
    "for feature in categotical_features:\n",
    "    if feature not in ['neighbourhood','zipcode']:\n",
    "        data=ab_train.copy()\n",
    "        data.groupby(feature)['log_price'].median().plot.bar()\n",
    "        plt.xlabel(feature)\n",
    "        plt.ylabel('Log_price')\n",
    "        plt.title(feature)\n",
    "        plt.show()"
   ]
  },
  {
   "cell_type": "markdown",
   "metadata": {},
   "source": [
    "* we can see there is a relationship between them and dependent feature log_price\n",
    "* 'room_type'---> is monotonically decreasing based on dependent variable.\n",
    "* 'property_type' ----> since it has lot of categories.create dummies based on some frequency cutoff"
   ]
  },
  {
   "cell_type": "code",
   "execution_count": null,
   "metadata": {},
   "outputs": [],
   "source": []
  }
 ],
 "metadata": {
  "kernelspec": {
   "display_name": "Python 3",
   "language": "python",
   "name": "python3"
  },
  "language_info": {
   "codemirror_mode": {
    "name": "ipython",
    "version": 3
   },
   "file_extension": ".py",
   "mimetype": "text/x-python",
   "name": "python",
   "nbconvert_exporter": "python",
   "pygments_lexer": "ipython3",
   "version": "3.8.3"
  }
 },
 "nbformat": 4,
 "nbformat_minor": 4
}
