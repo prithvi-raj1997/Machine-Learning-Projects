{
 "cells": [
  {
   "cell_type": "markdown",
   "metadata": {},
   "source": [
    "### Imports"
   ]
  },
  {
   "cell_type": "code",
   "execution_count": 1,
   "metadata": {},
   "outputs": [],
   "source": [
    "# Importing essential libraries\n",
    "\n",
    "# pandas and numpy for data manipulation\n",
    "import numpy as np\n",
    "import pandas as pd\n",
    "\n",
    "# matplotlib and seaborn for visuilization\n",
    "import matplotlib.pyplot as plt\n",
    "import seaborn as sns\n",
    "%matplotlib inline\n",
    "\n",
    "# Display all the columns of the dataframe\n",
    "pd.pandas.set_option('display.max_columns',None)\n",
    "\n",
    "# No warnings\n",
    "import warnings\n",
    "warnings.filterwarnings('ignore')"
   ]
  },
  {
   "cell_type": "markdown",
   "metadata": {},
   "source": [
    "### Load in the Data and Examine"
   ]
  },
  {
   "cell_type": "code",
   "execution_count": 2,
   "metadata": {},
   "outputs": [],
   "source": [
    "# %%HTML\n",
    "# <style type=\"text/css\">\n",
    "# table.dataframe td, table.dataframe th {\n",
    "#     border: 1px  black solid !important;\n",
    "#   color: black !important;\n",
    "# }\n",
    "# </style>"
   ]
  },
  {
   "cell_type": "code",
   "execution_count": 3,
   "metadata": {},
   "outputs": [],
   "source": [
    "# Read in data into dataframe\n",
    "file_train=r'D:\\Deloitte\\case study\\train.csv'\n",
    "file_test=r'D:\\Deloitte\\case study\\test.xlsx'\n",
    "\n",
    "ab_train=pd.read_csv(file_train)\n",
    "ab_test=pd.read_excel(file_test)"
   ]
  },
  {
   "cell_type": "code",
   "execution_count": 4,
   "metadata": {},
   "outputs": [
    {
     "name": "stdout",
     "output_type": "stream",
     "text": [
      "shape of train data: (49999, 30)\n",
      "shape of test data: (24111, 29)\n"
     ]
    }
   ],
   "source": [
    "# Returns the number of Rows and Columns in train data\n",
    "print('shape of train data: {}'.format(ab_train.shape))\n",
    "\n",
    "# Returns the number of Rows and Columns in test data\n",
    "print('shape of test data: {}'.format(ab_test.shape))"
   ]
  },
  {
   "cell_type": "code",
   "execution_count": 5,
   "metadata": {},
   "outputs": [],
   "source": [
    "# ab_test does not have the outcome variable \n",
    "# In order to combine the two we will add the response variable to ab_test\n",
    "\n",
    "ab_test['log_price']=np.nan"
   ]
  },
  {
   "cell_type": "markdown",
   "metadata": {},
   "source": [
    "* combine the two datasets to pre-process the data together since the data on which the model is trained should\n",
    " undergo the same preprocessing as the data on which the predictions are made"
   ]
  },
  {
   "cell_type": "code",
   "execution_count": 6,
   "metadata": {},
   "outputs": [],
   "source": [
    "# creating identifier column for train and test\n",
    "ab_train['data']='train'\n",
    "ab_test['data']='test'\n",
    "\n",
    "# the columns in the two data frames should be in the same order to enable concatenation\n",
    "ab_test=ab_test[ab_train.columns]\n",
    "\n",
    "ab_all=pd.concat([ab_train,ab_test],axis=0)"
   ]
  },
  {
   "cell_type": "code",
   "execution_count": 7,
   "metadata": {},
   "outputs": [
    {
     "data": {
      "text/html": [
       "<div>\n",
       "<style scoped>\n",
       "    .dataframe tbody tr th:only-of-type {\n",
       "        vertical-align: middle;\n",
       "    }\n",
       "\n",
       "    .dataframe tbody tr th {\n",
       "        vertical-align: top;\n",
       "    }\n",
       "\n",
       "    .dataframe thead th {\n",
       "        text-align: right;\n",
       "    }\n",
       "</style>\n",
       "<table border=\"1\" class=\"dataframe\">\n",
       "  <thead>\n",
       "    <tr style=\"text-align: right;\">\n",
       "      <th></th>\n",
       "      <th>id</th>\n",
       "      <th>property_type</th>\n",
       "      <th>room_type</th>\n",
       "      <th>amenities</th>\n",
       "      <th>accommodates</th>\n",
       "      <th>bathrooms</th>\n",
       "      <th>bed_type</th>\n",
       "      <th>cancellation_policy</th>\n",
       "      <th>cleaning_fee</th>\n",
       "      <th>city</th>\n",
       "      <th>description</th>\n",
       "      <th>first_review</th>\n",
       "      <th>host_has_profile_pic</th>\n",
       "      <th>host_identity_verified</th>\n",
       "      <th>host_response_rate</th>\n",
       "      <th>host_since</th>\n",
       "      <th>instant_bookable</th>\n",
       "      <th>last_review</th>\n",
       "      <th>latitude</th>\n",
       "      <th>longitude</th>\n",
       "      <th>name</th>\n",
       "      <th>neighbourhood</th>\n",
       "      <th>number_of_reviews</th>\n",
       "      <th>review_scores_rating</th>\n",
       "      <th>thumbnail_url</th>\n",
       "      <th>zipcode</th>\n",
       "      <th>bedrooms</th>\n",
       "      <th>beds</th>\n",
       "      <th>log_price</th>\n",
       "      <th></th>\n",
       "      <th>data</th>\n",
       "    </tr>\n",
       "  </thead>\n",
       "  <tbody>\n",
       "    <tr>\n",
       "      <th>0</th>\n",
       "      <td>6901257</td>\n",
       "      <td>Apartment</td>\n",
       "      <td>Entire home/apt</td>\n",
       "      <td>{\"Wireless Internet\",\"Air conditioning\",Kitche...</td>\n",
       "      <td>3</td>\n",
       "      <td>1.0</td>\n",
       "      <td>Real Bed</td>\n",
       "      <td>strict</td>\n",
       "      <td>True</td>\n",
       "      <td>NYC</td>\n",
       "      <td>Beautiful, sunlit brownstone 1-bedroom in the ...</td>\n",
       "      <td>6/18/2016</td>\n",
       "      <td>t</td>\n",
       "      <td>t</td>\n",
       "      <td>NaN</td>\n",
       "      <td>3/26/2012</td>\n",
       "      <td>f</td>\n",
       "      <td>7/18/2016</td>\n",
       "      <td>40.696524</td>\n",
       "      <td>-73.991617</td>\n",
       "      <td>Beautiful brownstone 1-bedroom</td>\n",
       "      <td>Brooklyn Heights</td>\n",
       "      <td>2</td>\n",
       "      <td>100.0</td>\n",
       "      <td>https://a0.muscache.com/im/pictures/6d7cbbf7-c...</td>\n",
       "      <td>11201</td>\n",
       "      <td>1.0</td>\n",
       "      <td>1.0</td>\n",
       "      <td>5.010635</td>\n",
       "      <td>NaN</td>\n",
       "      <td>train</td>\n",
       "    </tr>\n",
       "    <tr>\n",
       "      <th>1</th>\n",
       "      <td>6304928</td>\n",
       "      <td>Apartment</td>\n",
       "      <td>Entire home/apt</td>\n",
       "      <td>{\"Wireless Internet\",\"Air conditioning\",Kitche...</td>\n",
       "      <td>7</td>\n",
       "      <td>1.0</td>\n",
       "      <td>Real Bed</td>\n",
       "      <td>strict</td>\n",
       "      <td>True</td>\n",
       "      <td>NYC</td>\n",
       "      <td>Enjoy travelling during your stay in Manhattan...</td>\n",
       "      <td>8/5/2017</td>\n",
       "      <td>t</td>\n",
       "      <td>f</td>\n",
       "      <td>100%</td>\n",
       "      <td>6/19/2017</td>\n",
       "      <td>t</td>\n",
       "      <td>9/23/2017</td>\n",
       "      <td>40.766115</td>\n",
       "      <td>-73.989040</td>\n",
       "      <td>Superb 3BR Apt Located Near Times Square</td>\n",
       "      <td>Hell's Kitchen</td>\n",
       "      <td>6</td>\n",
       "      <td>93.0</td>\n",
       "      <td>https://a0.muscache.com/im/pictures/348a55fe-4...</td>\n",
       "      <td>10019</td>\n",
       "      <td>3.0</td>\n",
       "      <td>3.0</td>\n",
       "      <td>5.129899</td>\n",
       "      <td>NaN</td>\n",
       "      <td>train</td>\n",
       "    </tr>\n",
       "    <tr>\n",
       "      <th>2</th>\n",
       "      <td>7919400</td>\n",
       "      <td>Apartment</td>\n",
       "      <td>Entire home/apt</td>\n",
       "      <td>{TV,\"Cable TV\",\"Wireless Internet\",\"Air condit...</td>\n",
       "      <td>5</td>\n",
       "      <td>1.0</td>\n",
       "      <td>Real Bed</td>\n",
       "      <td>moderate</td>\n",
       "      <td>True</td>\n",
       "      <td>NYC</td>\n",
       "      <td>The Oasis comes complete with a full backyard ...</td>\n",
       "      <td>4/30/2017</td>\n",
       "      <td>t</td>\n",
       "      <td>t</td>\n",
       "      <td>100%</td>\n",
       "      <td>10/25/2016</td>\n",
       "      <td>t</td>\n",
       "      <td>9/14/2017</td>\n",
       "      <td>40.808110</td>\n",
       "      <td>-73.943756</td>\n",
       "      <td>The Garden Oasis</td>\n",
       "      <td>Harlem</td>\n",
       "      <td>10</td>\n",
       "      <td>92.0</td>\n",
       "      <td>https://a0.muscache.com/im/pictures/6fae5362-9...</td>\n",
       "      <td>10027</td>\n",
       "      <td>1.0</td>\n",
       "      <td>3.0</td>\n",
       "      <td>4.976734</td>\n",
       "      <td>NaN</td>\n",
       "      <td>train</td>\n",
       "    </tr>\n",
       "    <tr>\n",
       "      <th>3</th>\n",
       "      <td>13418779</td>\n",
       "      <td>House</td>\n",
       "      <td>Entire home/apt</td>\n",
       "      <td>{TV,\"Cable TV\",Internet,\"Wireless Internet\",Ki...</td>\n",
       "      <td>4</td>\n",
       "      <td>1.0</td>\n",
       "      <td>Real Bed</td>\n",
       "      <td>flexible</td>\n",
       "      <td>True</td>\n",
       "      <td>SF</td>\n",
       "      <td>This light-filled home-away-from-home is super...</td>\n",
       "      <td>NaN</td>\n",
       "      <td>t</td>\n",
       "      <td>t</td>\n",
       "      <td>NaN</td>\n",
       "      <td>4/19/2015</td>\n",
       "      <td>f</td>\n",
       "      <td>NaN</td>\n",
       "      <td>37.772004</td>\n",
       "      <td>-122.431619</td>\n",
       "      <td>Beautiful Flat in the Heart of SF!</td>\n",
       "      <td>Lower Haight</td>\n",
       "      <td>0</td>\n",
       "      <td>NaN</td>\n",
       "      <td>https://a0.muscache.com/im/pictures/72208dad-9...</td>\n",
       "      <td>94117</td>\n",
       "      <td>2.0</td>\n",
       "      <td>2.0</td>\n",
       "      <td>6.620073</td>\n",
       "      <td>NaN</td>\n",
       "      <td>train</td>\n",
       "    </tr>\n",
       "    <tr>\n",
       "      <th>4</th>\n",
       "      <td>3808709</td>\n",
       "      <td>Apartment</td>\n",
       "      <td>Entire home/apt</td>\n",
       "      <td>{TV,Internet,\"Wireless Internet\",\"Air conditio...</td>\n",
       "      <td>2</td>\n",
       "      <td>1.0</td>\n",
       "      <td>Real Bed</td>\n",
       "      <td>moderate</td>\n",
       "      <td>True</td>\n",
       "      <td>DC</td>\n",
       "      <td>Cool, cozy, and comfortable studio located in ...</td>\n",
       "      <td>5/12/2015</td>\n",
       "      <td>t</td>\n",
       "      <td>t</td>\n",
       "      <td>100%</td>\n",
       "      <td>3/1/2015</td>\n",
       "      <td>t</td>\n",
       "      <td>1/22/2017</td>\n",
       "      <td>38.925627</td>\n",
       "      <td>-77.034596</td>\n",
       "      <td>Great studio in midtown DC</td>\n",
       "      <td>Columbia Heights</td>\n",
       "      <td>4</td>\n",
       "      <td>40.0</td>\n",
       "      <td>NaN</td>\n",
       "      <td>20009</td>\n",
       "      <td>0.0</td>\n",
       "      <td>1.0</td>\n",
       "      <td>4.744932</td>\n",
       "      <td>NaN</td>\n",
       "      <td>train</td>\n",
       "    </tr>\n",
       "  </tbody>\n",
       "</table>\n",
       "</div>"
      ],
      "text/plain": [
       "         id property_type        room_type  \\\n",
       "0   6901257     Apartment  Entire home/apt   \n",
       "1   6304928     Apartment  Entire home/apt   \n",
       "2   7919400     Apartment  Entire home/apt   \n",
       "3  13418779         House  Entire home/apt   \n",
       "4   3808709     Apartment  Entire home/apt   \n",
       "\n",
       "                                           amenities  accommodates  bathrooms  \\\n",
       "0  {\"Wireless Internet\",\"Air conditioning\",Kitche...             3        1.0   \n",
       "1  {\"Wireless Internet\",\"Air conditioning\",Kitche...             7        1.0   \n",
       "2  {TV,\"Cable TV\",\"Wireless Internet\",\"Air condit...             5        1.0   \n",
       "3  {TV,\"Cable TV\",Internet,\"Wireless Internet\",Ki...             4        1.0   \n",
       "4  {TV,Internet,\"Wireless Internet\",\"Air conditio...             2        1.0   \n",
       "\n",
       "   bed_type cancellation_policy  cleaning_fee city  \\\n",
       "0  Real Bed              strict          True  NYC   \n",
       "1  Real Bed              strict          True  NYC   \n",
       "2  Real Bed            moderate          True  NYC   \n",
       "3  Real Bed            flexible          True   SF   \n",
       "4  Real Bed            moderate          True   DC   \n",
       "\n",
       "                                         description first_review  \\\n",
       "0  Beautiful, sunlit brownstone 1-bedroom in the ...    6/18/2016   \n",
       "1  Enjoy travelling during your stay in Manhattan...     8/5/2017   \n",
       "2  The Oasis comes complete with a full backyard ...    4/30/2017   \n",
       "3  This light-filled home-away-from-home is super...          NaN   \n",
       "4  Cool, cozy, and comfortable studio located in ...    5/12/2015   \n",
       "\n",
       "  host_has_profile_pic host_identity_verified host_response_rate  host_since  \\\n",
       "0                    t                      t                NaN   3/26/2012   \n",
       "1                    t                      f               100%   6/19/2017   \n",
       "2                    t                      t               100%  10/25/2016   \n",
       "3                    t                      t                NaN   4/19/2015   \n",
       "4                    t                      t               100%    3/1/2015   \n",
       "\n",
       "  instant_bookable last_review   latitude   longitude  \\\n",
       "0                f   7/18/2016  40.696524  -73.991617   \n",
       "1                t   9/23/2017  40.766115  -73.989040   \n",
       "2                t   9/14/2017  40.808110  -73.943756   \n",
       "3                f         NaN  37.772004 -122.431619   \n",
       "4                t   1/22/2017  38.925627  -77.034596   \n",
       "\n",
       "                                       name     neighbourhood  \\\n",
       "0            Beautiful brownstone 1-bedroom  Brooklyn Heights   \n",
       "1  Superb 3BR Apt Located Near Times Square    Hell's Kitchen   \n",
       "2                          The Garden Oasis            Harlem   \n",
       "3        Beautiful Flat in the Heart of SF!      Lower Haight   \n",
       "4                Great studio in midtown DC  Columbia Heights   \n",
       "\n",
       "   number_of_reviews  review_scores_rating  \\\n",
       "0                  2                 100.0   \n",
       "1                  6                  93.0   \n",
       "2                 10                  92.0   \n",
       "3                  0                   NaN   \n",
       "4                  4                  40.0   \n",
       "\n",
       "                                       thumbnail_url zipcode  bedrooms  beds  \\\n",
       "0  https://a0.muscache.com/im/pictures/6d7cbbf7-c...   11201       1.0   1.0   \n",
       "1  https://a0.muscache.com/im/pictures/348a55fe-4...   10019       3.0   3.0   \n",
       "2  https://a0.muscache.com/im/pictures/6fae5362-9...   10027       1.0   3.0   \n",
       "3  https://a0.muscache.com/im/pictures/72208dad-9...   94117       2.0   2.0   \n",
       "4                                                NaN   20009       0.0   1.0   \n",
       "\n",
       "   log_price       data  \n",
       "0   5.010635 NaN  train  \n",
       "1   5.129899 NaN  train  \n",
       "2   4.976734 NaN  train  \n",
       "3   6.620073 NaN  train  \n",
       "4   4.744932 NaN  train  "
      ]
     },
     "execution_count": 7,
     "metadata": {},
     "output_type": "execute_result"
    }
   ],
   "source": [
    "# Returns top 5 rows from the dataset\n",
    "ab_all.head()"
   ]
  },
  {
   "cell_type": "code",
   "execution_count": 8,
   "metadata": {},
   "outputs": [
    {
     "name": "stdout",
     "output_type": "stream",
     "text": [
      "shape of overall data: (74110, 31)\n"
     ]
    }
   ],
   "source": [
    "ab=ab_all.copy()\n",
    "\n",
    "# Returns the number of Rows and Columns of overall data[both train and test]\n",
    "print('shape of overall data: {}'.format(ab.shape))"
   ]
  },
  {
   "cell_type": "markdown",
   "metadata": {},
   "source": [
    "###### 1. 'id' ---> drop this column while model building\n",
    "\n",
    "###### 2. 'property_type' ----> create dummies based on dependent variable\n",
    "\n",
    "###### 3. 'room_type' ---> create dummies\n",
    "\n",
    "###### 4. 'amenities' --->Drop in this notebook. we will create MultiLabelBinarizer in 'amenities' separate notebook.\n",
    "* we concat both and use them in final Model\n",
    "\n",
    "###### 5. 'accommodates' --->  let it be\n",
    "\n",
    "###### 6.  'bathrooms' ---> bathrooms cannot be 1.5,2.5.... \n",
    "* so i will consider 0.5 to 1,1.5 to 2,2.5 to 3,3.5 to 4,4.5 to 5,5.5 to 6,6.5 and 7.5 to 7\n",
    "* Replace missing value to 0.0 bathrooms\n",
    "\n",
    "###### 7.  'bed_type' ---> create Futon,Pull-out Sofa, Airbed, Couch to 'other' and then create dummies\n",
    "\n",
    "###### 8. 'cancellation_policy'--->super_strict_30 and super_strict_60 to 'super_strict' and then create dummies\n",
    "\n",
    "###### 9. 'cleaning_fee' ---> It is boolean data type.\n",
    "* In feature engineering, we will create True to 1 and False to 0\n",
    "\n",
    "###### 10. 'city' ---> Due to less frequency count in some variables. lets club some features like\n",
    "* SF and DC which has >3000 frequency count to one variable ie., SF_DC\n",
    "* Chicago and Boston which has <3000 frequency count to one variable ie.,chicago_boston\n",
    "* Then create dummies\n",
    "\n",
    "###### 11. 'description' ---> lets try NLP by using tfidf or count vectorizer. unstructured data \n",
    "\n",
    "###### 12. 'first_review' ---> Both first_review and last_review have almost 21.4% values are Missing values.\n",
    "* Since they are directly correlated we will drop first_review and make use last review.\n",
    "\n",
    "###### 13. 'host_has_profile_pic' ---> I think people use different images like celebrity photo and some use their own photo.\n",
    "* It will be Imbalanced because one category frequency 99.4% of data.\n",
    "* I think its better to drop\n",
    "* Beacause once the host identity is verified then only it will allows the host to book\n",
    "\n",
    "###### 14. 'host_identity_verified' ---> I am assuming 't' tobe True or correct match and 'f' to be False or Incorrect match\n",
    "* Replace missing value with f \n",
    "* lets create t to 1 and f to 0\n",
    "\n",
    "###### 15. 'host_response_rate' Replace '%' with '' (empty space) and then convert it numeric\n",
    "* It has almost 25% of the missing values. \n",
    "* create indicator column missing-->0, non-missing-->1\n",
    "\n",
    "###### 16. 'host_since' ---> ' lets covert into date-time format and extract features out of it and \n",
    "* Replace missing with min year\n",
    "\n",
    "###### 17. 'instant_bookable' ---> lets create  t to 1 and f to 0\n",
    "* In cross table, we can see frequency count of combinations.\n",
    "* It is giving me like instant_bookable f and host_identity_verified f is 11098 which is almost 22%.\n",
    "* we have to take care of instant_bookable f and host_identity_verified t is 25671 which is almost 51%. means we have to instant booking availability. so that we can make profits out of it\n",
    "\n",
    "###### 18. 'last_review' --->Since there are almost 21.4% values are Missing.\n",
    "* replace missing with min \n",
    "\n",
    "###### 19. 'latitude' --> convert to x,y,z co-ordinates\n",
    "###### 20. 'longitude' ---> convert to x,y,z co-ordinates\n",
    "* x=cos(lat)*cos(lon)\n",
    "* y=cos(lat)*sin(lon)\n",
    "* z=sin(lat)\n",
    "\n",
    "###### 21. 'name' ---> lets try NLP by using tfidf or count vectorizer \n",
    "\n",
    "###### 22. 'neighbourhood'--->Drop this variable since it has lot of unique values\n",
    "\n",
    "###### 23. 'number of reviews' ---> let it be\n",
    "\n",
    "###### 24. 'review_scores_rating' --->Since there are almost 22.6% values are Missing.\n",
    "* Replace  missing-->0\n",
    "\n",
    "###### 25. 'thumbnail_url' ---> for building Ml model, lets drop this variable\n",
    "* we can CNN Deep Learning. But for now lets drop this column\n",
    "\n",
    "###### 26. 'zipcode' --->  Lets drop this variable. \n",
    "* Make use of latitude, longitude \n",
    "\n",
    "###### 27. 'bedrooms' ---> Replace missing value with 0.0\n",
    "\n",
    "###### 28. 'beds' ---> Replace missing value with 0.0\n",
    "\n",
    "###### 29. 'log_price' ---> I am assuming that log_price is log transformed prices. Target variable.\n",
    "\n",
    "###### 30. ' ' ---> drop this column. It is junk and the whole column has NAN values."
   ]
  },
  {
   "cell_type": "code",
   "execution_count": 9,
   "metadata": {},
   "outputs": [
    {
     "name": "stdout",
     "output_type": "stream",
     "text": [
      "shape of data before: 31\n",
      "shape of data after: 22\n"
     ]
    }
   ],
   "source": [
    "print('shape of data before: {}'.format(len(ab.columns)))\n",
    "ab=ab.drop([' ','amenities','first_review','host_has_profile_pic', 'zipcode',\n",
    "             'description', 'name','neighbourhood','thumbnail_url'],axis=1)\n",
    "print('shape of data after: {}'.format(len(ab.columns)))"
   ]
  },
  {
   "cell_type": "code",
   "execution_count": 10,
   "metadata": {},
   "outputs": [
    {
     "data": {
      "text/plain": [
       "Index(['id', 'property_type', 'room_type', 'accommodates', 'bathrooms',\n",
       "       'bed_type', 'cancellation_policy', 'cleaning_fee', 'city',\n",
       "       'host_identity_verified', 'host_response_rate', 'host_since',\n",
       "       'instant_bookable', 'last_review', 'latitude', 'longitude',\n",
       "       'number_of_reviews', 'review_scores_rating', 'bedrooms', 'beds',\n",
       "       'log_price', 'data'],\n",
       "      dtype='object')"
      ]
     },
     "execution_count": 10,
     "metadata": {},
     "output_type": "execute_result"
    }
   ],
   "source": [
    "ab.columns"
   ]
  },
  {
   "cell_type": "code",
   "execution_count": 11,
   "metadata": {},
   "outputs": [
    {
     "name": "stdout",
     "output_type": "stream",
     "text": [
      "<class 'pandas.core.frame.DataFrame'>\n",
      "Int64Index: 74110 entries, 0 to 24110\n",
      "Data columns (total 22 columns):\n",
      " #   Column                  Non-Null Count  Dtype  \n",
      "---  ------                  --------------  -----  \n",
      " 0   id                      74110 non-null  int64  \n",
      " 1   property_type           74110 non-null  object \n",
      " 2   room_type               74110 non-null  object \n",
      " 3   accommodates            74110 non-null  int64  \n",
      " 4   bathrooms               73910 non-null  float64\n",
      " 5   bed_type                74110 non-null  object \n",
      " 6   cancellation_policy     74110 non-null  object \n",
      " 7   cleaning_fee            74110 non-null  bool   \n",
      " 8   city                    74110 non-null  object \n",
      " 9   host_identity_verified  73922 non-null  object \n",
      " 10  host_response_rate      55811 non-null  object \n",
      " 11  host_since              73922 non-null  object \n",
      " 12  instant_bookable        74110 non-null  object \n",
      " 13  last_review             58283 non-null  object \n",
      " 14  latitude                74110 non-null  float64\n",
      " 15  longitude               74110 non-null  float64\n",
      " 16  number_of_reviews       74110 non-null  int64  \n",
      " 17  review_scores_rating    57388 non-null  float64\n",
      " 18  bedrooms                74019 non-null  float64\n",
      " 19  beds                    73979 non-null  float64\n",
      " 20  log_price               49999 non-null  float64\n",
      " 21  data                    74110 non-null  object \n",
      "dtypes: bool(1), float64(7), int64(3), object(11)\n",
      "memory usage: 12.5+ MB\n"
     ]
    }
   ],
   "source": [
    "# Returns basic information on all columns\n",
    "ab.info()"
   ]
  },
  {
   "cell_type": "code",
   "execution_count": 12,
   "metadata": {},
   "outputs": [
    {
     "data": {
      "text/plain": [
       "id                            0\n",
       "property_type                 0\n",
       "room_type                     0\n",
       "accommodates                  0\n",
       "bathrooms                   200\n",
       "bed_type                      0\n",
       "cancellation_policy           0\n",
       "cleaning_fee                  0\n",
       "city                          0\n",
       "host_identity_verified      188\n",
       "host_response_rate        18299\n",
       "host_since                  188\n",
       "instant_bookable              0\n",
       "last_review               15827\n",
       "latitude                      0\n",
       "longitude                     0\n",
       "number_of_reviews             0\n",
       "review_scores_rating      16722\n",
       "bedrooms                     91\n",
       "beds                        131\n",
       "log_price                 24111\n",
       "data                          0\n",
       "dtype: int64"
      ]
     },
     "execution_count": 12,
     "metadata": {},
     "output_type": "execute_result"
    }
   ],
   "source": [
    "ab.isnull().sum()"
   ]
  },
  {
   "cell_type": "code",
   "execution_count": 13,
   "metadata": {},
   "outputs": [
    {
     "data": {
      "text/plain": [
       "Apartment             49003\n",
       "House                 16511\n",
       "Condominium            2657\n",
       "Townhouse              1692\n",
       "Loft                   1244\n",
       "Other                   607\n",
       "Guesthouse              498\n",
       "Bed & Breakfast         462\n",
       "Bungalow                366\n",
       "Villa                   179\n",
       "Dorm                    142\n",
       "Guest suite             123\n",
       "Camper/RV                94\n",
       "Timeshare                77\n",
       "Cabin                    72\n",
       "In-law                   71\n",
       "Hostel                   70\n",
       "Boutique hotel           69\n",
       "Boat                     65\n",
       "Serviced apartment       21\n",
       "Tent                     18\n",
       "Castle                   13\n",
       "Vacation home            11\n",
       "Yurt                      9\n",
       "Hut                       8\n",
       "Treehouse                 7\n",
       "Chalet                    6\n",
       "Earth House               4\n",
       "Tipi                      3\n",
       "Train                     2\n",
       "Cave                      2\n",
       "Parking Space             1\n",
       "Lighthouse                1\n",
       "Island                    1\n",
       "Casa particular           1\n",
       "Name: property_type, dtype: int64"
      ]
     },
     "execution_count": 13,
     "metadata": {},
     "output_type": "execute_result"
    }
   ],
   "source": [
    "# property_type ---> create dummies based on some frequency cut off\n",
    "ab['property_type'].value_counts()"
   ]
  },
  {
   "cell_type": "code",
   "execution_count": 14,
   "metadata": {},
   "outputs": [],
   "source": [
    "# 'bathrooms' ---> bathrooms cannot be 1.5,2.5.... \n",
    "# so i will club or consider 0.5 to 1,1.5 to 2,2.5 to 3,3.5 to 4,4.5 to 5,5.5 to 6,6.5 and 7.5 to 8\n",
    "# Replace missing value to 0.0 bathrooms\n",
    "\n",
    "ab['bathrooms']=ab['bathrooms'].replace({0.5:1,1.5:2,2.5:3,3.5:4,4.5:5,5.5:6,6.5:7,7.5:8})\n",
    "ab['bathrooms']=np.where(ab['bathrooms'].isnull(),0.0,ab['bathrooms'])"
   ]
  },
  {
   "cell_type": "code",
   "execution_count": 15,
   "metadata": {},
   "outputs": [
    {
     "data": {
      "text/plain": [
       "Real Bed    72027\n",
       "Other        2083\n",
       "Name: bed_type, dtype: int64"
      ]
     },
     "execution_count": 15,
     "metadata": {},
     "output_type": "execute_result"
    }
   ],
   "source": [
    "# 'bed_type'---> create Futon,Pull-out Sofa, Airbed, Couch to 'other' and then create dummies\n",
    "ab.loc[~ab['bed_type'].isin(['Real Bed']), 'bed_type'] = 'Other'\n",
    "ab['bed_type'].value_counts()"
   ]
  },
  {
   "cell_type": "code",
   "execution_count": 16,
   "metadata": {},
   "outputs": [
    {
     "data": {
      "text/plain": [
       "strict          32373\n",
       "flexible        22545\n",
       "moderate        19063\n",
       "super_strict      129\n",
       "Name: cancellation_policy, dtype: int64"
      ]
     },
     "execution_count": 16,
     "metadata": {},
     "output_type": "execute_result"
    }
   ],
   "source": [
    "# 'cancellation_policy'--->super_strict_30 and super_strict_60 to 'super_strict' and then create dummies\n",
    "ab.loc[ab['cancellation_policy'].isin(['super_strict_30','super_strict_60']),\n",
    "         'cancellation_policy']='super_strict'\n",
    "ab['cancellation_policy'].value_counts()"
   ]
  },
  {
   "cell_type": "code",
   "execution_count": 17,
   "metadata": {},
   "outputs": [
    {
     "data": {
      "text/plain": [
       "1    54402\n",
       "0    19708\n",
       "Name: cleaning_fee, dtype: int64"
      ]
     },
     "execution_count": 17,
     "metadata": {},
     "output_type": "execute_result"
    }
   ],
   "source": [
    "# 'cleaning_fee' ---> It is boolean data type. we will create True to 1 and False to 0\n",
    "ab['cleaning_fee']=np.where(ab['cleaning_fee']==True,1,0)\n",
    "ab['cleaning_fee'].value_counts()"
   ]
  },
  {
   "cell_type": "code",
   "execution_count": 18,
   "metadata": {},
   "outputs": [
    {
     "data": {
      "text/plain": [
       "NYC               32348\n",
       "LA                22453\n",
       "SF_DC             12122\n",
       "chicago_boston     7187\n",
       "Name: city, dtype: int64"
      ]
     },
     "execution_count": 18,
     "metadata": {},
     "output_type": "execute_result"
    }
   ],
   "source": [
    "# 'city'---> Due to less freqency count in some variables. lets club some features like\n",
    "# SF and DC which has >5000 frequency count to one variable ie., SF_DC\n",
    "# Chicago and Boston which has <5000 frequency count to one variable ie., other\n",
    "# create dummies\n",
    "ab.loc[ab['city'].isin(['SF','DC']),'city']='SF_DC'\n",
    "ab.loc[ab['city'].isin(['Chicago','Boston']),'city']='chicago_boston'\n",
    "ab['city'].value_counts()"
   ]
  },
  {
   "cell_type": "code",
   "execution_count": 19,
   "metadata": {},
   "outputs": [
    {
     "data": {
      "text/plain": [
       "1    49748\n",
       "0    24362\n",
       "Name: host_identity_verified, dtype: int64"
      ]
     },
     "execution_count": 19,
     "metadata": {},
     "output_type": "execute_result"
    }
   ],
   "source": [
    "# 'host_identity_verified'---> I am assuming t tobe True or correct match and f to be False or Incorrect match\n",
    "# Replace missig value with f \n",
    "# lets create  t to 1 and f to 0\n",
    "ab['host_identity_verified']=np.where(ab['host_identity_verified'].isnull(),'f',ab['host_identity_verified'])\n",
    "ab['host_identity_verified']=np.where(ab['host_identity_verified']=='t',1,0)\n",
    "ab['host_identity_verified'].value_counts()"
   ]
  },
  {
   "cell_type": "code",
   "execution_count": 20,
   "metadata": {},
   "outputs": [
    {
     "data": {
      "text/plain": [
       "1    37661\n",
       "0    36449\n",
       "Name: host_response_rate, dtype: int64"
      ]
     },
     "execution_count": 20,
     "metadata": {},
     "output_type": "execute_result"
    }
   ],
   "source": [
    "# 'host_response_rate'---> Replace '%' with '' (empty space) and then convert it numeric\n",
    "# It has almost 25% of the missing values. \n",
    "# create indicator column missing-->0, non-missing-->1\n",
    "ab['host_response_rate']=pd.to_numeric(ab['host_response_rate'].str.replace('%',''))\n",
    "ab['host_response_rate']=np.where(ab['host_response_rate'].isnull(),0,1)\n",
    "ab['host_response_rate'].value_counts()"
   ]
  },
  {
   "cell_type": "code",
   "execution_count": 21,
   "metadata": {},
   "outputs": [
    {
     "data": {
      "text/plain": [
       "2008.0    24293\n",
       "2015.0    10579\n",
       "2014.0     9189\n",
       "2016.0     8876\n",
       "2013.0     7279\n",
       "2012.0     5595\n",
       "2017.0     3350\n",
       "2011.0     3269\n",
       "2010.0     1212\n",
       "2009.0      468\n",
       "Name: host_since, dtype: int64"
      ]
     },
     "execution_count": 21,
     "metadata": {},
     "output_type": "execute_result"
    }
   ],
   "source": [
    "# 'host_since'--> lets covert into date-time format and extract features out of it and \n",
    "# Replace missing with min\n",
    "ab['host_since']=pd.to_datetime(ab['host_since'],format='%m/%d/%Y',errors='coerce').dt.year\n",
    "ab.loc[ab['host_since'].isnull(),'host_since']=ab.loc[ab['data']=='train','host_since'].min()\n",
    "ab['host_since'].value_counts()"
   ]
  },
  {
   "cell_type": "code",
   "execution_count": 22,
   "metadata": {},
   "outputs": [
    {
     "data": {
      "text/plain": [
       "0    54660\n",
       "1    19450\n",
       "Name: instant_bookable, dtype: int64"
      ]
     },
     "execution_count": 22,
     "metadata": {},
     "output_type": "execute_result"
    }
   ],
   "source": [
    "# 'instant_bookable'---> lets create  t to 1 and f to 0\n",
    "ab['instant_bookable']=np.where(ab['instant_bookable']=='t',1,0)\n",
    "ab['instant_bookable'].value_counts()"
   ]
  },
  {
   "cell_type": "code",
   "execution_count": 23,
   "metadata": {},
   "outputs": [
    {
     "data": {
      "text/plain": [
       "2009.0    34796\n",
       "2017.0    30220\n",
       "2016.0     6665\n",
       "2015.0     1990\n",
       "2014.0      304\n",
       "2013.0       89\n",
       "2012.0       35\n",
       "2011.0        8\n",
       "2010.0        3\n",
       "Name: last_review, dtype: int64"
      ]
     },
     "execution_count": 23,
     "metadata": {},
     "output_type": "execute_result"
    }
   ],
   "source": [
    "# 'last_review'--> Since there are almost 21.4% values are Missing.\n",
    "# replace missing with min\n",
    "ab['last_review']=pd.to_datetime(ab['last_review'],format='%m/%d/%Y',errors='coerce').dt.year\n",
    "ab.loc[ab['last_review'].isnull(),'last_review']=ab.loc[ab['data']=='train','last_review'].min()\n",
    "ab['last_review'].value_counts()"
   ]
  },
  {
   "cell_type": "code",
   "execution_count": 24,
   "metadata": {},
   "outputs": [
    {
     "data": {
      "text/html": [
       "<div>\n",
       "<style scoped>\n",
       "    .dataframe tbody tr th:only-of-type {\n",
       "        vertical-align: middle;\n",
       "    }\n",
       "\n",
       "    .dataframe tbody tr th {\n",
       "        vertical-align: top;\n",
       "    }\n",
       "\n",
       "    .dataframe thead th {\n",
       "        text-align: right;\n",
       "    }\n",
       "</style>\n",
       "<table border=\"1\" class=\"dataframe\">\n",
       "  <thead>\n",
       "    <tr style=\"text-align: right;\">\n",
       "      <th></th>\n",
       "      <th>x</th>\n",
       "      <th>y</th>\n",
       "      <th>z</th>\n",
       "    </tr>\n",
       "  </thead>\n",
       "  <tbody>\n",
       "    <tr>\n",
       "      <th>0</th>\n",
       "      <td>-0.161757</td>\n",
       "      <td>-0.976315</td>\n",
       "      <td>0.143682</td>\n",
       "    </tr>\n",
       "    <tr>\n",
       "      <th>1</th>\n",
       "      <td>-0.160463</td>\n",
       "      <td>-0.984225</td>\n",
       "      <td>0.074520</td>\n",
       "    </tr>\n",
       "    <tr>\n",
       "      <th>2</th>\n",
       "      <td>-0.116005</td>\n",
       "      <td>-0.992714</td>\n",
       "      <td>0.032589</td>\n",
       "    </tr>\n",
       "    <tr>\n",
       "      <th>3</th>\n",
       "      <td>-0.993264</td>\n",
       "      <td>-0.090131</td>\n",
       "      <td>0.072828</td>\n",
       "    </tr>\n",
       "    <tr>\n",
       "      <th>4</th>\n",
       "      <td>-0.022117</td>\n",
       "      <td>-0.336795</td>\n",
       "      <td>0.941318</td>\n",
       "    </tr>\n",
       "  </tbody>\n",
       "</table>\n",
       "</div>"
      ],
      "text/plain": [
       "          x         y         z\n",
       "0 -0.161757 -0.976315  0.143682\n",
       "1 -0.160463 -0.984225  0.074520\n",
       "2 -0.116005 -0.992714  0.032589\n",
       "3 -0.993264 -0.090131  0.072828\n",
       "4 -0.022117 -0.336795  0.941318"
      ]
     },
     "execution_count": 24,
     "metadata": {},
     "output_type": "execute_result"
    }
   ],
   "source": [
    "#  'latitude' --> convert to x,y,z co-ordinates\n",
    "#  'longitude' ---> convert to x,y,z co-ordinates\n",
    "# After converting drop lat and long. Make x, y, z\n",
    "x=np.cos(ab['latitude'])*np.cos(ab['longitude'])\n",
    "y=np.cos(ab['latitude'])*np.sin(ab['longitude'])\n",
    "z=np.sin(ab['latitude'])\n",
    "lat_long=pd.DataFrame({'x':x,'y':y,'z':z})\n",
    "lat_long.head()"
   ]
  },
  {
   "cell_type": "code",
   "execution_count": 25,
   "metadata": {},
   "outputs": [],
   "source": [
    "ab.drop(['latitude','longitude'],axis=1,inplace=True)\n",
    "ab=pd.concat([ab,lat_long],axis=1)"
   ]
  },
  {
   "cell_type": "code",
   "execution_count": 26,
   "metadata": {},
   "outputs": [
    {
     "data": {
      "text/plain": [
       "0.0      16722\n",
       "100.0    16215\n",
       "98.0      4374\n",
       "97.0      4087\n",
       "96.0      4081\n",
       "95.0      3713\n",
       "93.0      3647\n",
       "90.0      2852\n",
       "99.0      2631\n",
       "94.0      2618\n",
       "80.0      2163\n",
       "92.0      2064\n",
       "91.0      1615\n",
       "89.0      1120\n",
       "87.0      1118\n",
       "88.0      1056\n",
       "85.0       625\n",
       "86.0       512\n",
       "60.0       444\n",
       "84.0       438\n",
       "83.0       403\n",
       "82.0       211\n",
       "70.0       196\n",
       "73.0       157\n",
       "81.0       126\n",
       "75.0       101\n",
       "20.0        97\n",
       "78.0        94\n",
       "40.0        90\n",
       "79.0        83\n",
       "76.0        76\n",
       "77.0        74\n",
       "67.0        66\n",
       "74.0        39\n",
       "72.0        38\n",
       "50.0        30\n",
       "65.0        28\n",
       "68.0        20\n",
       "71.0        14\n",
       "69.0        13\n",
       "63.0        11\n",
       "53.0        10\n",
       "64.0        10\n",
       "47.0         5\n",
       "30.0         4\n",
       "62.0         3\n",
       "55.0         3\n",
       "57.0         3\n",
       "66.0         3\n",
       "27.0         2\n",
       "56.0         1\n",
       "49.0         1\n",
       "35.0         1\n",
       "54.0         1\n",
       "58.0         1\n",
       "Name: review_scores_rating, dtype: int64"
      ]
     },
     "execution_count": 26,
     "metadata": {},
     "output_type": "execute_result"
    }
   ],
   "source": [
    "# 'review_scores_rating' --> Since there are almost 22.6% values are Missing.\n",
    "# Replace  missing-->0\n",
    "ab['review_scores_rating']=pd.to_numeric(np.where(ab['review_scores_rating'].isnull(),0,ab['review_scores_rating']))\n",
    "ab['review_scores_rating'].value_counts()"
   ]
  },
  {
   "cell_type": "code",
   "execution_count": 27,
   "metadata": {},
   "outputs": [],
   "source": [
    "# 'bedrooms'---> Replace missing value with median\n",
    "ab.loc[ab['bedrooms'].isnull(),'bedrooms']=ab.loc[ab['data']=='train','bedrooms'].median()"
   ]
  },
  {
   "cell_type": "code",
   "execution_count": 28,
   "metadata": {},
   "outputs": [],
   "source": [
    "# 'beds'---> Replace missing value with median\n",
    "ab.loc[ab['beds'].isnull(),'beds']=ab.loc[ab['data']=='train','beds'].median()"
   ]
  },
  {
   "cell_type": "code",
   "execution_count": 29,
   "metadata": {},
   "outputs": [
    {
     "data": {
      "text/plain": [
       "Index(['property_type', 'room_type', 'bed_type', 'cancellation_policy', 'city',\n",
       "       'data'],\n",
       "      dtype='object')"
      ]
     },
     "execution_count": 29,
     "metadata": {},
     "output_type": "execute_result"
    }
   ],
   "source": [
    "cat_cols=ab.select_dtypes('object').columns\n",
    "cat_cols"
   ]
  },
  {
   "cell_type": "code",
   "execution_count": 30,
   "metadata": {},
   "outputs": [
    {
     "name": "stdout",
     "output_type": "stream",
     "text": [
      "property_type\n",
      "room_type\n",
      "bed_type\n",
      "cancellation_policy\n",
      "city\n"
     ]
    }
   ],
   "source": [
    "cat_cols=ab.select_dtypes('object').columns\n",
    "\n",
    "for col in cat_cols[:-1]:\n",
    "    freqs=ab[col].value_counts()\n",
    "    k=freqs.index[freqs>20][:-1]\n",
    "    for cat in k:\n",
    "        name=col+'_'+cat\n",
    "        ab[name]=(ab[col]==cat).astype(int)\n",
    "    del ab[col]\n",
    "    print(col)\n",
    "        "
   ]
  },
  {
   "cell_type": "code",
   "execution_count": 31,
   "metadata": {},
   "outputs": [
    {
     "name": "stdout",
     "output_type": "stream",
     "text": [
      "<class 'pandas.core.frame.DataFrame'>\n",
      "Int64Index: 74110 entries, 0 to 24110\n",
      "Data columns (total 46 columns):\n",
      " #   Column                         Non-Null Count  Dtype  \n",
      "---  ------                         --------------  -----  \n",
      " 0   id                             74110 non-null  int64  \n",
      " 1   accommodates                   74110 non-null  int64  \n",
      " 2   bathrooms                      74110 non-null  float64\n",
      " 3   cleaning_fee                   74110 non-null  int32  \n",
      " 4   host_identity_verified         74110 non-null  int32  \n",
      " 5   host_response_rate             74110 non-null  int32  \n",
      " 6   host_since                     74110 non-null  float64\n",
      " 7   instant_bookable               74110 non-null  int32  \n",
      " 8   last_review                    74110 non-null  float64\n",
      " 9   number_of_reviews              74110 non-null  int64  \n",
      " 10  review_scores_rating           74110 non-null  float64\n",
      " 11  bedrooms                       74110 non-null  float64\n",
      " 12  beds                           74110 non-null  float64\n",
      " 13  log_price                      49999 non-null  float64\n",
      " 14  data                           74110 non-null  object \n",
      " 15  x                              74110 non-null  float64\n",
      " 16  y                              74110 non-null  float64\n",
      " 17  z                              74110 non-null  float64\n",
      " 18  property_type_Apartment        74110 non-null  int32  \n",
      " 19  property_type_House            74110 non-null  int32  \n",
      " 20  property_type_Condominium      74110 non-null  int32  \n",
      " 21  property_type_Townhouse        74110 non-null  int32  \n",
      " 22  property_type_Loft             74110 non-null  int32  \n",
      " 23  property_type_Other            74110 non-null  int32  \n",
      " 24  property_type_Guesthouse       74110 non-null  int32  \n",
      " 25  property_type_Bed & Breakfast  74110 non-null  int32  \n",
      " 26  property_type_Bungalow         74110 non-null  int32  \n",
      " 27  property_type_Villa            74110 non-null  int32  \n",
      " 28  property_type_Dorm             74110 non-null  int32  \n",
      " 29  property_type_Guest suite      74110 non-null  int32  \n",
      " 30  property_type_Camper/RV        74110 non-null  int32  \n",
      " 31  property_type_Timeshare        74110 non-null  int32  \n",
      " 32  property_type_Cabin            74110 non-null  int32  \n",
      " 33  property_type_In-law           74110 non-null  int32  \n",
      " 34  property_type_Hostel           74110 non-null  int32  \n",
      " 35  property_type_Boutique hotel   74110 non-null  int32  \n",
      " 36  property_type_Boat             74110 non-null  int32  \n",
      " 37  room_type_Entire home/apt      74110 non-null  int32  \n",
      " 38  room_type_Private room         74110 non-null  int32  \n",
      " 39  bed_type_Real Bed              74110 non-null  int32  \n",
      " 40  cancellation_policy_strict     74110 non-null  int32  \n",
      " 41  cancellation_policy_flexible   74110 non-null  int32  \n",
      " 42  cancellation_policy_moderate   74110 non-null  int32  \n",
      " 43  city_NYC                       74110 non-null  int32  \n",
      " 44  city_LA                        74110 non-null  int32  \n",
      " 45  city_SF_DC                     74110 non-null  int32  \n",
      "dtypes: float64(10), int32(32), int64(3), object(1)\n",
      "memory usage: 17.5+ MB\n"
     ]
    }
   ],
   "source": [
    "ab.info()"
   ]
  },
  {
   "cell_type": "code",
   "execution_count": 32,
   "metadata": {},
   "outputs": [
    {
     "data": {
      "text/html": [
       "<div>\n",
       "<style scoped>\n",
       "    .dataframe tbody tr th:only-of-type {\n",
       "        vertical-align: middle;\n",
       "    }\n",
       "\n",
       "    .dataframe tbody tr th {\n",
       "        vertical-align: top;\n",
       "    }\n",
       "\n",
       "    .dataframe thead th {\n",
       "        text-align: right;\n",
       "    }\n",
       "</style>\n",
       "<table border=\"1\" class=\"dataframe\">\n",
       "  <thead>\n",
       "    <tr style=\"text-align: right;\">\n",
       "      <th></th>\n",
       "      <th>id</th>\n",
       "      <th>accommodates</th>\n",
       "      <th>bathrooms</th>\n",
       "      <th>cleaning_fee</th>\n",
       "      <th>host_identity_verified</th>\n",
       "      <th>host_response_rate</th>\n",
       "      <th>host_since</th>\n",
       "      <th>instant_bookable</th>\n",
       "      <th>last_review</th>\n",
       "      <th>number_of_reviews</th>\n",
       "      <th>review_scores_rating</th>\n",
       "      <th>bedrooms</th>\n",
       "      <th>beds</th>\n",
       "      <th>log_price</th>\n",
       "      <th>data</th>\n",
       "      <th>x</th>\n",
       "      <th>y</th>\n",
       "      <th>z</th>\n",
       "      <th>property_type_Apartment</th>\n",
       "      <th>property_type_House</th>\n",
       "      <th>property_type_Condominium</th>\n",
       "      <th>property_type_Townhouse</th>\n",
       "      <th>property_type_Loft</th>\n",
       "      <th>property_type_Other</th>\n",
       "      <th>property_type_Guesthouse</th>\n",
       "      <th>property_type_Bed &amp; Breakfast</th>\n",
       "      <th>property_type_Bungalow</th>\n",
       "      <th>property_type_Villa</th>\n",
       "      <th>property_type_Dorm</th>\n",
       "      <th>property_type_Guest suite</th>\n",
       "      <th>property_type_Camper/RV</th>\n",
       "      <th>property_type_Timeshare</th>\n",
       "      <th>property_type_Cabin</th>\n",
       "      <th>property_type_In-law</th>\n",
       "      <th>property_type_Hostel</th>\n",
       "      <th>property_type_Boutique hotel</th>\n",
       "      <th>property_type_Boat</th>\n",
       "      <th>room_type_Entire home/apt</th>\n",
       "      <th>room_type_Private room</th>\n",
       "      <th>bed_type_Real Bed</th>\n",
       "      <th>cancellation_policy_strict</th>\n",
       "      <th>cancellation_policy_flexible</th>\n",
       "      <th>cancellation_policy_moderate</th>\n",
       "      <th>city_NYC</th>\n",
       "      <th>city_LA</th>\n",
       "      <th>city_SF_DC</th>\n",
       "    </tr>\n",
       "  </thead>\n",
       "  <tbody>\n",
       "    <tr>\n",
       "      <th>0</th>\n",
       "      <td>6901257</td>\n",
       "      <td>3</td>\n",
       "      <td>1.0</td>\n",
       "      <td>1</td>\n",
       "      <td>1</td>\n",
       "      <td>0</td>\n",
       "      <td>2012.0</td>\n",
       "      <td>0</td>\n",
       "      <td>2016.0</td>\n",
       "      <td>2</td>\n",
       "      <td>100.0</td>\n",
       "      <td>1.0</td>\n",
       "      <td>1.0</td>\n",
       "      <td>5.010635</td>\n",
       "      <td>train</td>\n",
       "      <td>-0.161757</td>\n",
       "      <td>-0.976315</td>\n",
       "      <td>0.143682</td>\n",
       "      <td>1</td>\n",
       "      <td>0</td>\n",
       "      <td>0</td>\n",
       "      <td>0</td>\n",
       "      <td>0</td>\n",
       "      <td>0</td>\n",
       "      <td>0</td>\n",
       "      <td>0</td>\n",
       "      <td>0</td>\n",
       "      <td>0</td>\n",
       "      <td>0</td>\n",
       "      <td>0</td>\n",
       "      <td>0</td>\n",
       "      <td>0</td>\n",
       "      <td>0</td>\n",
       "      <td>0</td>\n",
       "      <td>0</td>\n",
       "      <td>0</td>\n",
       "      <td>0</td>\n",
       "      <td>1</td>\n",
       "      <td>0</td>\n",
       "      <td>1</td>\n",
       "      <td>1</td>\n",
       "      <td>0</td>\n",
       "      <td>0</td>\n",
       "      <td>1</td>\n",
       "      <td>0</td>\n",
       "      <td>0</td>\n",
       "    </tr>\n",
       "    <tr>\n",
       "      <th>1</th>\n",
       "      <td>6304928</td>\n",
       "      <td>7</td>\n",
       "      <td>1.0</td>\n",
       "      <td>1</td>\n",
       "      <td>0</td>\n",
       "      <td>1</td>\n",
       "      <td>2017.0</td>\n",
       "      <td>1</td>\n",
       "      <td>2017.0</td>\n",
       "      <td>6</td>\n",
       "      <td>93.0</td>\n",
       "      <td>3.0</td>\n",
       "      <td>3.0</td>\n",
       "      <td>5.129899</td>\n",
       "      <td>train</td>\n",
       "      <td>-0.160463</td>\n",
       "      <td>-0.984225</td>\n",
       "      <td>0.074520</td>\n",
       "      <td>1</td>\n",
       "      <td>0</td>\n",
       "      <td>0</td>\n",
       "      <td>0</td>\n",
       "      <td>0</td>\n",
       "      <td>0</td>\n",
       "      <td>0</td>\n",
       "      <td>0</td>\n",
       "      <td>0</td>\n",
       "      <td>0</td>\n",
       "      <td>0</td>\n",
       "      <td>0</td>\n",
       "      <td>0</td>\n",
       "      <td>0</td>\n",
       "      <td>0</td>\n",
       "      <td>0</td>\n",
       "      <td>0</td>\n",
       "      <td>0</td>\n",
       "      <td>0</td>\n",
       "      <td>1</td>\n",
       "      <td>0</td>\n",
       "      <td>1</td>\n",
       "      <td>1</td>\n",
       "      <td>0</td>\n",
       "      <td>0</td>\n",
       "      <td>1</td>\n",
       "      <td>0</td>\n",
       "      <td>0</td>\n",
       "    </tr>\n",
       "    <tr>\n",
       "      <th>2</th>\n",
       "      <td>7919400</td>\n",
       "      <td>5</td>\n",
       "      <td>1.0</td>\n",
       "      <td>1</td>\n",
       "      <td>1</td>\n",
       "      <td>1</td>\n",
       "      <td>2016.0</td>\n",
       "      <td>1</td>\n",
       "      <td>2017.0</td>\n",
       "      <td>10</td>\n",
       "      <td>92.0</td>\n",
       "      <td>1.0</td>\n",
       "      <td>3.0</td>\n",
       "      <td>4.976734</td>\n",
       "      <td>train</td>\n",
       "      <td>-0.116005</td>\n",
       "      <td>-0.992714</td>\n",
       "      <td>0.032589</td>\n",
       "      <td>1</td>\n",
       "      <td>0</td>\n",
       "      <td>0</td>\n",
       "      <td>0</td>\n",
       "      <td>0</td>\n",
       "      <td>0</td>\n",
       "      <td>0</td>\n",
       "      <td>0</td>\n",
       "      <td>0</td>\n",
       "      <td>0</td>\n",
       "      <td>0</td>\n",
       "      <td>0</td>\n",
       "      <td>0</td>\n",
       "      <td>0</td>\n",
       "      <td>0</td>\n",
       "      <td>0</td>\n",
       "      <td>0</td>\n",
       "      <td>0</td>\n",
       "      <td>0</td>\n",
       "      <td>1</td>\n",
       "      <td>0</td>\n",
       "      <td>1</td>\n",
       "      <td>0</td>\n",
       "      <td>0</td>\n",
       "      <td>1</td>\n",
       "      <td>1</td>\n",
       "      <td>0</td>\n",
       "      <td>0</td>\n",
       "    </tr>\n",
       "    <tr>\n",
       "      <th>3</th>\n",
       "      <td>13418779</td>\n",
       "      <td>4</td>\n",
       "      <td>1.0</td>\n",
       "      <td>1</td>\n",
       "      <td>1</td>\n",
       "      <td>0</td>\n",
       "      <td>2015.0</td>\n",
       "      <td>0</td>\n",
       "      <td>2009.0</td>\n",
       "      <td>0</td>\n",
       "      <td>0.0</td>\n",
       "      <td>2.0</td>\n",
       "      <td>2.0</td>\n",
       "      <td>6.620073</td>\n",
       "      <td>train</td>\n",
       "      <td>-0.993264</td>\n",
       "      <td>-0.090131</td>\n",
       "      <td>0.072828</td>\n",
       "      <td>0</td>\n",
       "      <td>1</td>\n",
       "      <td>0</td>\n",
       "      <td>0</td>\n",
       "      <td>0</td>\n",
       "      <td>0</td>\n",
       "      <td>0</td>\n",
       "      <td>0</td>\n",
       "      <td>0</td>\n",
       "      <td>0</td>\n",
       "      <td>0</td>\n",
       "      <td>0</td>\n",
       "      <td>0</td>\n",
       "      <td>0</td>\n",
       "      <td>0</td>\n",
       "      <td>0</td>\n",
       "      <td>0</td>\n",
       "      <td>0</td>\n",
       "      <td>0</td>\n",
       "      <td>1</td>\n",
       "      <td>0</td>\n",
       "      <td>1</td>\n",
       "      <td>0</td>\n",
       "      <td>1</td>\n",
       "      <td>0</td>\n",
       "      <td>0</td>\n",
       "      <td>0</td>\n",
       "      <td>1</td>\n",
       "    </tr>\n",
       "    <tr>\n",
       "      <th>4</th>\n",
       "      <td>3808709</td>\n",
       "      <td>2</td>\n",
       "      <td>1.0</td>\n",
       "      <td>1</td>\n",
       "      <td>1</td>\n",
       "      <td>1</td>\n",
       "      <td>2015.0</td>\n",
       "      <td>1</td>\n",
       "      <td>2017.0</td>\n",
       "      <td>4</td>\n",
       "      <td>40.0</td>\n",
       "      <td>0.0</td>\n",
       "      <td>1.0</td>\n",
       "      <td>4.744932</td>\n",
       "      <td>train</td>\n",
       "      <td>-0.022117</td>\n",
       "      <td>-0.336795</td>\n",
       "      <td>0.941318</td>\n",
       "      <td>1</td>\n",
       "      <td>0</td>\n",
       "      <td>0</td>\n",
       "      <td>0</td>\n",
       "      <td>0</td>\n",
       "      <td>0</td>\n",
       "      <td>0</td>\n",
       "      <td>0</td>\n",
       "      <td>0</td>\n",
       "      <td>0</td>\n",
       "      <td>0</td>\n",
       "      <td>0</td>\n",
       "      <td>0</td>\n",
       "      <td>0</td>\n",
       "      <td>0</td>\n",
       "      <td>0</td>\n",
       "      <td>0</td>\n",
       "      <td>0</td>\n",
       "      <td>0</td>\n",
       "      <td>1</td>\n",
       "      <td>0</td>\n",
       "      <td>1</td>\n",
       "      <td>0</td>\n",
       "      <td>0</td>\n",
       "      <td>1</td>\n",
       "      <td>0</td>\n",
       "      <td>0</td>\n",
       "      <td>1</td>\n",
       "    </tr>\n",
       "  </tbody>\n",
       "</table>\n",
       "</div>"
      ],
      "text/plain": [
       "         id  accommodates  bathrooms  cleaning_fee  host_identity_verified  \\\n",
       "0   6901257             3        1.0             1                       1   \n",
       "1   6304928             7        1.0             1                       0   \n",
       "2   7919400             5        1.0             1                       1   \n",
       "3  13418779             4        1.0             1                       1   \n",
       "4   3808709             2        1.0             1                       1   \n",
       "\n",
       "   host_response_rate  host_since  instant_bookable  last_review  \\\n",
       "0                   0      2012.0                 0       2016.0   \n",
       "1                   1      2017.0                 1       2017.0   \n",
       "2                   1      2016.0                 1       2017.0   \n",
       "3                   0      2015.0                 0       2009.0   \n",
       "4                   1      2015.0                 1       2017.0   \n",
       "\n",
       "   number_of_reviews  review_scores_rating  bedrooms  beds  log_price   data  \\\n",
       "0                  2                 100.0       1.0   1.0   5.010635  train   \n",
       "1                  6                  93.0       3.0   3.0   5.129899  train   \n",
       "2                 10                  92.0       1.0   3.0   4.976734  train   \n",
       "3                  0                   0.0       2.0   2.0   6.620073  train   \n",
       "4                  4                  40.0       0.0   1.0   4.744932  train   \n",
       "\n",
       "          x         y         z  property_type_Apartment  property_type_House  \\\n",
       "0 -0.161757 -0.976315  0.143682                        1                    0   \n",
       "1 -0.160463 -0.984225  0.074520                        1                    0   \n",
       "2 -0.116005 -0.992714  0.032589                        1                    0   \n",
       "3 -0.993264 -0.090131  0.072828                        0                    1   \n",
       "4 -0.022117 -0.336795  0.941318                        1                    0   \n",
       "\n",
       "   property_type_Condominium  property_type_Townhouse  property_type_Loft  \\\n",
       "0                          0                        0                   0   \n",
       "1                          0                        0                   0   \n",
       "2                          0                        0                   0   \n",
       "3                          0                        0                   0   \n",
       "4                          0                        0                   0   \n",
       "\n",
       "   property_type_Other  property_type_Guesthouse  \\\n",
       "0                    0                         0   \n",
       "1                    0                         0   \n",
       "2                    0                         0   \n",
       "3                    0                         0   \n",
       "4                    0                         0   \n",
       "\n",
       "   property_type_Bed & Breakfast  property_type_Bungalow  property_type_Villa  \\\n",
       "0                              0                       0                    0   \n",
       "1                              0                       0                    0   \n",
       "2                              0                       0                    0   \n",
       "3                              0                       0                    0   \n",
       "4                              0                       0                    0   \n",
       "\n",
       "   property_type_Dorm  property_type_Guest suite  property_type_Camper/RV  \\\n",
       "0                   0                          0                        0   \n",
       "1                   0                          0                        0   \n",
       "2                   0                          0                        0   \n",
       "3                   0                          0                        0   \n",
       "4                   0                          0                        0   \n",
       "\n",
       "   property_type_Timeshare  property_type_Cabin  property_type_In-law  \\\n",
       "0                        0                    0                     0   \n",
       "1                        0                    0                     0   \n",
       "2                        0                    0                     0   \n",
       "3                        0                    0                     0   \n",
       "4                        0                    0                     0   \n",
       "\n",
       "   property_type_Hostel  property_type_Boutique hotel  property_type_Boat  \\\n",
       "0                     0                             0                   0   \n",
       "1                     0                             0                   0   \n",
       "2                     0                             0                   0   \n",
       "3                     0                             0                   0   \n",
       "4                     0                             0                   0   \n",
       "\n",
       "   room_type_Entire home/apt  room_type_Private room  bed_type_Real Bed  \\\n",
       "0                          1                       0                  1   \n",
       "1                          1                       0                  1   \n",
       "2                          1                       0                  1   \n",
       "3                          1                       0                  1   \n",
       "4                          1                       0                  1   \n",
       "\n",
       "   cancellation_policy_strict  cancellation_policy_flexible  \\\n",
       "0                           1                             0   \n",
       "1                           1                             0   \n",
       "2                           0                             0   \n",
       "3                           0                             1   \n",
       "4                           0                             0   \n",
       "\n",
       "   cancellation_policy_moderate  city_NYC  city_LA  city_SF_DC  \n",
       "0                             0         1        0           0  \n",
       "1                             0         1        0           0  \n",
       "2                             1         1        0           0  \n",
       "3                             0         0        0           1  \n",
       "4                             1         0        0           1  "
      ]
     },
     "execution_count": 32,
     "metadata": {},
     "output_type": "execute_result"
    }
   ],
   "source": [
    "ab.head()"
   ]
  },
  {
   "cell_type": "code",
   "execution_count": 33,
   "metadata": {},
   "outputs": [],
   "source": [
    "# Data preprocessing complete - the data is in the expected format"
   ]
  },
  {
   "cell_type": "code",
   "execution_count": 34,
   "metadata": {},
   "outputs": [
    {
     "name": "stdout",
     "output_type": "stream",
     "text": [
      "<class 'pandas.core.frame.DataFrame'>\n",
      "Int64Index: 74110 entries, 0 to 24110\n",
      "Data columns (total 46 columns):\n",
      " #   Column                         Non-Null Count  Dtype  \n",
      "---  ------                         --------------  -----  \n",
      " 0   id                             74110 non-null  int64  \n",
      " 1   accommodates                   74110 non-null  int64  \n",
      " 2   bathrooms                      74110 non-null  float64\n",
      " 3   cleaning_fee                   74110 non-null  int32  \n",
      " 4   host_identity_verified         74110 non-null  int32  \n",
      " 5   host_response_rate             74110 non-null  int32  \n",
      " 6   host_since                     74110 non-null  float64\n",
      " 7   instant_bookable               74110 non-null  int32  \n",
      " 8   last_review                    74110 non-null  float64\n",
      " 9   number_of_reviews              74110 non-null  int64  \n",
      " 10  review_scores_rating           74110 non-null  float64\n",
      " 11  bedrooms                       74110 non-null  float64\n",
      " 12  beds                           74110 non-null  float64\n",
      " 13  log_price                      49999 non-null  float64\n",
      " 14  data                           74110 non-null  object \n",
      " 15  x                              74110 non-null  float64\n",
      " 16  y                              74110 non-null  float64\n",
      " 17  z                              74110 non-null  float64\n",
      " 18  property_type_Apartment        74110 non-null  int32  \n",
      " 19  property_type_House            74110 non-null  int32  \n",
      " 20  property_type_Condominium      74110 non-null  int32  \n",
      " 21  property_type_Townhouse        74110 non-null  int32  \n",
      " 22  property_type_Loft             74110 non-null  int32  \n",
      " 23  property_type_Other            74110 non-null  int32  \n",
      " 24  property_type_Guesthouse       74110 non-null  int32  \n",
      " 25  property_type_Bed & Breakfast  74110 non-null  int32  \n",
      " 26  property_type_Bungalow         74110 non-null  int32  \n",
      " 27  property_type_Villa            74110 non-null  int32  \n",
      " 28  property_type_Dorm             74110 non-null  int32  \n",
      " 29  property_type_Guest suite      74110 non-null  int32  \n",
      " 30  property_type_Camper/RV        74110 non-null  int32  \n",
      " 31  property_type_Timeshare        74110 non-null  int32  \n",
      " 32  property_type_Cabin            74110 non-null  int32  \n",
      " 33  property_type_In-law           74110 non-null  int32  \n",
      " 34  property_type_Hostel           74110 non-null  int32  \n",
      " 35  property_type_Boutique hotel   74110 non-null  int32  \n",
      " 36  property_type_Boat             74110 non-null  int32  \n",
      " 37  room_type_Entire home/apt      74110 non-null  int32  \n",
      " 38  room_type_Private room         74110 non-null  int32  \n",
      " 39  bed_type_Real Bed              74110 non-null  int32  \n",
      " 40  cancellation_policy_strict     74110 non-null  int32  \n",
      " 41  cancellation_policy_flexible   74110 non-null  int32  \n",
      " 42  cancellation_policy_moderate   74110 non-null  int32  \n",
      " 43  city_NYC                       74110 non-null  int32  \n",
      " 44  city_LA                        74110 non-null  int32  \n",
      " 45  city_SF_DC                     74110 non-null  int32  \n",
      "dtypes: float64(10), int32(32), int64(3), object(1)\n",
      "memory usage: 17.5+ MB\n"
     ]
    }
   ],
   "source": [
    "ab.info()"
   ]
  },
  {
   "cell_type": "code",
   "execution_count": 35,
   "metadata": {},
   "outputs": [
    {
     "data": {
      "text/plain": [
       "id                                   0\n",
       "accommodates                         0\n",
       "bathrooms                            0\n",
       "cleaning_fee                         0\n",
       "host_identity_verified               0\n",
       "host_response_rate                   0\n",
       "host_since                           0\n",
       "instant_bookable                     0\n",
       "last_review                          0\n",
       "number_of_reviews                    0\n",
       "review_scores_rating                 0\n",
       "bedrooms                             0\n",
       "beds                                 0\n",
       "log_price                        24111\n",
       "data                                 0\n",
       "x                                    0\n",
       "y                                    0\n",
       "z                                    0\n",
       "property_type_Apartment              0\n",
       "property_type_House                  0\n",
       "property_type_Condominium            0\n",
       "property_type_Townhouse              0\n",
       "property_type_Loft                   0\n",
       "property_type_Other                  0\n",
       "property_type_Guesthouse             0\n",
       "property_type_Bed & Breakfast        0\n",
       "property_type_Bungalow               0\n",
       "property_type_Villa                  0\n",
       "property_type_Dorm                   0\n",
       "property_type_Guest suite            0\n",
       "property_type_Camper/RV              0\n",
       "property_type_Timeshare              0\n",
       "property_type_Cabin                  0\n",
       "property_type_In-law                 0\n",
       "property_type_Hostel                 0\n",
       "property_type_Boutique hotel         0\n",
       "property_type_Boat                   0\n",
       "room_type_Entire home/apt            0\n",
       "room_type_Private room               0\n",
       "bed_type_Real Bed                    0\n",
       "cancellation_policy_strict           0\n",
       "cancellation_policy_flexible         0\n",
       "cancellation_policy_moderate         0\n",
       "city_NYC                             0\n",
       "city_LA                              0\n",
       "city_SF_DC                           0\n",
       "dtype: int64"
      ]
     },
     "execution_count": 35,
     "metadata": {},
     "output_type": "execute_result"
    }
   ],
   "source": [
    "ab.isnull().sum()"
   ]
  },
  {
   "cell_type": "markdown",
   "metadata": {},
   "source": [
    "Let's separate our two data sets and remove the unnecessary columns that we added while combining them."
   ]
  },
  {
   "cell_type": "markdown",
   "metadata": {},
   "source": [
    "* Separate the train and test data\n",
    "* We will break the train data further into train and validation datasets"
   ]
  },
  {
   "cell_type": "code",
   "execution_count": 36,
   "metadata": {},
   "outputs": [
    {
     "name": "stdout",
     "output_type": "stream",
     "text": [
      "shape of train data after feature engineeing: (49999, 45)\n",
      "shape of test data after feature engineeing: (24111, 44)\n"
     ]
    }
   ],
   "source": [
    "#Separate the train and test data\n",
    "ab_train=ab[ab['data']=='train']\n",
    "del ab_train['data']\n",
    "\n",
    "ab_test=ab[ab['data']=='test']\n",
    "ab_test.drop(['log_price','data'],axis=1,inplace=True)\n",
    "\n",
    "print('shape of train data after feature engineeing: {}'.format(ab_train.shape))\n",
    "print('shape of test data after feature engineeing: {}'.format(ab_test.shape))"
   ]
  },
  {
   "cell_type": "markdown",
   "metadata": {},
   "source": [
    "## Feature Scaling"
   ]
  },
  {
   "cell_type": "code",
   "execution_count": 37,
   "metadata": {},
   "outputs": [],
   "source": [
    "feature_scale=[feature for feature in ab_train.columns if feature not in ['id','log_price']]\n",
    "\n",
    "from sklearn.preprocessing import MinMaxScaler"
   ]
  },
  {
   "cell_type": "code",
   "execution_count": 39,
   "metadata": {},
   "outputs": [],
   "source": [
    "scaler=MinMaxScaler()"
   ]
  },
  {
   "cell_type": "code",
   "execution_count": 40,
   "metadata": {},
   "outputs": [
    {
     "data": {
      "text/plain": [
       "MinMaxScaler()"
      ]
     },
     "execution_count": 40,
     "metadata": {},
     "output_type": "execute_result"
    }
   ],
   "source": [
    "scaler.fit(ab_train[feature_scale])"
   ]
  },
  {
   "cell_type": "code",
   "execution_count": 41,
   "metadata": {},
   "outputs": [
    {
     "data": {
      "text/plain": [
       "array([[0.13333333, 0.125     , 1.        , ..., 1.        , 0.        ,\n",
       "        0.        ],\n",
       "       [0.4       , 0.125     , 1.        , ..., 1.        , 0.        ,\n",
       "        0.        ],\n",
       "       [0.26666667, 0.125     , 1.        , ..., 1.        , 0.        ,\n",
       "        0.        ],\n",
       "       ...,\n",
       "       [0.26666667, 0.125     , 1.        , ..., 1.        , 0.        ,\n",
       "        0.        ],\n",
       "       [0.06666667, 0.125     , 1.        , ..., 1.        , 0.        ,\n",
       "        0.        ],\n",
       "       [0.06666667, 0.125     , 0.        , ..., 1.        , 0.        ,\n",
       "        0.        ]])"
      ]
     },
     "execution_count": 41,
     "metadata": {},
     "output_type": "execute_result"
    }
   ],
   "source": [
    "scaler.transform(ab_train[feature_scale])"
   ]
  },
  {
   "cell_type": "code",
   "execution_count": 42,
   "metadata": {},
   "outputs": [],
   "source": [
    "# transform the train and add on the Id and SalePrice variables\n",
    "scaled_features=pd.DataFrame(scaler.transform(ab_train[feature_scale]), columns=feature_scale)\n",
    "\n",
    "data_train=pd.concat([ab_train[['id','log_price']].reset_index(drop=True),\n",
    "                    scaled_features],axis=1)"
   ]
  },
  {
   "cell_type": "code",
   "execution_count": 43,
   "metadata": {},
   "outputs": [],
   "source": [
    "data_train.to_csv('train.csv',index=False)"
   ]
  },
  {
   "cell_type": "markdown",
   "metadata": {},
   "source": [
    "#### test data"
   ]
  },
  {
   "cell_type": "code",
   "execution_count": 44,
   "metadata": {},
   "outputs": [
    {
     "data": {
      "text/plain": [
       "array([[0.06666667, 0.125     , 1.        , ..., 1.        , 0.        ,\n",
       "        0.        ],\n",
       "       [0.2       , 0.125     , 1.        , ..., 0.        , 1.        ,\n",
       "        0.        ],\n",
       "       [0.06666667, 0.125     , 0.        , ..., 1.        , 0.        ,\n",
       "        0.        ],\n",
       "       ...,\n",
       "       [0.26666667, 0.125     , 1.        , ..., 1.        , 0.        ,\n",
       "        0.        ],\n",
       "       [0.06666667, 0.125     , 1.        , ..., 1.        , 0.        ,\n",
       "        0.        ],\n",
       "       [0.2       , 0.125     , 0.        , ..., 0.        , 1.        ,\n",
       "        0.        ]])"
      ]
     },
     "execution_count": 44,
     "metadata": {},
     "output_type": "execute_result"
    }
   ],
   "source": [
    "feature_scale_test=[feature for feature in ab_test.columns if feature not in ['id']]\n",
    "scaler.transform(ab_test[feature_scale_test])"
   ]
  },
  {
   "cell_type": "code",
   "execution_count": 45,
   "metadata": {},
   "outputs": [],
   "source": [
    "# transform the test and add on the Id variables\n",
    "scaled_features_test=pd.DataFrame(scaler.transform(ab_test[feature_scale_test]), columns=feature_scale_test)\n",
    "\n",
    "data_test=pd.concat([ab_test[['id']].reset_index(drop=True),\n",
    "                    scaled_features_test],axis=1)"
   ]
  },
  {
   "cell_type": "code",
   "execution_count": 46,
   "metadata": {},
   "outputs": [],
   "source": [
    "data_test.to_excel('test.xlsx',index=False)"
   ]
  },
  {
   "cell_type": "code",
   "execution_count": null,
   "metadata": {},
   "outputs": [],
   "source": []
  }
 ],
 "metadata": {
  "kernelspec": {
   "display_name": "Python 3",
   "language": "python",
   "name": "python3"
  },
  "language_info": {
   "codemirror_mode": {
    "name": "ipython",
    "version": 3
   },
   "file_extension": ".py",
   "mimetype": "text/x-python",
   "name": "python",
   "nbconvert_exporter": "python",
   "pygments_lexer": "ipython3",
   "version": "3.8.3"
  }
 },
 "nbformat": 4,
 "nbformat_minor": 4
}
