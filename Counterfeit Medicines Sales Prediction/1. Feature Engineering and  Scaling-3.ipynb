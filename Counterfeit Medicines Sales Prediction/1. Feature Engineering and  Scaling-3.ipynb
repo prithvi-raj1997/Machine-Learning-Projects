{
 "cells": [
  {
   "cell_type": "markdown",
   "metadata": {},
   "source": [
    "### Imports"
   ]
  },
  {
   "cell_type": "code",
   "execution_count": 1,
   "metadata": {},
   "outputs": [],
   "source": [
    "# Importing essential libraries\n",
    "\n",
    "import warnings\n",
    "warnings.filterwarnings('ignore')\n",
    "import numpy as np\n",
    "import pandas as pd\n",
    "import matplotlib.pyplot as plt\n",
    "import seaborn as sns\n",
    "%matplotlib inline\n",
    "\n",
    "# Display all the columns of the dataframe\n",
    "pd.pandas.set_option('display.max_columns',None)"
   ]
  },
  {
   "cell_type": "markdown",
   "metadata": {},
   "source": [
    "### Load in the Data and Examine"
   ]
  },
  {
   "cell_type": "code",
   "execution_count": 2,
   "metadata": {},
   "outputs": [],
   "source": [
    "# %%HTML\n",
    "# <style type=\"text/css\">\n",
    "# table.dataframe td, table.dataframe th {\n",
    "#     border: 1px  black solid !important;\n",
    "#   color: black !important;\n",
    "# }\n",
    "# </style>"
   ]
  },
  {
   "cell_type": "code",
   "execution_count": 3,
   "metadata": {},
   "outputs": [
    {
     "name": "stdout",
     "output_type": "stream",
     "text": [
      "shape of train data: (6818, 12)\n",
      "shape of test data: (1705, 11)\n"
     ]
    }
   ],
   "source": [
    "file_train=r'D:\\Machine Learning\\Python Projects\\Project-3\\counterfeit_train.csv'\n",
    "file_test=r'D:\\Machine Learning\\Python Projects\\Project-3\\counterfeit_test.csv'\n",
    "\n",
    "cf_train=pd.read_csv(file_train)\n",
    "cf_test=pd.read_csv(file_test)\n",
    "\n",
    "print('shape of train data: {}'.format(cf_train.shape))\n",
    "print('shape of test data: {}'.format(cf_test.shape))"
   ]
  },
  {
   "cell_type": "code",
   "execution_count": 4,
   "metadata": {},
   "outputs": [],
   "source": [
    "# cf_test does not have the outcome variable \n",
    "# In order to combine the two we will add the response variable to cf_test\n",
    "cf_test['Counterfeit_Sales']=np.nan"
   ]
  },
  {
   "cell_type": "markdown",
   "metadata": {},
   "source": [
    "Combine the two datasets to pre-process the data together since the data on which the model is trained should undergo the same preprocessing as the data on which the predictions are made"
   ]
  },
  {
   "cell_type": "code",
   "execution_count": 5,
   "metadata": {},
   "outputs": [
    {
     "data": {
      "text/html": [
       "<div>\n",
       "<style scoped>\n",
       "    .dataframe tbody tr th:only-of-type {\n",
       "        vertical-align: middle;\n",
       "    }\n",
       "\n",
       "    .dataframe tbody tr th {\n",
       "        vertical-align: top;\n",
       "    }\n",
       "\n",
       "    .dataframe thead th {\n",
       "        text-align: right;\n",
       "    }\n",
       "</style>\n",
       "<table border=\"1\" class=\"dataframe\">\n",
       "  <thead>\n",
       "    <tr style=\"text-align: right;\">\n",
       "      <th></th>\n",
       "      <th>Medicine_ID</th>\n",
       "      <th>Counterfeit_Weight</th>\n",
       "      <th>DistArea_ID</th>\n",
       "      <th>Active_Since</th>\n",
       "      <th>Medicine_MRP</th>\n",
       "      <th>Medicine_Type</th>\n",
       "      <th>SidEffect_Level</th>\n",
       "      <th>Availability_rating</th>\n",
       "      <th>Area_Type</th>\n",
       "      <th>Area_City_Type</th>\n",
       "      <th>Area_dist_level</th>\n",
       "      <th>Counterfeit_Sales</th>\n",
       "      <th>data</th>\n",
       "    </tr>\n",
       "  </thead>\n",
       "  <tbody>\n",
       "    <tr>\n",
       "      <th>0</th>\n",
       "      <td>RRA15</td>\n",
       "      <td>13.100</td>\n",
       "      <td>Area046</td>\n",
       "      <td>1995</td>\n",
       "      <td>160.2366</td>\n",
       "      <td>Antimalarial</td>\n",
       "      <td>critical</td>\n",
       "      <td>0.070422</td>\n",
       "      <td>DownTown</td>\n",
       "      <td>Tier 1</td>\n",
       "      <td>Small</td>\n",
       "      <td>1775.5026</td>\n",
       "      <td>train</td>\n",
       "    </tr>\n",
       "    <tr>\n",
       "      <th>1</th>\n",
       "      <td>YVV26</td>\n",
       "      <td>NaN</td>\n",
       "      <td>Area027</td>\n",
       "      <td>1983</td>\n",
       "      <td>110.4384</td>\n",
       "      <td>Mstablizers</td>\n",
       "      <td>mild</td>\n",
       "      <td>0.013000</td>\n",
       "      <td>CityLimits</td>\n",
       "      <td>Tier 3</td>\n",
       "      <td>Medium</td>\n",
       "      <td>3069.1520</td>\n",
       "      <td>train</td>\n",
       "    </tr>\n",
       "    <tr>\n",
       "      <th>2</th>\n",
       "      <td>LJC15</td>\n",
       "      <td>9.025</td>\n",
       "      <td>Area046</td>\n",
       "      <td>1995</td>\n",
       "      <td>259.4092</td>\n",
       "      <td>Cardiac</td>\n",
       "      <td>mild</td>\n",
       "      <td>0.060783</td>\n",
       "      <td>DownTown</td>\n",
       "      <td>Tier 1</td>\n",
       "      <td>Small</td>\n",
       "      <td>2603.0920</td>\n",
       "      <td>train</td>\n",
       "    </tr>\n",
       "    <tr>\n",
       "      <th>3</th>\n",
       "      <td>GWC40</td>\n",
       "      <td>11.800</td>\n",
       "      <td>Area046</td>\n",
       "      <td>1995</td>\n",
       "      <td>99.9830</td>\n",
       "      <td>OralContraceptives</td>\n",
       "      <td>mild</td>\n",
       "      <td>0.065555</td>\n",
       "      <td>DownTown</td>\n",
       "      <td>Tier 1</td>\n",
       "      <td>Small</td>\n",
       "      <td>1101.7130</td>\n",
       "      <td>train</td>\n",
       "    </tr>\n",
       "    <tr>\n",
       "      <th>4</th>\n",
       "      <td>QMN13</td>\n",
       "      <td>NaN</td>\n",
       "      <td>Area019</td>\n",
       "      <td>1983</td>\n",
       "      <td>56.4402</td>\n",
       "      <td>Hreplacements</td>\n",
       "      <td>critical</td>\n",
       "      <td>0.248859</td>\n",
       "      <td>MidTownResidential</td>\n",
       "      <td>Tier 1</td>\n",
       "      <td>Small</td>\n",
       "      <td>158.9402</td>\n",
       "      <td>train</td>\n",
       "    </tr>\n",
       "  </tbody>\n",
       "</table>\n",
       "</div>"
      ],
      "text/plain": [
       "  Medicine_ID  Counterfeit_Weight DistArea_ID  Active_Since  Medicine_MRP  \\\n",
       "0       RRA15              13.100     Area046          1995      160.2366   \n",
       "1       YVV26                 NaN     Area027          1983      110.4384   \n",
       "2       LJC15               9.025     Area046          1995      259.4092   \n",
       "3       GWC40              11.800     Area046          1995       99.9830   \n",
       "4       QMN13                 NaN     Area019          1983       56.4402   \n",
       "\n",
       "        Medicine_Type SidEffect_Level  Availability_rating  \\\n",
       "0        Antimalarial        critical             0.070422   \n",
       "1         Mstablizers            mild             0.013000   \n",
       "2             Cardiac            mild             0.060783   \n",
       "3  OralContraceptives            mild             0.065555   \n",
       "4       Hreplacements        critical             0.248859   \n",
       "\n",
       "            Area_Type Area_City_Type Area_dist_level  Counterfeit_Sales   data  \n",
       "0            DownTown         Tier 1           Small          1775.5026  train  \n",
       "1          CityLimits         Tier 3          Medium          3069.1520  train  \n",
       "2            DownTown         Tier 1           Small          2603.0920  train  \n",
       "3            DownTown         Tier 1           Small          1101.7130  train  \n",
       "4  MidTownResidential         Tier 1           Small           158.9402  train  "
      ]
     },
     "execution_count": 5,
     "metadata": {},
     "output_type": "execute_result"
    }
   ],
   "source": [
    "# creating identifier column for train and test\n",
    "cf_train['data']='train'\n",
    "cf_test['data']='test'\n",
    "\n",
    "# the columns in the two data frames should be in the same order to enable concatenation\n",
    "cf_test=cf_test[cf_train.columns] \n",
    "\n",
    "cf_all=pd.concat([cf_train,cf_test],axis=0)\n",
    "cf_all.head()"
   ]
  },
  {
   "cell_type": "code",
   "execution_count": 6,
   "metadata": {},
   "outputs": [
    {
     "name": "stdout",
     "output_type": "stream",
     "text": [
      "shape of overall data: (8523, 13)\n"
     ]
    }
   ],
   "source": [
    "cf=cf_all.copy()\n",
    "\n",
    "# Returns the number of Rows and Columns of overall data[both train and test]\n",
    "print('shape of overall data: {}'.format(cf_all.shape))"
   ]
  },
  {
   "cell_type": "markdown",
   "metadata": {},
   "source": [
    "### After analyzing each feature"
   ]
  },
  {
   "cell_type": "code",
   "execution_count": 7,
   "metadata": {},
   "outputs": [],
   "source": [
    "# 'Medicine_ID'---> Drop this column\n",
    "# 'Counterfeit_Weight'---> Replace missing values with median\n",
    "# 'DistArea_ID' ---> create dummies\n",
    "# 'Medicine_Type'---> create dummies\n",
    "# 'SidEffect_Level' --->create dummies\n",
    "# 'Area_Type'--->create dummies\n",
    "# 'Area_City_Type'---> create dummies\n",
    "# 'Area_dist_level'---> create dummies"
   ]
  },
  {
   "cell_type": "code",
   "execution_count": 8,
   "metadata": {},
   "outputs": [
    {
     "data": {
      "text/plain": [
       "['Medicine_ID',\n",
       " 'DistArea_ID',\n",
       " 'Medicine_Type',\n",
       " 'SidEffect_Level',\n",
       " 'Area_Type',\n",
       " 'Area_City_Type',\n",
       " 'Area_dist_level',\n",
       " 'data']"
      ]
     },
     "execution_count": 8,
     "metadata": {},
     "output_type": "execute_result"
    }
   ],
   "source": [
    "### Categorical Features\n",
    "categorical_features=[feature for feature in cf.columns if cf[feature].dtypes=='O']\n",
    "categorical_features\n"
   ]
  },
  {
   "cell_type": "code",
   "execution_count": 9,
   "metadata": {},
   "outputs": [
    {
     "name": "stdout",
     "output_type": "stream",
     "text": [
      "Before creating dummies: (8523, 13)\n"
     ]
    }
   ],
   "source": [
    "print('Before creating dummies: {}'.format(cf.shape))"
   ]
  },
  {
   "cell_type": "code",
   "execution_count": 10,
   "metadata": {},
   "outputs": [
    {
     "name": "stdout",
     "output_type": "stream",
     "text": [
      "DistArea_ID\n",
      "Medicine_Type\n",
      "SidEffect_Level\n",
      "Area_Type\n",
      "Area_City_Type\n",
      "Area_dist_level\n"
     ]
    }
   ],
   "source": [
    "for col in categorical_features[:-1]:\n",
    "    if col not in 'Medicine_ID':\n",
    "        freqs=cf[col].value_counts()\n",
    "        k=freqs.index[freqs>100][:-1]\n",
    "        for cat in k:\n",
    "            name=col+'_'+cat\n",
    "            cf[name]=(cf[col]==cat).astype(int)\n",
    "        del cf[col]\n",
    "        print(col)"
   ]
  },
  {
   "cell_type": "code",
   "execution_count": 11,
   "metadata": {},
   "outputs": [
    {
     "name": "stdout",
     "output_type": "stream",
     "text": [
      "Ater creating dummies: (8523, 39)\n"
     ]
    }
   ],
   "source": [
    "print('Ater creating dummies: {}'.format(cf.shape))"
   ]
  },
  {
   "cell_type": "code",
   "execution_count": 12,
   "metadata": {},
   "outputs": [
    {
     "data": {
      "text/plain": [
       "Medicine_ID                          object\n",
       "Counterfeit_Weight                  float64\n",
       "Active_Since                          int64\n",
       "Medicine_MRP                        float64\n",
       "Availability_rating                 float64\n",
       "Counterfeit_Sales                   float64\n",
       "data                                 object\n",
       "DistArea_ID_Area027                   int32\n",
       "DistArea_ID_Area013                   int32\n",
       "DistArea_ID_Area046                   int32\n",
       "DistArea_ID_Area049                   int32\n",
       "DistArea_ID_Area035                   int32\n",
       "DistArea_ID_Area045                   int32\n",
       "DistArea_ID_Area018                   int32\n",
       "DistArea_ID_Area017                   int32\n",
       "DistArea_ID_Area010                   int32\n",
       "Medicine_Type_Antibiotics             int32\n",
       "Medicine_Type_Hreplacements           int32\n",
       "Medicine_Type_Antiseptics             int32\n",
       "Medicine_Type_OralContraceptives      int32\n",
       "Medicine_Type_Antipyretics            int32\n",
       "Medicine_Type_Cardiac                 int32\n",
       "Medicine_Type_Mstablizers             int32\n",
       "Medicine_Type_Tranquilizers           int32\n",
       "Medicine_Type_Analgesics              int32\n",
       "Medicine_Type_Antimalarial            int32\n",
       "Medicine_Type_Antacids                int32\n",
       "Medicine_Type_Statins                 int32\n",
       "Medicine_Type_MuscleRelaxants         int32\n",
       "Medicine_Type_Antifungal              int32\n",
       "SidEffect_Level_mild                  int32\n",
       "Area_Type_DownTown                    int32\n",
       "Area_Type_MidTownResidential          int32\n",
       "Area_Type_CityLimits                  int32\n",
       "Area_City_Type_Tier 3                 int32\n",
       "Area_City_Type_Tier 2                 int32\n",
       "Area_dist_level_Medium                int32\n",
       "Area_dist_level_Unknown               int32\n",
       "Area_dist_level_Small                 int32\n",
       "dtype: object"
      ]
     },
     "execution_count": 12,
     "metadata": {},
     "output_type": "execute_result"
    }
   ],
   "source": [
    "cf.dtypes"
   ]
  },
  {
   "cell_type": "markdown",
   "metadata": {},
   "source": [
    "### Missing value"
   ]
  },
  {
   "cell_type": "code",
   "execution_count": 13,
   "metadata": {},
   "outputs": [
    {
     "name": "stdout",
     "output_type": "stream",
     "text": [
      "feature: ['Counterfeit_Weight', 'Counterfeit_Sales']\n",
      "Before treating Counterfeit_Weight: count 1463 values,17.2%  Missing values\n",
      "Before treating Counterfeit_Sales: count 1705 values,20.0%  Missing values\n"
     ]
    }
   ],
   "source": [
    "feature_with_nan=[feature for feature in cf.columns if cf[feature].isnull().sum()>1]\n",
    "print('feature: {}'.format(feature_with_nan))\n",
    "\n",
    "for feature in feature_with_nan:\n",
    "    print('Before treating {}: count {} values,{}%  Missing values'.format(feature,cf[feature].isnull().sum(),\n",
    "                                                          np.round(cf[feature].isnull().mean(),3)*100))"
   ]
  },
  {
   "cell_type": "code",
   "execution_count": 14,
   "metadata": {},
   "outputs": [],
   "source": [
    "# 'Counterfeit_Sales' has missing values because we created in the test data while combining.\n",
    "#  only 'Counterfeit_Weight' has missing values, Replace them with median\n",
    "cf.loc[cf['Counterfeit_Weight'].isnull(),'Counterfeit_Weight']=cf.loc[\n",
    "    cf['data']=='train','Counterfeit_Weight'].median()"
   ]
  },
  {
   "cell_type": "code",
   "execution_count": 15,
   "metadata": {},
   "outputs": [
    {
     "name": "stdout",
     "output_type": "stream",
     "text": [
      "After treating Counterfeit_Weight: count 0 values,0.0% Missing values\n",
      "After treating Counterfeit_Sales: count 1705 values,20.0% Missing values\n"
     ]
    }
   ],
   "source": [
    "for feature in feature_with_nan:\n",
    "    print('After treating {}: count {} values,{}% Missing values'.format(feature,cf[feature].isnull().sum(),\n",
    "                                                          np.round(cf[feature].isnull().mean(),3)*100))"
   ]
  },
  {
   "cell_type": "code",
   "execution_count": 16,
   "metadata": {},
   "outputs": [],
   "source": [
    "# Data preprocessing is complete - the data is in the expected format"
   ]
  },
  {
   "cell_type": "code",
   "execution_count": 17,
   "metadata": {},
   "outputs": [],
   "source": [
    "cf_copy=cf.copy()"
   ]
  },
  {
   "cell_type": "code",
   "execution_count": 18,
   "metadata": {},
   "outputs": [
    {
     "data": {
      "text/plain": [
       "Medicine_ID                            0\n",
       "Counterfeit_Weight                     0\n",
       "Active_Since                           0\n",
       "Medicine_MRP                           0\n",
       "Availability_rating                    0\n",
       "Counterfeit_Sales                   1705\n",
       "data                                   0\n",
       "DistArea_ID_Area027                    0\n",
       "DistArea_ID_Area013                    0\n",
       "DistArea_ID_Area046                    0\n",
       "DistArea_ID_Area049                    0\n",
       "DistArea_ID_Area035                    0\n",
       "DistArea_ID_Area045                    0\n",
       "DistArea_ID_Area018                    0\n",
       "DistArea_ID_Area017                    0\n",
       "DistArea_ID_Area010                    0\n",
       "Medicine_Type_Antibiotics              0\n",
       "Medicine_Type_Hreplacements            0\n",
       "Medicine_Type_Antiseptics              0\n",
       "Medicine_Type_OralContraceptives       0\n",
       "Medicine_Type_Antipyretics             0\n",
       "Medicine_Type_Cardiac                  0\n",
       "Medicine_Type_Mstablizers              0\n",
       "Medicine_Type_Tranquilizers            0\n",
       "Medicine_Type_Analgesics               0\n",
       "Medicine_Type_Antimalarial             0\n",
       "Medicine_Type_Antacids                 0\n",
       "Medicine_Type_Statins                  0\n",
       "Medicine_Type_MuscleRelaxants          0\n",
       "Medicine_Type_Antifungal               0\n",
       "SidEffect_Level_mild                   0\n",
       "Area_Type_DownTown                     0\n",
       "Area_Type_MidTownResidential           0\n",
       "Area_Type_CityLimits                   0\n",
       "Area_City_Type_Tier 3                  0\n",
       "Area_City_Type_Tier 2                  0\n",
       "Area_dist_level_Medium                 0\n",
       "Area_dist_level_Unknown                0\n",
       "Area_dist_level_Small                  0\n",
       "dtype: int64"
      ]
     },
     "execution_count": 18,
     "metadata": {},
     "output_type": "execute_result"
    }
   ],
   "source": [
    "cf_copy.isnull().sum()"
   ]
  },
  {
   "cell_type": "markdown",
   "metadata": {},
   "source": [
    "Let's separate our two data sets and remove the unnecessary columns that we added while combining them."
   ]
  },
  {
   "cell_type": "code",
   "execution_count": 19,
   "metadata": {},
   "outputs": [],
   "source": [
    "#Separate the train and test data\n",
    "cf_train=cf_copy[cf_copy['data']=='train']\n",
    "del cf_train['data']\n",
    "\n",
    "cf_test=cf_copy[cf_copy['data']=='test']\n",
    "cf_test.drop(['data','Counterfeit_Sales'],axis=1,inplace=True)"
   ]
  },
  {
   "cell_type": "code",
   "execution_count": 20,
   "metadata": {},
   "outputs": [
    {
     "name": "stdout",
     "output_type": "stream",
     "text": [
      "shape of train data after feature engineering: (6818, 38)\n",
      "shape of test data after feature engineering: (1705, 37)\n"
     ]
    }
   ],
   "source": [
    "print('shape of train data after feature engineering: {}'.format(cf_train.shape))\n",
    "print('shape of test data after feature engineering: {}'.format(cf_test.shape))"
   ]
  },
  {
   "cell_type": "markdown",
   "metadata": {},
   "source": [
    "### Feature Scaling"
   ]
  },
  {
   "cell_type": "code",
   "execution_count": 21,
   "metadata": {},
   "outputs": [],
   "source": [
    "from sklearn.preprocessing import MinMaxScaler\n",
    "scaler=MinMaxScaler()"
   ]
  },
  {
   "cell_type": "code",
   "execution_count": 22,
   "metadata": {},
   "outputs": [],
   "source": [
    "feature_scale_train=[feature for feature in cf_train.columns if feature not in ['Medicine_ID','Counterfeit_Sales']]"
   ]
  },
  {
   "cell_type": "code",
   "execution_count": 23,
   "metadata": {},
   "outputs": [
    {
     "data": {
      "text/plain": [
       "['Counterfeit_Weight',\n",
       " 'Active_Since',\n",
       " 'Medicine_MRP',\n",
       " 'Availability_rating',\n",
       " 'DistArea_ID_Area027',\n",
       " 'DistArea_ID_Area013',\n",
       " 'DistArea_ID_Area046',\n",
       " 'DistArea_ID_Area049',\n",
       " 'DistArea_ID_Area035',\n",
       " 'DistArea_ID_Area045',\n",
       " 'DistArea_ID_Area018',\n",
       " 'DistArea_ID_Area017',\n",
       " 'DistArea_ID_Area010',\n",
       " 'Medicine_Type_Antibiotics',\n",
       " 'Medicine_Type_Hreplacements',\n",
       " 'Medicine_Type_Antiseptics',\n",
       " 'Medicine_Type_OralContraceptives',\n",
       " 'Medicine_Type_Antipyretics',\n",
       " 'Medicine_Type_Cardiac',\n",
       " 'Medicine_Type_Mstablizers',\n",
       " 'Medicine_Type_Tranquilizers',\n",
       " 'Medicine_Type_Analgesics',\n",
       " 'Medicine_Type_Antimalarial',\n",
       " 'Medicine_Type_Antacids',\n",
       " 'Medicine_Type_Statins',\n",
       " 'Medicine_Type_MuscleRelaxants',\n",
       " 'Medicine_Type_Antifungal',\n",
       " 'SidEffect_Level_mild',\n",
       " 'Area_Type_DownTown',\n",
       " 'Area_Type_MidTownResidential',\n",
       " 'Area_Type_CityLimits',\n",
       " 'Area_City_Type_Tier 3',\n",
       " 'Area_City_Type_Tier 2',\n",
       " 'Area_dist_level_Medium',\n",
       " 'Area_dist_level_Unknown',\n",
       " 'Area_dist_level_Small']"
      ]
     },
     "execution_count": 23,
     "metadata": {},
     "output_type": "execute_result"
    }
   ],
   "source": [
    "feature_scale_train"
   ]
  },
  {
   "cell_type": "code",
   "execution_count": 24,
   "metadata": {},
   "outputs": [
    {
     "data": {
      "text/plain": [
       "MinMaxScaler()"
      ]
     },
     "execution_count": 24,
     "metadata": {},
     "output_type": "execute_result"
    }
   ],
   "source": [
    "scaler.fit(cf_train[feature_scale_train])"
   ]
  },
  {
   "cell_type": "code",
   "execution_count": 25,
   "metadata": {},
   "outputs": [],
   "source": [
    "# transform the train and add on the Id and SalePrice variables\n",
    "scaled_train=pd.DataFrame(scaler.transform(cf_train[feature_scale_train]),columns=feature_scale_train)\n",
    "\n",
    "data_train=pd.concat([cf_train[['Medicine_ID','Counterfeit_Sales']].reset_index(drop=True),\n",
    "                     scaled_train],axis=1)"
   ]
  },
  {
   "cell_type": "code",
   "execution_count": 26,
   "metadata": {},
   "outputs": [],
   "source": [
    "data_train.to_csv('train.csv',index=False)"
   ]
  },
  {
   "cell_type": "markdown",
   "metadata": {},
   "source": [
    "#### test data"
   ]
  },
  {
   "cell_type": "code",
   "execution_count": 27,
   "metadata": {},
   "outputs": [],
   "source": [
    "feature_scale_test=[feature for feature in cf_test.columns if feature not in ['Medicine_ID']]"
   ]
  },
  {
   "cell_type": "code",
   "execution_count": 28,
   "metadata": {},
   "outputs": [],
   "source": [
    "# transform the test and add on the Id variables\n",
    "scaled_test=pd.DataFrame(scaler.transform(cf_test[feature_scale_test]),columns=feature_scale_test)\n",
    "\n",
    "data_test=pd.concat([cf_test[['Medicine_ID']].reset_index(drop=True),\n",
    "                   scaled_test],axis=1)"
   ]
  },
  {
   "cell_type": "code",
   "execution_count": 31,
   "metadata": {},
   "outputs": [],
   "source": [
    "data_test.to_csv('test.csv',index=False)"
   ]
  },
  {
   "cell_type": "code",
   "execution_count": 32,
   "metadata": {},
   "outputs": [
    {
     "name": "stdout",
     "output_type": "stream",
     "text": [
      "<class 'pandas.core.frame.DataFrame'>\n",
      "RangeIndex: 6818 entries, 0 to 6817\n",
      "Data columns (total 38 columns):\n",
      " #   Column                            Non-Null Count  Dtype  \n",
      "---  ------                            --------------  -----  \n",
      " 0   Medicine_ID                       6818 non-null   object \n",
      " 1   Counterfeit_Sales                 6818 non-null   float64\n",
      " 2   Counterfeit_Weight                6818 non-null   float64\n",
      " 3   Active_Since                      6818 non-null   float64\n",
      " 4   Medicine_MRP                      6818 non-null   float64\n",
      " 5   Availability_rating               6818 non-null   float64\n",
      " 6   DistArea_ID_Area027               6818 non-null   float64\n",
      " 7   DistArea_ID_Area013               6818 non-null   float64\n",
      " 8   DistArea_ID_Area046               6818 non-null   float64\n",
      " 9   DistArea_ID_Area049               6818 non-null   float64\n",
      " 10  DistArea_ID_Area035               6818 non-null   float64\n",
      " 11  DistArea_ID_Area045               6818 non-null   float64\n",
      " 12  DistArea_ID_Area018               6818 non-null   float64\n",
      " 13  DistArea_ID_Area017               6818 non-null   float64\n",
      " 14  DistArea_ID_Area010               6818 non-null   float64\n",
      " 15  Medicine_Type_Antibiotics         6818 non-null   float64\n",
      " 16  Medicine_Type_Hreplacements       6818 non-null   float64\n",
      " 17  Medicine_Type_Antiseptics         6818 non-null   float64\n",
      " 18  Medicine_Type_OralContraceptives  6818 non-null   float64\n",
      " 19  Medicine_Type_Antipyretics        6818 non-null   float64\n",
      " 20  Medicine_Type_Cardiac             6818 non-null   float64\n",
      " 21  Medicine_Type_Mstablizers         6818 non-null   float64\n",
      " 22  Medicine_Type_Tranquilizers       6818 non-null   float64\n",
      " 23  Medicine_Type_Analgesics          6818 non-null   float64\n",
      " 24  Medicine_Type_Antimalarial        6818 non-null   float64\n",
      " 25  Medicine_Type_Antacids            6818 non-null   float64\n",
      " 26  Medicine_Type_Statins             6818 non-null   float64\n",
      " 27  Medicine_Type_MuscleRelaxants     6818 non-null   float64\n",
      " 28  Medicine_Type_Antifungal          6818 non-null   float64\n",
      " 29  SidEffect_Level_mild              6818 non-null   float64\n",
      " 30  Area_Type_DownTown                6818 non-null   float64\n",
      " 31  Area_Type_MidTownResidential      6818 non-null   float64\n",
      " 32  Area_Type_CityLimits              6818 non-null   float64\n",
      " 33  Area_City_Type_Tier 3             6818 non-null   float64\n",
      " 34  Area_City_Type_Tier 2             6818 non-null   float64\n",
      " 35  Area_dist_level_Medium            6818 non-null   float64\n",
      " 36  Area_dist_level_Unknown           6818 non-null   float64\n",
      " 37  Area_dist_level_Small             6818 non-null   float64\n",
      "dtypes: float64(37), object(1)\n",
      "memory usage: 2.0+ MB\n"
     ]
    }
   ],
   "source": [
    "data_train.info()"
   ]
  },
  {
   "cell_type": "code",
   "execution_count": null,
   "metadata": {},
   "outputs": [],
   "source": []
  },
  {
   "cell_type": "code",
   "execution_count": null,
   "metadata": {},
   "outputs": [],
   "source": []
  }
 ],
 "metadata": {
  "kernelspec": {
   "display_name": "Python 3",
   "language": "python",
   "name": "python3"
  },
  "language_info": {
   "codemirror_mode": {
    "name": "ipython",
    "version": 3
   },
   "file_extension": ".py",
   "mimetype": "text/x-python",
   "name": "python",
   "nbconvert_exporter": "python",
   "pygments_lexer": "ipython3",
   "version": "3.8.3"
  }
 },
 "nbformat": 4,
 "nbformat_minor": 4
}
